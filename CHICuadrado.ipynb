{
  "nbformat": 4,
  "nbformat_minor": 0,
  "metadata": {
    "colab": {
      "provenance": [],
      "authorship_tag": "ABX9TyMUWyTHJl2Hu+M9OraP0STG",
      "include_colab_link": true
    },
    "kernelspec": {
      "name": "python3",
      "display_name": "Python 3"
    },
    "language_info": {
      "name": "python"
    }
  },
  "cells": [
    {
      "cell_type": "markdown",
      "metadata": {
        "id": "view-in-github",
        "colab_type": "text"
      },
      "source": [
        "<a href=\"https://colab.research.google.com/github/fatima2020-lab/Simulacion-I/blob/main/CHICuadrado.ipynb\" target=\"_parent\"><img src=\"https://colab.research.google.com/assets/colab-badge.svg\" alt=\"Open In Colab\"/></a>"
      ]
    },
    {
      "cell_type": "markdown",
      "source": [
        "PRUEBA CHI-CUADRADO"
      ],
      "metadata": {
        "id": "wTuFHwi_g_01"
      }
    },
    {
      "cell_type": "code",
      "source": [
        "# Alumna: Martinez Arenas Fatima Areli\n",
        "\n",
        "## Pruba Chi Cuadrado\n",
        "\n",
        "# Librerias necesarias\n",
        "import numpy as np  # Librería numpy, manipular arrays y matrices, así como realizas operaciones\n",
        "import pandas as pd # Librería para la manipulación y el análisis de datos, tablas, series.\n",
        "from scipy.stats import chi2 # Librería para la estadística\n",
        "from tabulate import tabulate # Librería para mostrar tabla de manera estructurada\n",
        "\n",
        "# Lista de Datos de Muestra\n",
        "muestra = [0.78961, 0.05230, 0.10699, 0.55877, 0.14151, 0.76086, 0.12079, 0.27738, 0.65726,\n",
        "    0.79269, 0.80548, 0.82654, 0.29453, 0.20852, 0.42989, 0.58518, 0.98611, 0.34488,\n",
        "    0.34358, 0.11537, 0.89898, 0.57880, 0.67621, 0.05010, 0.00121, 0.28269, 0.73059,\n",
        "    0.70119, 0.18284, 0.49962, 0.38618, 0.76910, 0.68334, 0.55170, 0.10850, 0.79982,\n",
        "    0.45679, 0.21631, 0.87616, 0.55743, 0.58962, 0.33216, 0.03185, 0.61168, 0.09264,\n",
        "    0.69623, 0.17028, 0.05475, 0.91512, 0.76262, 0.29931, 0.30861, 0.83358, 0.51781,\n",
        "    0.03272, 0.57410, 0.26593, 0.85903, 0.43398, 0.35286, 0.24000, 0.65559, 0.38507,\n",
        "    0.90829, 0.94187, 0.93655, 0.88809, 0.81772, 0.36982, 0.19904, 0.54325, 0.62400,\n",
        "    0.09133, 0.41678, 0.33954, 0.58244, 0.85853, 0.88752, 0.33729, 0.15506, 0.23949,\n",
        "    0.53559, 0.33381, 0.49383, 0.75103, 0.19962, 0.65002, 0.74579, 0.79113, 0.63453,\n",
        "    0.19147, 0.40644, 0.08128, 0.73435, 0.22724, 0.22287, 0.07281, 0.64183, 0.44267,\n",
        "    0.72102]\n",
        "\n",
        "# Definir los límites de las categoria:\n",
        "bins = [0, 0.19999, 0.39999, 0.59999, 0.79999, 0.99999]\n",
        "labels = ['0-0.19999', '0.2-0.39999', '0.4-0.59999', '0.6-0.79999', '0.8-0.99999']\n",
        "categorias = pd.cut(muestra, bins=bins, labels=labels, right=False)\n",
        "\n",
        "\n",
        "# Crear tabla de frecuencia\n",
        "tabla_frecuencia = pd.value_counts(categorias)\n",
        "\n",
        "# Frecuenacias esperadas (distribución uniforme entre las categorias)\n",
        "total = len(muestra)         # Numero total de datos en la muestra\n",
        "numero_bins = len(bins) - 1  # Numero de bins (categorías)\n",
        "frecuencia_esperada = total / numero_bins\n",
        "\n",
        "# Lista con los datos que se mostraran en la tabla\n",
        "chi_cuadrada_resultados = []\n",
        "\n",
        "# Se llena con las categorías:\n",
        "# - El rango de números\n",
        "# - La frecuencia observada\n",
        "# - La frecuencia esperda\n",
        "# - el valor de chi-cuadrada\n",
        "\n",
        "# LLenar lista con resultados\n",
        "for bin_range, freq in tabla_frecuencia.items():\n",
        "    # Calculo de Chi Cuadrada para cada categoría\n",
        "    chi_cuadrada_valor = (((freq -  frecuencia_esperada) ** 2) / frecuencia_esperada)\n",
        "    chi_cuadrada_resultados.append([str(bin_range), freq, frecuencia_esperada, chi_cuadrada_valor])\n",
        "\n",
        "# Ordenar los resultados de acuerdo con los intervalos\n",
        "chi_cuadrada_resultados.sort(key=lambda x: x[0])\n",
        "# Mostrar Resultados\n",
        "# Función para imprimir el ciclo de vida de la semilla y los números generados\n",
        "def imprimir_chi_cuadrada(chi_cuadrada_resutados):\n",
        "    \"\"\"\n",
        "    Imprime una tabla con los resultados de la prueba de chi-cuadrado de manera estructurada.\n",
        "\n",
        "    :param chi_cuadrada_resultados: Lista con los resultados de chi-cuadrado\n",
        "    \"\"\"\n",
        "    # Imprimir la tabla usand tabulate\n",
        "    headers = [\"Numeros\", \"Frecuencia Observada\", \"Frecuencia Esperada\", \"Chi Cuadrada\"]\n",
        "    print(tabulate(chi_cuadrada_resultados, headers=headers, tablefmt=\"grid\"))\n",
        "\n",
        "# Llamar a la función para mostrar la tabla\n",
        "imprimir_chi_cuadrada(chi_cuadrada_resultados)\n",
        "\n",
        "# Calcular el estadistico chi Cuadrada total\n",
        "chi_cuadrada_total = sum([row[3] for row in chi_cuadrada_resultados])\n",
        "\n",
        "# Calcular el grado de libertad\n",
        "grados_libertad = len(tabla_frecuencia) -1\n",
        "\n",
        "# Obtener el valor de p\n",
        "p_valor = 1 - chi2.cdf(chi_cuadrada_total, grados_libertad)\n",
        "\n",
        "# Mostrar los resultados finales\n",
        "print(\"\\nEstadístico Chi-Cuadrado total:\")\n",
        "print(chi_cuadrada_total)\n",
        "print(\"\\nValor de p:\")\n",
        "print(p_valor)\n",
        "\n",
        "# Interpretación\n",
        "alpha = 0.05     # Nivel de significancia\n",
        "\n",
        "if p_valor < alpha:\n",
        "    print(\"\\nSe rechaza la hipótesis nula. Las categorías tienen una distribución diferente.\")\n",
        "    print(\"Los datos no son independientes.\")\n",
        "else:\n",
        "    # Si el valor de p es mayor que alpha, no se rechaza la hipótesis nula, por lo que las categorías tienen una distibución similar y los datos son independientes.\n",
        "    print(\"\\nNo se rechaza la hpótesis nula. Las categorias tienen una distribución similar.\")\n",
        "    print(\"Los datos son independientes.\")"
      ],
      "metadata": {
        "colab": {
          "base_uri": "https://localhost:8080/"
        },
        "id": "PVxfynXfhS32",
        "outputId": "f26a74c2-c54c-42aa-854a-6c9979635156"
      },
      "execution_count": 20,
      "outputs": [
        {
          "output_type": "stream",
          "name": "stdout",
          "text": [
            "+-------------+------------------------+-----------------------+----------------+\n",
            "| Numeros     |   Frecuencia Observada |   Frecuencia Esperada |   Chi Cuadrada |\n",
            "+=============+========================+=======================+================+\n",
            "| 0-0.19999   |                     21 |                    20 |           0.05 |\n",
            "+-------------+------------------------+-----------------------+----------------+\n",
            "| 0.2-0.39999 |                     22 |                    20 |           0.2  |\n",
            "+-------------+------------------------+-----------------------+----------------+\n",
            "| 0.4-0.59999 |                     19 |                    20 |           0.05 |\n",
            "+-------------+------------------------+-----------------------+----------------+\n",
            "| 0.6-0.79999 |                     23 |                    20 |           0.45 |\n",
            "+-------------+------------------------+-----------------------+----------------+\n",
            "| 0.8-0.99999 |                     15 |                    20 |           1.25 |\n",
            "+-------------+------------------------+-----------------------+----------------+\n",
            "\n",
            "Estadístico Chi-Cuadrado total:\n",
            "2.0\n",
            "\n",
            "Valor de p:\n",
            "0.7357588823428847\n",
            "\n",
            "No se rechaza la hpótesis nula. Las categorias tienen una distribución similar.\n",
            "Los datos son independientes.\n"
          ]
        },
        {
          "output_type": "stream",
          "name": "stderr",
          "text": [
            "<ipython-input-20-5ffc1d1fe899>:32: FutureWarning: pandas.value_counts is deprecated and will be removed in a future version. Use pd.Series(obj).value_counts() instead.\n",
            "  tabla_frecuencia = pd.value_counts(categorias)\n"
          ]
        }
      ]
    }
  ]
}