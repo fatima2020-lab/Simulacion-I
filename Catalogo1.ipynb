{
  "nbformat": 4,
  "nbformat_minor": 0,
  "metadata": {
    "colab": {
      "provenance": [],
      "collapsed_sections": [
        "iFDDnbdBP4ya",
        "FMLUqfVCQ5YI",
        "VnDBqSYG6E9K",
        "Jw3kUnMwBTEf",
        "Wl2z6wesAay_",
        "h1Jt1d-KYqNX",
        "2M2LLaQBZoEr",
        "mjlPKUsD-5FP"
      ],
      "authorship_tag": "ABX9TyO2hnSu1HFTSR4otBAzmTk4",
      "include_colab_link": true
    },
    "kernelspec": {
      "name": "python3",
      "display_name": "Python 3"
    },
    "language_info": {
      "name": "python"
    }
  },
  "cells": [
    {
      "cell_type": "markdown",
      "metadata": {
        "id": "view-in-github",
        "colab_type": "text"
      },
      "source": [
        "<a href=\"https://colab.research.google.com/github/fatima2020-lab/Simulacion-I/blob/main/Catalogo1.ipynb\" target=\"_parent\"><img src=\"https://colab.research.google.com/assets/colab-badge.svg\" alt=\"Open In Colab\"/></a>"
      ]
    },
    {
      "cell_type": "markdown",
      "source": [
        "# CATÁLOGO DE DISTRIBUCIONES"
      ],
      "metadata": {
        "id": "GXyLN8EAPO1w"
      }
    },
    {
      "cell_type": "markdown",
      "source": [
        "*   *Distribuciones Continuas*\n",
        "*   *Distribuciones Discretas*"
      ],
      "metadata": {
        "id": "OeWb_SbBPVqf"
      }
    },
    {
      "cell_type": "markdown",
      "source": [
        "# Distribuciones Continuas"
      ],
      "metadata": {
        "id": "dDBT8E7dPawW"
      }
    },
    {
      "cell_type": "markdown",
      "source": [
        "## *1. Distribución Uniforme*\n",
        "\n",
        "\n"
      ],
      "metadata": {
        "id": "iFDDnbdBP4ya"
      }
    },
    {
      "cell_type": "markdown",
      "source": [
        "\n",
        "\n",
        "---\n",
        "*Nomenclatura:* $X \\sim U(a,b)$\n",
        "\n",
        "\n",
        "---\n",
        "*Función de Densidad: *\n",
        "\n",
        "Si $X\\sim U(a,b)$ entonces, la función de densidad es:\n",
        "\n",
        "$$\n",
        "f(x)=\\begin{cases}\n",
        "\\frac{1}{b-a}&\\text{para } a\\leq x\\leq b, \\\\\n",
        "0 & \\text{para } x<a \\text{ o } x>b\n",
        "\\end{cases}\n",
        "$$\n",
        "\n",
        "\n",
        "![PDF Uniforme](https://upload.wikimedia.org/wikipedia/commons/9/96/Uniform_Distribution_PDF_SVG.svg)\n",
        "\n",
        "---\n",
        "\n",
        "\n",
        "*Funcion de Distribución Acumulativa:*\n",
        "\n",
        "Si $X\\sim U(a,b)$ entonces, la función de distribuciín acumulativa es:\n",
        "\n",
        "$$\n",
        "F(x)=\\begin{cases}\n",
        "0, & \\text{para } x<a \\\\\n",
        "\\frac{x-a}{b-a},&\\text{para } a\\leq x\\leq b, \\\\\n",
        "1 & \\text{para }  x\\geq b\n",
        "\\end{cases}\n",
        "$$\n",
        "\n",
        "![CDF Uniforme](https://upload.wikimedia.org/wikipedia/commons/thumb/6/63/Uniform_cdf.svg/1024px-Uniform_cdf.svg.png)\n",
        "\n",
        "---\n",
        "\n",
        "*Media:*\n",
        "$$\n",
        " μ = \\frac{a+b}{2}\n",
        "$$\n",
        "\n",
        "---\n",
        "\n",
        "*Varianza:*\n",
        "$$\n",
        "σ^2=\\frac{(b-a)^2}{12}\n",
        "$$\n",
        "\n",
        "---\n",
        "\n",
        "*Desviación Estándar:*\n",
        "$$\n",
        "𝜎=\\sqrt{\\frac{(b-a)^2}{12}}\n",
        "$$\n",
        "\n",
        "---\n",
        "\n",
        "*Pseudocódigo:*\n",
        "\n",
        "```\n",
        "# Método de Transformada Inversa\n",
        "# Función Uniforme_Continua(n)\n",
        "     \\\\ Entrada:\n",
        "          - n: Número de muestras\n",
        "          - a: límite inferior\n",
        "          - b: límite superior\n",
        "     \\\\ Salida:\n",
        "          -  número real x con ditribución Unirforme Continua en (a,b)\n",
        "\n",
        "     Inicio de lista: Lista vacía\n",
        "\n",
        "     Para i desde 1 hasta n hacer\n",
        "       a. R: número aleatorio entre 0 y 1\n",
        "       b. x = a + (b - 1) * R\n",
        "       c. Agregar x a Lista\n",
        "     Fin Para\n",
        "\n",
        "     Retornar Lista\n",
        "```\n",
        "---\n",
        "*Código:*\n",
        "\n",
        "\n",
        "\n",
        "\n",
        "\n",
        "\n",
        "\n",
        "\n",
        "\n",
        "\n"
      ],
      "metadata": {
        "id": "cBspqHAAQJ0-"
      }
    },
    {
      "cell_type": "code",
      "source": [
        "# Definir los paquetes a utilizar:\n",
        "import numpy as np\n",
        "import matplotlib.pyplot as plt\n",
        "import random as rd"
      ],
      "metadata": {
        "id": "XI9_tlmQQcZH"
      },
      "execution_count": null,
      "outputs": []
    },
    {
      "cell_type": "code",
      "source": [
        "# Definir parametros para los limites (a, b) de la Distribucipon Uniforme Continua, ejemplo:\n",
        "a = 1\n",
        "b = 5"
      ],
      "metadata": {
        "id": "0i2KRKJNY1x8"
      },
      "execution_count": null,
      "outputs": []
    },
    {
      "cell_type": "code",
      "source": [
        "# Definir función de la Distribución Uniforme con :\n",
        "def Uniforme_Continua(n):\n",
        "  lista = []\n",
        "  for i in range(n):\n",
        "    R = rd.random()    # Números aleatorios entre 0 y 1\n",
        "    x = a + (b-1) * R  # Transformada Inversa\n",
        "    lista.append(x)\n",
        "  return lista"
      ],
      "metadata": {
        "id": "XMR_68hqQiCN"
      },
      "execution_count": null,
      "outputs": []
    },
    {
      "cell_type": "code",
      "source": [
        "# Llamar a la funcion Uniforme(n) y dar valor a n (numéro de muestras), ejemplo:\n",
        "n = 1000\n",
        "resultado = Uniforme_Continua(n)\n"
      ],
      "metadata": {
        "id": "WpyFfk9vQk5n"
      },
      "execution_count": null,
      "outputs": []
    },
    {
      "cell_type": "code",
      "source": [
        "# Gráficar a la Distribución Uniforme por medio de un histograma:\n",
        "plt.hist(resultado, bins = 20, color = 'skyblue')\n",
        "plt.title('Distribución Uniforme Continua')\n",
        "plt.xlabel('Valores')\n",
        "plt.ylabel('Frecuencia')\n",
        "plt.grid(True)\n",
        "plt.show()"
      ],
      "metadata": {
        "id": "YPxsyoj-Qot6",
        "colab": {
          "base_uri": "https://localhost:8080/",
          "height": 472
        },
        "outputId": "981b672b-0d46-4830-c1c1-373b0e8f9b8c"
      },
      "execution_count": null,
      "outputs": [
        {
          "output_type": "display_data",
          "data": {
            "text/plain": [
              "<Figure size 640x480 with 1 Axes>"
            ],
            "image/png": "[encoded data removed]"
          },
          "metadata": {}
        }
      ]
    },
    {
      "cell_type": "code",
      "source": [
        "# Calcular la media de la Distribución Uniforme Continua:\n",
        "media = np.mean(resultado)\n",
        "print(media)"
      ],
      "metadata": {
        "id": "AzZrB-2_Qpnl",
        "colab": {
          "base_uri": "https://localhost:8080/"
        },
        "outputId": "5990a2d5-77b4-4f28-a381-afb662a961c8"
      },
      "execution_count": null,
      "outputs": [
        {
          "output_type": "stream",
          "name": "stdout",
          "text": [
            "2.9981474790133684\n"
          ]
        }
      ]
    },
    {
      "cell_type": "code",
      "source": [
        "# Calcular la varianza de la Distribución Uniforme Continua:\n",
        "varianza = np.var(resultado)\n",
        "print(varianza)"
      ],
      "metadata": {
        "id": "XE0JnwKsQt8j",
        "colab": {
          "base_uri": "https://localhost:8080/"
        },
        "outputId": "196465fc-fd2c-457c-b8ac-2b13499b28e0"
      },
      "execution_count": null,
      "outputs": [
        {
          "output_type": "stream",
          "name": "stdout",
          "text": [
            "1.3175346748578276\n"
          ]
        }
      ]
    },
    {
      "cell_type": "code",
      "source": [
        "# Calcula la desviación estandar de la Distribución Uniforme Continua:\n",
        "sigma = np.sqrt(varianza)\n",
        "print(sigma)"
      ],
      "metadata": {
        "id": "HfKi0jOoQu8m",
        "colab": {
          "base_uri": "https://localhost:8080/"
        },
        "outputId": "5e759f00-26db-43e7-8967-800485ee731f"
      },
      "execution_count": null,
      "outputs": [
        {
          "output_type": "stream",
          "name": "stdout",
          "text": [
            "1.1478391328308282\n"
          ]
        }
      ]
    },
    {
      "cell_type": "markdown",
      "source": [
        "---"
      ],
      "metadata": {
        "id": "hr_7V-LiQ37u"
      }
    },
    {
      "cell_type": "markdown",
      "source": [
        "## *2. Distribución Triangular*"
      ],
      "metadata": {
        "id": "FMLUqfVCQ5YI"
      }
    },
    {
      "cell_type": "markdown",
      "source": [
        "\n",
        "\n",
        "---\n",
        "*Nomenclatura:* $X \\sim Tri(a,b,c)$\n",
        "\n",
        "\n",
        "---\n",
        "*Función de Densidad: *\n",
        "\n",
        "Si $X\\sim U(a,b,c)$ entonces, la función de densidad es:\n",
        "\n",
        "$$\n",
        "f(x)=\\begin{cases}\n",
        "\\frac{2(x-a)}{(c-a)(b-a)}, &\\text{para } a\\leq x\\leq b, \\\\\n",
        "\\frac{-2(x-c)}{(c-a)(c-b)}, & \\text{para } b\\leq x \\leq c\n",
        "\\end{cases}\n",
        "$$\n",
        "![PDF Triangular](https://upload.wikimedia.org/wikipedia/commons/thumb/4/45/Triangular_distribution_PMF.png/800px-Triangular_distribution_PMF.png)\n",
        "\n",
        "---\n",
        "\n",
        "\n",
        "*Funcion de Distribución Acumulativa:*\n",
        "\n",
        "Si $X\\sim U(a,b,c)$ entonces, la función de distribuciín acumulativa es:\n",
        "\n",
        "$$\n",
        "F(x)=\\begin{cases}\n",
        "\\frac{(x-a)^2}{(c-a)(c-b)}, & \\text{para } a\\leq x\\leq b \\\\\n",
        "\\frac{(x-c)^2}{(c-a)(b-c)}, &\\text{para } b\\leq x\\leq c \\\\\n",
        "\\end{cases}\n",
        "$$\n",
        "![CDF Triangular](https://upload.wikimedia.org/wikipedia/commons/thumb/e/e5/Triangular_distribution_CMF.png/800px-Triangular_distribution_CMF.png)\n",
        "\n",
        "\n",
        "\n",
        "---\n",
        "*Media:*\n",
        "$$\n",
        " μ = \\frac{a+b+c}{3}\n",
        "$$\n",
        "\n",
        "---\n",
        "\n",
        "*Varianza:*\n",
        "$$\n",
        "σ^2=\\frac{a^2+b^2+c^2-ab-ac-bc}{18}\n",
        "$$\n",
        "\n",
        "---\n",
        "\n",
        "*Desviación Estándar:*\n",
        "$$\n",
        "𝜎=\\sqrt{\\frac{a^2+b^2+c^2-ab-ac-bc}{18}}\n",
        "$$\n",
        "\n",
        "---\n",
        "\n",
        "*Pseudocódigo:*\n",
        "\n",
        "\n",
        "```\n",
        "# Función Triangular(n)\n",
        "     \\\\ Entrada:\n",
        "          - n: Número de muestras\n",
        "          - a: límite mínimo\n",
        "          - b: límite de en medio\n",
        "          - c: límite máximo\n",
        "     \\\\ Salida:\n",
        "          -  número real x con ditribución trinagular en (a,b,c)\n",
        "\n",
        "     Inicio de lista: Lista vacía\n",
        "\n",
        "     Para i desde 1 hasta n hacer\n",
        "       a. R: número aleatorio entre 0 y 1\n",
        "       b. F = (c-a) / (b-a)   // punto de cambio\n",
        "\n",
        "       c. Si R < F entonces\n",
        "            x = a + raíz(R * (b - a) * (c - a))\n",
        "          Si no\n",
        "            x = b - raíz((1 - R) * (b - a) * (b - c))\n",
        "          Fin Si\n",
        "       d. Agregar x a Lista\n",
        "      \n",
        "     Fin Para\n",
        "           \n",
        "\n",
        "     Retornar Lista\n",
        "```\n",
        "---\n",
        "*Código:*\n",
        "\n",
        "\n",
        "\n",
        "\n",
        "\n",
        "\n",
        "\n",
        "\n",
        "\n"
      ],
      "metadata": {
        "id": "zAitcjb7ROCj"
      }
    },
    {
      "cell_type": "code",
      "source": [
        "# Definir los paquetes a utilizar:\n",
        "import numpy as np\n",
        "import matplotlib.pyplot as plt\n",
        "import random as rd"
      ],
      "metadata": {
        "id": "U10gVGf8YjtC"
      },
      "execution_count": null,
      "outputs": []
    },
    {
      "cell_type": "code",
      "source": [
        "# Definir parametros para los límites (a, b, c) de la Distribución Triangular, ejemplo:\n",
        "a = 3\n",
        "b = 5\n",
        "c = 7"
      ],
      "metadata": {
        "id": "Q0dgzrDQZQCf"
      },
      "execution_count": null,
      "outputs": []
    },
    {
      "cell_type": "code",
      "source": [
        "# Definir función de la Distribución TRiangular:\n",
        "def Triangular(n):\n",
        "  lista = []\n",
        "  for i in range(n):\n",
        "    R = rd.random()    # Números aleatorios entre 0 y 1\n",
        "    F = (c-a) / (b-a)  # Punto de cambio\n",
        "    if R < F:\n",
        "      x = a + np.sqrt(R * (b - a) * ( c -a))  # Transformada inversa.\n",
        "    else:\n",
        "      x = b - np.sqrt((1 - R) * (b - a) * (b-c))\n",
        "    lista.append(x)\n",
        "  return lista"
      ],
      "metadata": {
        "id": "I_e9D7yQYk1N"
      },
      "execution_count": null,
      "outputs": []
    },
    {
      "cell_type": "code",
      "source": [
        "# Llamar a la funcion Triangular(n) y dar valor a n (numéro de muestras), ejemplo:\n",
        "n = 1000\n",
        "t = Triangular(n)"
      ],
      "metadata": {
        "id": "d1gC11orYlAP"
      },
      "execution_count": null,
      "outputs": []
    },
    {
      "cell_type": "code",
      "source": [
        "# Gráficar a la Distribución Triangular por medio de un histograma:\n",
        "plt.hist(t, bins = 20, color = 'skyblue')\n",
        "plt.title('Distribución Triangular')\n",
        "plt.xlabel('Valores')\n",
        "plt.ylabel('Frecuencia')\n",
        "plt.grid(True)\n",
        "plt.show()"
      ],
      "metadata": {
        "colab": {
          "base_uri": "https://localhost:8080/",
          "height": 472
        },
        "id": "kKuaktpHYlKO",
        "outputId": "c0446597-7195-4740-cf28-6e3f0068c9e9"
      },
      "execution_count": null,
      "outputs": [
        {
          "output_type": "display_data",
          "data": {
            "text/plain": [
              "<Figure size 640x480 with 1 Axes>"
            ],
            "image/png": "[encoded data removed]"
          },
          "metadata": {}
        }
      ]
    },
    {
      "cell_type": "code",
      "source": [
        "# Calcular la media de la Distribución Triangular:\n",
        "media = np.mean(t)\n",
        "print(media)"
      ],
      "metadata": {
        "colab": {
          "base_uri": "https://localhost:8080/"
        },
        "id": "-2y21rfXYlWw",
        "outputId": "a8348fa2-bb9c-4abd-c5b6-3704f20ed262"
      },
      "execution_count": null,
      "outputs": [
        {
          "output_type": "stream",
          "name": "stdout",
          "text": [
            "4.897110232359351\n"
          ]
        }
      ]
    },
    {
      "cell_type": "code",
      "source": [
        "# Calcular la varianza de la Distribución Triangular:\n",
        "varianza = np.mean(t)\n",
        "print(varianza)"
      ],
      "metadata": {
        "colab": {
          "base_uri": "https://localhost:8080/"
        },
        "id": "dl3l_YtBaRa1",
        "outputId": "8394a8db-1deb-46e4-c58b-3640cb04f65a"
      },
      "execution_count": null,
      "outputs": [
        {
          "output_type": "stream",
          "name": "stdout",
          "text": [
            "4.897110232359351\n"
          ]
        }
      ]
    },
    {
      "cell_type": "code",
      "source": [
        "# Calcular la desviación estandar de la Distribución Triangular:\n",
        "sig = np.sqrt(varianza)\n",
        "print(sig)"
      ],
      "metadata": {
        "colab": {
          "base_uri": "https://localhost:8080/"
        },
        "id": "O1RM17WlaaGq",
        "outputId": "72365641-a8ce-4d0f-ecc0-93d906ab7024"
      },
      "execution_count": null,
      "outputs": [
        {
          "output_type": "stream",
          "name": "stdout",
          "text": [
            "2.21294153387733\n"
          ]
        }
      ]
    },
    {
      "cell_type": "markdown",
      "source": [
        "---"
      ],
      "metadata": {
        "id": "2T6rTvmTmrWc"
      }
    },
    {
      "cell_type": "markdown",
      "source": [
        "## *3. Distribución Exponencial*"
      ],
      "metadata": {
        "id": "HmzgQ3AJPxGa"
      }
    },
    {
      "cell_type": "markdown",
      "source": [
        "\n",
        "\n",
        "---\n",
        "\n",
        "*Nomenclatura:* $X \\sim Exp(λ)$\n",
        "\n",
        "donde:\n",
        "\n",
        "\n",
        "*   $λ > 0$: Parámetro de tasa\n",
        "\n",
        "\n",
        "\n",
        "\n",
        "---\n",
        "\n",
        "*Función de Densidad:*\n",
        "\n",
        "Si $X\\sim Exp(λ)$ entonces, la función de densidad es:\n",
        "\n",
        "$$\n",
        "f(x)=\\begin{cases}\n",
        "λe^{-λx}, &\\text{para } x\\geq 0 \\\\\n",
        "0, & \\text{para } x< 0\n",
        "\\end{cases}\n",
        "$$\n",
        "\n",
        "![PDF Exponencial](https://upload.wikimedia.org/wikipedia/commons/thumb/e/ec/Exponential_pdf.svg/800px-Exponential_pdf.svg.png)\n",
        "\n",
        "\n",
        "\n",
        "---\n",
        "\n",
        "\n",
        "*Funcion de Distribución Acumulativa:*\n",
        "\n",
        "Si $X\\sim Exp(λ)$ entonces, la función de distribuciín acumulativa es:\n",
        "\n",
        "$$\n",
        "F(x)=\\begin{cases}\n",
        "1-e^{-λx}, & \\text{para } x\\geq 0 \\\\\n",
        "0, &\\text{para } x<0\n",
        "\\end{cases}\n",
        "$$\n",
        "\n",
        "![CDF Exponencial](https://upload.wikimedia.org/wikipedia/commons/thumb/b/ba/Exponential_cdf.svg/800px-Exponential_cdf.svg.png)\n",
        "\n",
        "---\n",
        "*Media:*\n",
        "$$\n",
        " μ = \\frac{1}{λ}\n",
        "$$\n",
        "\n",
        "---\n",
        "\n",
        "*Varianza:*\n",
        "$$\n",
        "σ^2=\\frac{1}{λ^2}\n",
        "$$\n",
        "\n",
        "---\n",
        "\n",
        "*Desviación Estándar:*\n",
        "\n",
        "$$\n",
        "𝜎=\\frac{1}{λ}\n",
        "$$\n",
        "\n",
        "---\n",
        "\n",
        "*Pseudocódigo:*\n",
        "\n",
        "\n",
        "```\n",
        "# Método de Transformada Inversa\n",
        "# Función Exponencial(n)\n",
        "     \\\\ Entrada:\n",
        "          - n: Número de muestras\n",
        "          - λ: Parámetro de tasa (λ < 0)\n",
        "     \\\\ Salida:\n",
        "          -  número real x con ditribución exponencial en (λ)\n",
        "\n",
        "     Inicio de lista: Lista vacía\n",
        "\n",
        "     Para i desde 1 hasta n hacer\n",
        "       a. R: número aleatorio entre 0 y 1\n",
        "       b. x = - (1 / λ) * In(R)\n",
        "       c. Agregar x a Lista\n",
        "      \n",
        "     Fin Para\n",
        "           \n",
        "\n",
        "     Retornar Lista\n",
        "```\n",
        "---\n",
        "*Código:*\n",
        "\n",
        "\n",
        "\n",
        "\n",
        "\n",
        "\n",
        "\n",
        "\n",
        "\n"
      ],
      "metadata": {
        "id": "Xus34r29b0aw"
      }
    },
    {
      "cell_type": "code",
      "source": [
        "# Definir los paquetes a utilizar:\n",
        "import numpy as np\n",
        "import matplotlib.pyplot as plt\n",
        "import random as rd"
      ],
      "metadata": {
        "id": "FJYK1L99g3nx"
      },
      "execution_count": null,
      "outputs": []
    },
    {
      "cell_type": "code",
      "source": [
        "# Definir parametros para lambda > 0 de la Distribución exponencial, ejemplo:\n",
        "lam = 4"
      ],
      "metadata": {
        "id": "kpJjYVQjg30Y"
      },
      "execution_count": null,
      "outputs": []
    },
    {
      "cell_type": "code",
      "source": [
        "# Definir función de la Distribución Exponencial:\n",
        "def Exponencial(n):\n",
        "  lista = []\n",
        "  for i in range(n):\n",
        "    R = rd.random()    # Números aleatorios entre 0 y 1\n",
        "    x = - ( 1 / lam) * np.log(R)   # Transformada Inversa\n",
        "    lista.append(x)\n",
        "  return lista"
      ],
      "metadata": {
        "id": "IyqEQWn1g3-n"
      },
      "execution_count": null,
      "outputs": []
    },
    {
      "cell_type": "code",
      "source": [
        "# Llamar a la funcion Triangular(n) y dar valor a n (numéro de muestras), ejemplo:\n",
        "n = 1000\n",
        "e = Exponencial(n)"
      ],
      "metadata": {
        "id": "nv7tJjCog4JF"
      },
      "execution_count": null,
      "outputs": []
    },
    {
      "cell_type": "code",
      "source": [
        "# Gráficar a la Distribución Exponencial por medio de un histograma:\n",
        "plt.hist(e, bins = 20, color = 'skyblue')\n",
        "plt.title('Distribución Exponencial')\n",
        "plt.xlabel('Valores')\n",
        "plt.ylabel('Frecuencia')\n",
        "plt.grid(True)\n",
        "plt.show()"
      ],
      "metadata": {
        "colab": {
          "base_uri": "https://localhost:8080/",
          "height": 472
        },
        "id": "GBqHKHylg4Ss",
        "outputId": "9fd056f6-7f37-4744-835e-1bbf30a3debf"
      },
      "execution_count": null,
      "outputs": [
        {
          "output_type": "display_data",
          "data": {
            "text/plain": [
              "<Figure size 640x480 with 1 Axes>"
            ],
            "image/png": "[encoded data removed]"
          },
          "metadata": {}
        }
      ]
    },
    {
      "cell_type": "code",
      "source": [
        "# Calcular la media y desviación estandar de la Distribución Exponencial:\n",
        "media = np.mean(e)\n",
        "print(media)"
      ],
      "metadata": {
        "colab": {
          "base_uri": "https://localhost:8080/"
        },
        "id": "9-f3rEOFg4by",
        "outputId": "d193c269-773e-46d7-9f40-8d18ebf2bd81"
      },
      "execution_count": null,
      "outputs": [
        {
          "output_type": "stream",
          "name": "stdout",
          "text": [
            "0.25047201297004557\n"
          ]
        }
      ]
    },
    {
      "cell_type": "code",
      "source": [
        "# Calcular la varianza de la Distribución Exponencial:\n",
        "varianza = np.var(e)\n",
        "print(varianza)"
      ],
      "metadata": {
        "colab": {
          "base_uri": "https://localhost:8080/"
        },
        "id": "6PCwylZhg4me",
        "outputId": "9a9bec0a-a735-468c-be60-b8612ff009e6"
      },
      "execution_count": null,
      "outputs": [
        {
          "output_type": "stream",
          "name": "stdout",
          "text": [
            "0.06710615004857508\n"
          ]
        }
      ]
    },
    {
      "cell_type": "markdown",
      "source": [
        "---\n"
      ],
      "metadata": {
        "id": "QUpZ3hM_mm2P"
      }
    },
    {
      "cell_type": "markdown",
      "source": [],
      "metadata": {
        "id": "JmYxDsUUmsMn"
      }
    },
    {
      "cell_type": "markdown",
      "source": [
        "## *4. Distribución m-Erlang*"
      ],
      "metadata": {
        "id": "a7nQXqL8Q27s"
      }
    },
    {
      "cell_type": "markdown",
      "source": [
        "\n",
        "\n",
        "---\n",
        "*Nomenclatura:* $X \\sim Erlang(m, λ)$\n",
        "\n",
        "donde:\n",
        "\n",
        "*   $m$: parámetro de forma, entero positivo $m=1,2,3,...$\n",
        "*   $λ > 0$: Parámetro de tasa, $λ>0$\n",
        "\n",
        "\n",
        "\n",
        "\n",
        "---\n",
        "*Función de Densidad:*\n",
        "\n",
        "Si $X\\sim Erlang(m,λ)$ entonces, la función de densidad es:\n",
        "\n",
        "$$\n",
        "f(x)=\\begin{cases}\n",
        "λ^{m}x^{m-1}e^{-λx}, &\\text{para } x\\geq 0 \\\\\n",
        "0, & \\text{para } x< 0\n",
        "\\end{cases}\n",
        "$$\n",
        "\n",
        "![PDF Gamma](https://upload.wikimedia.org/wikipedia/commons/thumb/f/fc/Gamma_distribution_pdf.png/800px-Gamma_distribution_pdf.png)\n",
        "\n",
        "\n",
        "---\n",
        "\n",
        "\n",
        "*Funcion de Distribución Acumulativa:*\n",
        "\n",
        "Si $X\\sim Erlang(m, λ)$ entonces, la función de distribuciín acumulativa es:\n",
        "\n",
        "$$\n",
        "F(x)=1-\\sum_{k=0}^{m-1}\\frac{e^{-λx}(λx)^k}{k!},\\text{ para } x\\geq 0\n",
        "$$\n",
        "\n",
        "\n",
        "*Media:*\n",
        "$$\n",
        " μ = \\frac{m}{λ}\n",
        "$$\n",
        "\n",
        "![CDF Gamma](https://upload.wikimedia.org/wikipedia/commons/thumb/a/a9/Gamma_distribution_cdf.png/800px-Gamma_distribution_cdf.png)\n",
        "\n",
        "---\n",
        "\n",
        "*Varianza:*\n",
        "$$\n",
        "σ^2=\\frac{m}{λ^2}\n",
        "$$\n",
        "\n",
        "---\n",
        "\n",
        "*Desviación Estándar:*\n",
        "$$\n",
        "𝜎=\\frac{\\sqrt{m}}{λ}\n",
        "$$\n",
        "\n",
        "---\n",
        "\n",
        "*Pseudocódigo:*\n",
        "\n",
        "\n",
        "```\n",
        "# Método de Transformada Inversa\n",
        "# Función m_Erlang(n)\n",
        "     \\\\ Entrada:\n",
        "          - n: Número de muestras\n",
        "          - m: Número de fases (entero positivo)\n",
        "          - λ: Parámetro de tasa (λ < 0)\n",
        "     \\\\ Salida:\n",
        "          -  número real x con ditribución m-Erlang en (m, λ)\n",
        "\n",
        "     Inicio de lista: Lista vacía\n",
        "\n",
        "     Para i desde 1 hasta n hacer\n",
        "       a. suma = 0\n",
        "\n",
        "       b. Para j desde 1 hasta m hacer\n",
        "            i. R: Número aleatorio entre 0 y 1 (excluyendo 0)\n",
        "            ii. suma = - In(R) / λ\n",
        "          Fin Para\n",
        "       C. Agragar suma a lista\n",
        "\n",
        "      \n",
        "     Fin Para\n",
        "           \n",
        "\n",
        "     Retornar Lista\n",
        "```\n",
        "---\n",
        "*Código:*\n",
        "\n",
        "\n",
        "\n",
        "\n",
        "\n",
        "\n",
        "\n",
        "\n",
        "\n"
      ],
      "metadata": {
        "id": "mwt6MIbTi3Xz"
      }
    },
    {
      "cell_type": "code",
      "source": [
        "# Definir los paquetes a utilizar:\n",
        "import numpy as np\n",
        "import matplotlib.pyplot as plt\n",
        "import random as rd"
      ],
      "metadata": {
        "id": "03NTyGO6m9xl"
      },
      "execution_count": null,
      "outputs": []
    },
    {
      "cell_type": "code",
      "source": [
        "# Definir parametros para lambda > 0  y m siendo entero de la Distribución m-Erlang, ejemplo:\n",
        "m = 2\n",
        "lam = 4"
      ],
      "metadata": {
        "id": "g3CqQj7gm92t"
      },
      "execution_count": null,
      "outputs": []
    },
    {
      "cell_type": "code",
      "source": [
        "# Definir función de la Distribución Uniforme:\n",
        "def m_Erlang(n):\n",
        "  lista = []\n",
        "  for i in range(n):\n",
        "    suma = 0\n",
        "    for j in range(m):\n",
        "      R = rd.random()    # Números aleatorios entre 0 y 1\n",
        "      suma += - np.log(R) / lam   # Transformación Inversa\n",
        "    lista.append(suma)\n",
        "  return lista"
      ],
      "metadata": {
        "id": "nj-m9wF-m99e"
      },
      "execution_count": null,
      "outputs": []
    },
    {
      "cell_type": "code",
      "source": [
        "# Llamar a la funcion m_Erlang(n) y dar valor a n (numéro de muestras), ejemplo:\n",
        "n = 1000\n",
        "er = m_Erlang(n)"
      ],
      "metadata": {
        "id": "s1D_iAP6m-B_"
      },
      "execution_count": null,
      "outputs": []
    },
    {
      "cell_type": "code",
      "source": [
        "# Gráficar a la Distribución m-Erlang por medio de un histograma:\n",
        "plt.hist(er, bins = 20, color = 'skyblue')\n",
        "plt.title('Distribución m-Erlang')\n",
        "plt.xlabel('Valores')\n",
        "plt.ylabel('Frecuencia')\n",
        "plt.grid(True)\n",
        "plt.show()"
      ],
      "metadata": {
        "colab": {
          "base_uri": "https://localhost:8080/",
          "height": 472
        },
        "id": "IZQLCYB-m-F0",
        "outputId": "bbe2e261-2814-4df0-89d3-0c25e94674f3"
      },
      "execution_count": null,
      "outputs": [
        {
          "output_type": "display_data",
          "data": {
            "text/plain": [
              "<Figure size 640x480 with 1 Axes>"
            ],
            "image/png": "[encoded data removed]"
          },
          "metadata": {}
        }
      ]
    },
    {
      "cell_type": "code",
      "source": [
        "# Calcular la media de la Distribución m-Erlang:\n",
        "media = np.mean(er)\n",
        "print(media)"
      ],
      "metadata": {
        "colab": {
          "base_uri": "https://localhost:8080/"
        },
        "id": "jlr8tO3zm-JX",
        "outputId": "019ac20a-43fe-4bfc-affd-9bda151ebdde"
      },
      "execution_count": null,
      "outputs": [
        {
          "output_type": "stream",
          "name": "stdout",
          "text": [
            "0.4933962912143027\n"
          ]
        }
      ]
    },
    {
      "cell_type": "code",
      "source": [
        "# Calcular la varianza de la Distribución m-Erlang:\n",
        "varianza = np.var(er)\n",
        "print(varianza)"
      ],
      "metadata": {
        "colab": {
          "base_uri": "https://localhost:8080/"
        },
        "id": "DnypZjnfm-Nq",
        "outputId": "3fac33f1-8ae0-4577-b4d9-c73225478441"
      },
      "execution_count": null,
      "outputs": [
        {
          "output_type": "stream",
          "name": "stdout",
          "text": [
            "0.11825684464748619\n"
          ]
        }
      ]
    },
    {
      "cell_type": "code",
      "source": [
        "# Calcular la desviación estandar de la Distribución m-Erlang:\n",
        "sig = np.sqrt(varianza)\n",
        "print(sig)"
      ],
      "metadata": {
        "colab": {
          "base_uri": "https://localhost:8080/"
        },
        "id": "DVrWl8iQm-RG",
        "outputId": "e9117f49-a9e0-46be-f111-94133690417b"
      },
      "execution_count": null,
      "outputs": [
        {
          "output_type": "stream",
          "name": "stdout",
          "text": [
            "0.34388492936952936\n"
          ]
        }
      ]
    },
    {
      "cell_type": "markdown",
      "source": [
        "---"
      ],
      "metadata": {
        "id": "7KgI7d85oqqh"
      }
    },
    {
      "cell_type": "markdown",
      "source": [
        "## *5. Distribución Gamma*"
      ],
      "metadata": {
        "id": "yUomMh1rpIJv"
      }
    },
    {
      "cell_type": "markdown",
      "source": [
        "\n",
        "\n",
        "---\n",
        "*Nomenclatura:* $X \\sim Gamma(α, λ)$\n",
        "\n",
        "donde:\n",
        "\n",
        "*   $α > 0$: parámetro de forma.\n",
        "*   $λ > 0$: Parámetro de tasa, $λ>0$\n",
        "\n",
        "\n",
        "\n",
        "\n",
        "---\n",
        "*Función de Densidad:*\n",
        "\n",
        "Si $X\\sim Gamma(α,λ)$ entonces, la función de densidad es:\n",
        "\n",
        "$$\n",
        "f(x)=\\begin{cases}\n",
        "\\frac{λ^{α}}{Γ(α)}x^{α-1}e^{-λx}, &\\text{para } x> 0 \\\\\n",
        "0, & \\text{para } x\\leq 0\n",
        "\\end{cases}\n",
        "$$\n",
        "\n",
        "Donde $Γ(α)$ es la función gamma (extiende el factorial: $Γ(n)=(n-1)!$ si $n$ es entero).\n",
        "![PDF Gamma](https://upload.wikimedia.org/wikipedia/commons/thumb/f/fc/Gamma_distribution_pdf.png/800px-Gamma_distribution_pdf.png)\n",
        "\n",
        "---\n",
        "\n",
        "\n",
        "*Funcion de Distribución Acumulativa:*\n",
        "\n",
        "Si $X\\sim Gamma(α, λ)$ entonces, la función de distribuciín acumulativa es:\n",
        "\n",
        "$$\n",
        "F(x)=\\frac{γ(α,λx}{Γ(α)}\n",
        "$$\n",
        "Donde $γ(α,z)$ es la función gamma incompleta.\n",
        "![CDF Gamma](https://upload.wikimedia.org/wikipedia/commons/thumb/a/a9/Gamma_distribution_cdf.png/800px-Gamma_distribution_cdf.png)\n",
        "\n",
        "---\n",
        "\n",
        "*Media:*\n",
        "$$\n",
        " μ = \\frac{α}{λ}\n",
        "$$\n",
        "\n",
        "---\n",
        "\n",
        "*Varianza:*\n",
        "$$\n",
        "σ^2=\\frac{α}{λ^2}\n",
        "$$\n",
        "\n",
        "---\n",
        "\n",
        "*Desviación Estándar:*\n",
        "$$\n",
        "𝜎=\\frac{\\sqrt{α}}{λ}\n",
        "$$\n",
        "\n",
        "---\n",
        "\n",
        "*Pseudocódigo:*\n",
        "\n",
        "\n",
        "```\n",
        "\n",
        "# Método de Transformada Inversa\n",
        "# Función Gamma(n)\n",
        "     \\\\ Entrada:\n",
        "          - n: Número de muestras\n",
        "          - α: Número de fases (entero positivo)\n",
        "          - λ: Parámetro de tasa (λ < 0)\n",
        "     \\\\ Salida:\n",
        "          -  número real x con ditribución Gamma en (m, λ)\n",
        "\n",
        "     Inicio de lista: Lista vacía\n",
        "\n",
        "     Para i desde 1 hasta n hacer\n",
        "       a. suma = 0\n",
        "\n",
        "       b. Para j desde 1 hasta α hacer\n",
        "            i. R: Número aleatorio entre 0 y 1\n",
        "            ii. suma = - (1 / λ) * In(R)\n",
        "          Fin Para\n",
        "       C. Agragar suma a lista\n",
        "\n",
        "      \n",
        "     Fin Para\n",
        "           \n",
        "\n",
        "     Retornar Lista\n",
        "```\n",
        "---\n",
        "*Código:*\n",
        "\n",
        "\n",
        "\n",
        "\n",
        "\n",
        "\n",
        "\n",
        "\n",
        "\n"
      ],
      "metadata": {
        "id": "6aVlQ8_0pQIy"
      }
    },
    {
      "cell_type": "code",
      "source": [
        "# Definir los paquetes a utilizar:\n",
        "import numpy as np\n",
        "import matplotlib.pyplot as plt\n",
        "import random as rd"
      ],
      "metadata": {
        "id": "g6Q7Bx3QrfFv"
      },
      "execution_count": null,
      "outputs": []
    },
    {
      "cell_type": "code",
      "source": [
        "# Definir parametros para lambda > 0  y alpha siendo entero de la Distribución Gamma, ejemplo:\n",
        "alpha = 90\n",
        "lam = 4"
      ],
      "metadata": {
        "id": "7SJDG8szrfV2"
      },
      "execution_count": null,
      "outputs": []
    },
    {
      "cell_type": "code",
      "source": [
        "# Definir función de la Distribución Gamma:\n",
        "def Gamma(n):\n",
        "  lista = []\n",
        "  for i in range(n):\n",
        "    suma = 0            # Acumular la suma de valores exponenciales\n",
        "    for j in range(int(alpha)):\n",
        "      R = rd.random()    # Números aleatorios entre 0 y 1\n",
        "      suma += - np.log(R) / lam   # Transformacion inversa\n",
        "    lista.append(suma)\n",
        "  return lista"
      ],
      "metadata": {
        "id": "UCxN6EFurfdF"
      },
      "execution_count": null,
      "outputs": []
    },
    {
      "cell_type": "code",
      "source": [
        "# Llamar a la funcion Gamma(n) y dar valor a n (numéro de muestras), ejemplo:\n",
        "n = 1000\n",
        "g = Gamma(n)"
      ],
      "metadata": {
        "id": "tpJPu_Pwrfi9"
      },
      "execution_count": null,
      "outputs": []
    },
    {
      "cell_type": "code",
      "source": [
        "# Gráficar a la Distribución Gamma por medio de un histograma:\n",
        "plt.hist(g, bins = 20, color = 'skyblue')\n",
        "plt.title('Distribución Gamma')\n",
        "plt.xlabel('Valores')\n",
        "plt.ylabel('Frecuencia')\n",
        "plt.grid(True)\n",
        "plt.show()"
      ],
      "metadata": {
        "colab": {
          "base_uri": "https://localhost:8080/",
          "height": 472
        },
        "id": "v_f5IIOorfqR",
        "outputId": "bfd9968f-503f-4124-b4b8-2427512e3f02"
      },
      "execution_count": null,
      "outputs": [
        {
          "output_type": "display_data",
          "data": {
            "text/plain": [
              "<Figure size 640x480 with 1 Axes>"
            ],
            "image/png": "[encoded data removed]"
          },
          "metadata": {}
        }
      ]
    },
    {
      "cell_type": "code",
      "source": [
        "# Calcular la media de la Distribución Gamma:\n",
        "media = np.mean(g)\n",
        "print(media)"
      ],
      "metadata": {
        "colab": {
          "base_uri": "https://localhost:8080/"
        },
        "id": "qUi0Qj4mrfwk",
        "outputId": "28d927b8-1c22-4cec-b9fd-2680a0877766"
      },
      "execution_count": null,
      "outputs": [
        {
          "output_type": "stream",
          "name": "stdout",
          "text": [
            "22.58487716439958\n"
          ]
        }
      ]
    },
    {
      "cell_type": "code",
      "source": [
        "# Calcular la varianza de la Distribución Gamma:\n",
        "varianza = np.var(g)\n",
        "print(varianza)"
      ],
      "metadata": {
        "colab": {
          "base_uri": "https://localhost:8080/"
        },
        "id": "G4j-maFdrf27",
        "outputId": "addf0bfe-0c0f-4aa8-ee1a-7db09b48f096"
      },
      "execution_count": null,
      "outputs": [
        {
          "output_type": "stream",
          "name": "stdout",
          "text": [
            "5.388093812661564\n"
          ]
        }
      ]
    },
    {
      "cell_type": "code",
      "source": [
        "# Calcular la desviación estandar de la Distribución Gamma:\n",
        "sig = np.sqrt(varianza)\n",
        "print(sig)"
      ],
      "metadata": {
        "colab": {
          "base_uri": "https://localhost:8080/"
        },
        "id": "eUMtooqOs_Qx",
        "outputId": "e5b7b4fe-d378-4a04-e9f1-20ead6eafce5"
      },
      "execution_count": null,
      "outputs": [
        {
          "output_type": "stream",
          "name": "stdout",
          "text": [
            "2.321226790441116\n"
          ]
        }
      ]
    },
    {
      "cell_type": "markdown",
      "source": [
        "---"
      ],
      "metadata": {
        "id": "SxXTe8odtPRS"
      }
    },
    {
      "cell_type": "markdown",
      "source": [
        "## *6. Distribución Weibull*"
      ],
      "metadata": {
        "id": "25b5po2ct_cl"
      }
    },
    {
      "cell_type": "markdown",
      "source": [
        "\n",
        "\n",
        "---\n",
        "*Nomenclatura:* $X \\sim Weibull(α, λ)$\n",
        "\n",
        "donde:\n",
        "\n",
        "*   $α > 0$: parámetro de forma.\n",
        "*   $λ > 0$: Parámetro de tasa, $λ>0$\n",
        "\n",
        "\n",
        "\n",
        "\n",
        "---\n",
        "*Función de Densidad:*\n",
        "\n",
        "Si $X\\sim Weibull(α,λ)$ entonces, la función de densidad es:\n",
        "\n",
        "$$\n",
        "f(x)=\\begin{cases}\n",
        "λα(λx)^{α-1}e^{-(λx)^{α}} & \\text{ para }x> 0 \\\\\n",
        "0, & \\text{para } x\\leq 0\n",
        "\\end{cases}\n",
        "$$\n",
        "\n",
        "![Distribución Weibull - PDF](https://upload.wikimedia.org/wikipedia/commons/thumb/5/58/Weibull_PDF.svg/1024px-Weibull_PDF.svg.png)\n",
        "\n",
        "\n",
        "---\n",
        "\n",
        "\n",
        "*Funcion de Distribución Acumulativa:*\n",
        "\n",
        "Si $X\\sim Weibull(α, λ)$ entonces, la función de distribuciín acumulativa es:\n",
        "\n",
        "$$\n",
        "F(x)=1-e^{-(λx)^{α}}, \\text{ para } x>0\n",
        "$$\n",
        "![Distribución Weibull - CDF](https://upload.wikimedia.org/wikipedia/commons/thumb/7/7e/Weibull_CDF.svg/1024px-Weibull_CDF.svg.png)\n",
        "\n",
        "---\n",
        "\n",
        "*Media:*\n",
        "$$\n",
        " μ = \\frac{1}{λ^n}Γ\\left(1+\\frac{n}{α}\\right)\n",
        "$$\n",
        "\n",
        "---\n",
        "\n",
        "*Varianza:*\n",
        "$$\n",
        "σ^2=\\frac{1}{λ^2}\\left[\\Gamma\\left(1+\\frac{2}{α}\\right)-Γ^2\\left(1+\\frac{1}{\\alpha}\\right)\\right]\n",
        "$$\n",
        "\n",
        "---\n",
        "\n",
        "*Desviación Estándar:*\n",
        "$$\n",
        "𝜎=\\sqrt{\\frac{1}{λ^2}\\left[\\Gamma\\left(1+\\frac{2}{α}\\right)-Γ^2\\left(1+\\frac{1}{\\alpha}\\right)\\right]}\n",
        "$$\n",
        "\n",
        "---\n",
        "\n",
        "*Pseudocódigo:*\n",
        "\n",
        "\n",
        "```\n",
        "\n",
        "# Método de Transformada Inversa\n",
        "# Función Weibull(n)\n",
        "     \\\\ Entrada:\n",
        "          - n: Número de muestras\n",
        "          - α: Número de fases (entero positivo)\n",
        "          - λ: Parámetro de tasa (λ < 0)\n",
        "     \\\\ Salida:\n",
        "          -  número real x con ditribución Weibull en (α, λ)\n",
        "\n",
        "     Inicio de lista: Lista vacía\n",
        "\n",
        "     Para i desde 1 hasta n hacer\n",
        "       \n",
        "       a. R: Número aleatorio entre 0 y 1\n",
        "       b. x = (- In(1 - R)) ^ (1 / α) / λ\n",
        "       C. Agragar X a lista\n",
        "\n",
        "      \n",
        "     Fin Para\n",
        "           \n",
        "\n",
        "     Retornar Lista\n",
        "```\n",
        "---\n",
        "*Código:*\n",
        "\n",
        "\n",
        "\n",
        "\n",
        "\n",
        "\n",
        "\n",
        "\n",
        "\n"
      ],
      "metadata": {
        "id": "p2q6IvRmuGBf"
      }
    },
    {
      "cell_type": "code",
      "source": [
        "# Definir los paquetes a utilizar:\n",
        "import numpy as np\n",
        "import matplotlib.pyplot as plt\n",
        "import random as rd"
      ],
      "metadata": {
        "id": "9KZr4JcfwWAI"
      },
      "execution_count": null,
      "outputs": []
    },
    {
      "cell_type": "code",
      "source": [
        "# Definir parametros para lambda > 0  y alpha siendo entero de la Distribución Weibull, ejemplo:\n",
        "alpha = 25\n",
        "lam = 1.5"
      ],
      "metadata": {
        "id": "zaXsXxPpwWHF"
      },
      "execution_count": null,
      "outputs": []
    },
    {
      "cell_type": "code",
      "source": [
        "# Definir función de la Distribución Weibull:\n",
        "def Weibull(n):\n",
        "  lista = []\n",
        "  for i in range(n):\n",
        "    R = rd.random()    # Números aleatorios entre 0 y 1\n",
        "    x = (- np.log(1 - R)) ** (1 / alpha) / lam   # Transformacion inversa\n",
        "    lista.append(x)\n",
        "  return lista"
      ],
      "metadata": {
        "id": "J1yaTTTWwWK0"
      },
      "execution_count": null,
      "outputs": []
    },
    {
      "cell_type": "code",
      "source": [
        "# Llamar a la funcion Weibull(n) y dar valor a n (numéro de muestras), ejemplo:\n",
        "n = 1000\n",
        "w = Weibull(n)"
      ],
      "metadata": {
        "id": "FpYLFUS8wWOR"
      },
      "execution_count": null,
      "outputs": []
    },
    {
      "cell_type": "code",
      "source": [
        "# Gráficar a la DistribuciónWeibull por medio de un histograma:\n",
        "plt.hist(w, bins = 20, color = 'skyblue')\n",
        "plt.title('Distribución Weibull')\n",
        "plt.xlabel('Valores')\n",
        "plt.ylabel('Frecuencia')\n",
        "plt.grid(True)\n",
        "plt.show()"
      ],
      "metadata": {
        "colab": {
          "base_uri": "https://localhost:8080/",
          "height": 472
        },
        "id": "7SOUhRmfwWUp",
        "outputId": "6a180aaa-f673-4b72-fb87-dba374ce4c81"
      },
      "execution_count": null,
      "outputs": [
        {
          "output_type": "display_data",
          "data": {
            "text/plain": [
              "<Figure size 640x480 with 1 Axes>"
            ],
            "image/png": "[encoded data removed]"
          },
          "metadata": {}
        }
      ]
    },
    {
      "cell_type": "code",
      "source": [
        "# Calcular la media de la Distribución Weibull:\n",
        "media = np.mean(w)\n",
        "print(media)"
      ],
      "metadata": {
        "colab": {
          "base_uri": "https://localhost:8080/"
        },
        "id": "W1HDeuw-wWiO",
        "outputId": "e59a2b3e-6f2c-482d-c143-9d99418a9699"
      },
      "execution_count": null,
      "outputs": [
        {
          "output_type": "stream",
          "name": "stdout",
          "text": [
            "0.6532926270291545\n"
          ]
        }
      ]
    },
    {
      "cell_type": "code",
      "source": [
        "# Calcular la varianza de la Distribución Weibull:\n",
        "varianza = np.var(w)\n",
        "print(varianza)"
      ],
      "metadata": {
        "colab": {
          "base_uri": "https://localhost:8080/"
        },
        "id": "2d0TTF2FwWr9",
        "outputId": "525aa604-845f-4bd0-e27e-10a5c1136f05"
      },
      "execution_count": null,
      "outputs": [
        {
          "output_type": "stream",
          "name": "stdout",
          "text": [
            "0.001046039941616259\n"
          ]
        }
      ]
    },
    {
      "cell_type": "code",
      "source": [
        "# Calcular la desviación estandar de la Distribución Weibull:\n",
        "sig = np.sqrt(varianza)\n",
        "print(sig)"
      ],
      "metadata": {
        "colab": {
          "base_uri": "https://localhost:8080/"
        },
        "id": "ghF9freFwW3l",
        "outputId": "a3e46f04-2d85-4441-e0e4-cb0faa8da8c6"
      },
      "execution_count": null,
      "outputs": [
        {
          "output_type": "stream",
          "name": "stdout",
          "text": [
            "0.032342540741510384\n"
          ]
        }
      ]
    },
    {
      "cell_type": "markdown",
      "source": [
        "---"
      ],
      "metadata": {
        "id": "_P4W7ZPQd1nM"
      }
    },
    {
      "cell_type": "markdown",
      "source": [
        "## *7. Distribución Normal*\n",
        "\n",
        "*   Distribución de Gauss\n",
        "*   Distribución de Laplace-Gauss\n",
        "\n"
      ],
      "metadata": {
        "id": "s_ZXLdAD0NKt"
      }
    },
    {
      "cell_type": "markdown",
      "source": [
        "\n",
        "\n",
        "---\n",
        "*Nomenclatura:* $X \\sim N(μ, σ^2)$\n",
        "\n",
        "donde:\n",
        "\n",
        "*   $μ$: media (centro de la distribución)\n",
        "*   $\\sigma$: Desviación estandar.\n",
        "\n",
        "\n",
        "\n",
        "\n",
        "---\n",
        "*Función de Densidad:*\n",
        "\n",
        "Si $X\\sim N(μ,σ^2)$ entonces, la función de densidad es:\n",
        "\n",
        "$$\n",
        "f(x)=\\frac{1}{σ\\sqrt{2π}}e^{-\\frac{(x-μ)^2}{2σ^2}}\n",
        "$$\n",
        "\n",
        "![PDF Normal](https://upload.wikimedia.org/wikipedia/commons/thumb/1/1b/Normal_distribution_pdf.png/800px-Normal_distribution_pdf.png)\n",
        "\n",
        "\n",
        "\n",
        "---\n",
        "\n",
        "\n",
        "*Funcion de Distribución Acumulativa:*\n",
        "\n",
        "Si $X\\sim N(μ,σ^2)$ entonces, la función de distribuciín acumulativa es:\n",
        "\n",
        "$$\n",
        "F(x)=\\frac{1}{2}\\left[1+erf\\left(\\frac{x-μ}{σ\\sqrt{2}}\\right)\\right]\n",
        "$$\n",
        "![CDF Normal](https://upload.wikimedia.org/wikipedia/commons/thumb/1/19/Normal_distribution_cdf.png/800px-Normal_distribution_cdf.png)\n",
        "\n",
        "---\n",
        "\n",
        "*Media:*\n",
        "$$\n",
        " μ = μ\n",
        "$$\n",
        "\n",
        "---\n",
        "\n",
        "*Varianza:*\n",
        "$$\n",
        "σ^2=σ^2\n",
        "$$\n",
        "\n",
        "---\n",
        "\n",
        "*Desviación Estándar:*\n",
        "$$\n",
        "𝜎=σ\n",
        "$$\n",
        "\n",
        "---\n",
        "\n",
        "*Pseudocódigo:*\n",
        "\n",
        "\n",
        "```\n",
        "# Método de Box Muller\n",
        "# Función Weibull(n)\n",
        "     \\\\ Entrada:\n",
        "          - n: Número de muestras\n",
        "          - μ: media\n",
        "          - σ: desviación estándar\n",
        "     \\\\ Salida:\n",
        "          -  número real x con ditribución Normal en (μ, σ^2)\n",
        "\n",
        "     Inicio de lista: Lista vacía\n",
        "\n",
        "     Para i desde 1 hasta n hacer\n",
        "       \n",
        "       a. R1 y R2: Números aleatorios entre 0 y 1\n",
        "       b. z = raiz(-2 * In(R1)) * cos(2 π R2)\n",
        "       c. x = μ + σ * z\n",
        "       d. Agragar X a lista\n",
        "\n",
        "      \n",
        "     Fin Para\n",
        "           \n",
        "\n",
        "     Retornar Lista\n",
        "```\n",
        "---\n",
        "*Código:*\n",
        "\n",
        "\n",
        "\n",
        "\n",
        "\n",
        "\n",
        "\n",
        "\n",
        "\n"
      ],
      "metadata": {
        "id": "CMcEBeB20kWO"
      }
    },
    {
      "cell_type": "code",
      "source": [
        "# Definir los paquetes a utilizar:\n",
        "import numpy as np\n",
        "import matplotlib.pyplot as plt\n",
        "import random as rd"
      ],
      "metadata": {
        "id": "cJgSvJp04RPd"
      },
      "execution_count": null,
      "outputs": []
    },
    {
      "cell_type": "code",
      "source": [
        "# Definir parametros para mu y sigma  de la Distribución Normal, ejemplo:\n",
        "mu = 0\n",
        "sigma = 1"
      ],
      "metadata": {
        "id": "3QFxInd94RXX"
      },
      "execution_count": null,
      "outputs": []
    },
    {
      "cell_type": "code",
      "source": [
        "# Definir función de la Distribución Normal:\n",
        "def Normal(n):\n",
        "  lista = []\n",
        "  for i in range(n):\n",
        "    R1 = rd.random()    # Números aleatorios entre 0 y 1\n",
        "    R2 = rd.random()    # Números aleatorios entre 0 y 1\n",
        "\n",
        "    # Relaciones inversas\n",
        "    R = np.sqrt(-2 * np.log(R1))\n",
        "    Theta = 2 * np.pi * R2\n",
        "\n",
        "    # Variables aleatorias independientes de la Distribución Normal\n",
        "    X = mu + sigma * R * np.cos(Theta)\n",
        "    Y = mu + sigma * R * np.sin(Theta)\n",
        "\n",
        "    lista.append(X)\n",
        "    lista.append(Y)\n",
        "  return lista"
      ],
      "metadata": {
        "id": "XfcTJGYw4RhO"
      },
      "execution_count": null,
      "outputs": []
    },
    {
      "cell_type": "code",
      "source": [
        "# Llamar a la funcion Normal(n) y dar valor a n (numéro de muestras), ejemplo:\n",
        "n = 1000\n",
        "N = Normal(n)"
      ],
      "metadata": {
        "id": "6y98wj1t4RpA"
      },
      "execution_count": null,
      "outputs": []
    },
    {
      "cell_type": "code",
      "source": [
        "# Gráficar a la Distribución Normal por medio de un histograma:\n",
        "plt.hist(N, bins = 20, color = 'skyblue')\n",
        "plt.title('Distribución Normal')\n",
        "plt.xlabel('Valores')\n",
        "plt.ylabel('Frecuencia')\n",
        "plt.grid(True)\n",
        "plt.show()"
      ],
      "metadata": {
        "colab": {
          "base_uri": "https://localhost:8080/",
          "height": 472
        },
        "id": "R9Gn_3Zs4Rwv",
        "outputId": "35b1341c-3d5d-40be-b02d-b895ec9bb032"
      },
      "execution_count": null,
      "outputs": [
        {
          "output_type": "display_data",
          "data": {
            "text/plain": [
              "<Figure size 640x480 with 1 Axes>"
            ],
            "image/png": "[encoded data removed]"
          },
          "metadata": {}
        }
      ]
    },
    {
      "cell_type": "code",
      "source": [
        "# Calcular la media de la Distribución Normal:\n",
        "media = np.mean(N)\n",
        "print(media)"
      ],
      "metadata": {
        "colab": {
          "base_uri": "https://localhost:8080/"
        },
        "id": "KkBiMLXq4SB5",
        "outputId": "0ea53594-d469-4773-f4ab-cc3cad274223"
      },
      "execution_count": null,
      "outputs": [
        {
          "output_type": "stream",
          "name": "stdout",
          "text": [
            "0.030782419403898663\n"
          ]
        }
      ]
    },
    {
      "cell_type": "code",
      "source": [
        "# Calcular la varianza de la Distribución Normal:\n",
        "varianza = np.var(N)\n",
        "print(varianza)"
      ],
      "metadata": {
        "colab": {
          "base_uri": "https://localhost:8080/"
        },
        "id": "U5M3tl_q5rT4",
        "outputId": "4514265f-7649-4946-c937-8beeea27009a"
      },
      "execution_count": null,
      "outputs": [
        {
          "output_type": "stream",
          "name": "stdout",
          "text": [
            "1.0195462505460056\n"
          ]
        }
      ]
    },
    {
      "cell_type": "code",
      "source": [
        "# Calcular la desviación estándar de la Distribución Normal:\n",
        "sig = np.sqrt(varianza)\n",
        "print(sig)"
      ],
      "metadata": {
        "colab": {
          "base_uri": "https://localhost:8080/"
        },
        "id": "gyXJxncH5y01",
        "outputId": "e132a464-c258-446f-d425-0b8c6a02f6fe"
      },
      "execution_count": null,
      "outputs": [
        {
          "output_type": "stream",
          "name": "stdout",
          "text": [
            "1.0097258293942992\n"
          ]
        }
      ]
    },
    {
      "cell_type": "markdown",
      "source": [
        "---"
      ],
      "metadata": {
        "id": "Fco-Yl_k6DpR"
      }
    },
    {
      "cell_type": "markdown",
      "source": [
        "## *8. Distribución Log-Normal*"
      ],
      "metadata": {
        "id": "VnDBqSYG6E9K"
      }
    },
    {
      "cell_type": "markdown",
      "source": [
        "\n",
        "\n",
        "---\n",
        "\n",
        "*Nomenclatura:* $X \\sim Log-Normal(μ, σ^2)$ ó $InX \\sim N(μ, σ^2)$\n",
        "\n",
        "donde:\n",
        "\n",
        "*   $μ$: media (centro de la distribución)\n",
        "*   $\\sigma$: Desviación estandar.\n",
        "\n",
        "\n",
        "\n",
        "\n",
        "---\n",
        "\n",
        "*Función de Densidad:*\n",
        "\n",
        "Si $X\\sim Log-Normal(μ,σ^2)$ entonces, la función de densidad es:\n",
        "\n",
        "$$\n",
        "f(x)=\\frac{1}{xσ\\sqrt{2π}}e^{-\\frac{(Inx-μ)^2}{2σ^2}}\n",
        "$$\n",
        "\n",
        "![PDF Log-Normal](https://upload.wikimedia.org/wikipedia/commons/thumb/4/4f/Densidad-lognormal.jpg/320px-Densidad-lognormal.jpg)\n",
        "\n",
        "\n",
        "---\n",
        "\n",
        "\n",
        "*Funcion de Distribución Acumulativa:*\n",
        "\n",
        "Si $X\\sim Log-Normal(μ,σ^2)$ entonces, la función de distribuciín acumulativa es:\n",
        "\n",
        "$$\n",
        "F(x)=\\frac{1}{2}\\left[1+erf\\left(\\frac{In x-μ}{σ\\sqrt{2}}\\right)\\right]\n",
        "$$\n",
        "![CDF Log-Normal](https://upload.wikimedia.org/wikipedia/commons/thumb/5/5a/Acumulada-lognormal.jpg/320px-Acumulada-lognormal.jpg)\n",
        "\n",
        "---\n",
        "\n",
        "*Media:*\n",
        "$$\n",
        " μ = e^{μ+\\frac{σ^2}{2}}\n",
        "$$\n",
        "\n",
        "---\n",
        "\n",
        "*Varianza:*\n",
        "$$\n",
        "σ^2=(e^{σ^2}-1)e^{2μ+σ^2}\n",
        "$$\n",
        "\n",
        "---\n",
        "\n",
        "*Desviación Estándar:*\n",
        "$$\n",
        "𝜎=\\sqrt{(e^{σ^2}-1)e^{2μ+σ^2}}\n",
        "$$\n",
        "\n",
        "---\n",
        "\n",
        "*Pseudocódigo:*\n",
        "\n",
        "\n",
        "```\n",
        "\n",
        "# Función Log_Normal(n)\n",
        "     \\\\ Entrada:\n",
        "          - n: Número de muestras\n",
        "          - μ: media de In(x) (0)\n",
        "          - σ: desviación estándar de In (x) (1)\n",
        "     \\\\ Salida:\n",
        "          -  número real x con ditribución Log-Normal en (μ, σ^2)\n",
        "\n",
        "     Inicio de lista: Lista vacía\n",
        "\n",
        "     Para i desde 1 hasta n hacer\n",
        "       \n",
        "       a. R1 : Números aleatorios entre 0 y 1\n",
        "       b. x = exp(μ + σ * R)\n",
        "       c. Agragar X a lista\n",
        "\n",
        "      \n",
        "     Fin Para\n",
        "           \n",
        "\n",
        "     Retornar Lista\n",
        "```\n",
        "---\n",
        "*Código:*\n",
        "\n",
        "\n",
        "\n",
        "\n",
        "\n",
        "\n",
        "\n",
        "\n",
        "\n"
      ],
      "metadata": {
        "id": "sgWWl9Wx6PNf"
      }
    },
    {
      "cell_type": "code",
      "source": [
        "# Definir los paquetes a utilizar:\n",
        "import numpy as np\n",
        "import matplotlib.pyplot as plt\n",
        "import random as rd"
      ],
      "metadata": {
        "id": "viLAidrp87A-"
      },
      "execution_count": null,
      "outputs": []
    },
    {
      "cell_type": "code",
      "source": [
        "# Definir parametros para mu y sigma  de la Distribución Log-Normal, ejemplo:\n",
        "mu = 0\n",
        "sigma = 1"
      ],
      "metadata": {
        "id": "0CG5qa0O87Fn"
      },
      "execution_count": null,
      "outputs": []
    },
    {
      "cell_type": "code",
      "source": [
        "# Definir función de la Distribución Log-Normal:\n",
        "def Log_Normal(n):\n",
        "  lista = []\n",
        "  for i in range(n):\n",
        "    R = rd.random()    # Números aleatorios entre 0 y 1\n",
        "    x = np.exp(mu + sigma * R)\n",
        "\n",
        "    lista.append(x)\n",
        "  return lista"
      ],
      "metadata": {
        "id": "czS0wWCh87Im"
      },
      "execution_count": null,
      "outputs": []
    },
    {
      "cell_type": "code",
      "source": [
        "# Llamar a la funcion Log_Normal(n) y dar valor a n (numéro de muestras), ejemplo:\n",
        "n = 1000\n",
        "LN = Log_Normal(n)"
      ],
      "metadata": {
        "id": "ipgdyIB887L4"
      },
      "execution_count": null,
      "outputs": []
    },
    {
      "cell_type": "code",
      "source": [
        "# Gráficar a la Distribución Log-Normal por medio de un histograma:\n",
        "plt.hist(LN, bins = 20, color = 'skyblue')\n",
        "plt.title('Distribución Log-Normal')\n",
        "plt.xlabel('Valores')\n",
        "plt.ylabel('Frecuencia')\n",
        "plt.grid(True)\n",
        "plt.show()"
      ],
      "metadata": {
        "colab": {
          "base_uri": "https://localhost:8080/",
          "height": 472
        },
        "id": "PfVhFJAf87PC",
        "outputId": "9f0842f2-e167-4af4-a90e-61162dcb1ba5"
      },
      "execution_count": null,
      "outputs": [
        {
          "output_type": "display_data",
          "data": {
            "text/plain": [
              "<Figure size 640x480 with 1 Axes>"
            ],
            "image/png": "[encoded data removed]"
          },
          "metadata": {}
        }
      ]
    },
    {
      "cell_type": "code",
      "source": [
        "# Calcular la media de la Distribución Log-Normal:\n",
        "media = np.mean(LN)\n",
        "print(media)"
      ],
      "metadata": {
        "colab": {
          "base_uri": "https://localhost:8080/"
        },
        "id": "5Z12P75sAfXZ",
        "outputId": "31794b02-d8d6-4cef-ef64-5750b39511ca"
      },
      "execution_count": null,
      "outputs": [
        {
          "output_type": "stream",
          "name": "stdout",
          "text": [
            "1.7339435474761524\n"
          ]
        }
      ]
    },
    {
      "cell_type": "code",
      "source": [
        "# Calcular la varianza de la Distribución Log-Normal:\n",
        "varianza = np.var(LN)\n",
        "print(varianza)"
      ],
      "metadata": {
        "colab": {
          "base_uri": "https://localhost:8080/"
        },
        "id": "f19CkHP7871e",
        "outputId": "8b86fa69-aac9-43cb-8254-cb5dedf41f91"
      },
      "execution_count": null,
      "outputs": [
        {
          "output_type": "stream",
          "name": "stdout",
          "text": [
            "0.2510085486256484\n"
          ]
        }
      ]
    },
    {
      "cell_type": "code",
      "source": [
        "# Calcular la desviación estándar de la Distribución Log-Normal:\n",
        "sig = np.sqrt(varianza)\n",
        "print(sig)"
      ],
      "metadata": {
        "colab": {
          "base_uri": "https://localhost:8080/"
        },
        "id": "1heFST2d88BT",
        "outputId": "83a53747-cd3a-4e89-e452-bb01d018c57f"
      },
      "execution_count": null,
      "outputs": [
        {
          "output_type": "stream",
          "name": "stdout",
          "text": [
            "0.501007533501891\n"
          ]
        }
      ]
    },
    {
      "cell_type": "markdown",
      "source": [
        "---"
      ],
      "metadata": {
        "id": "w2eQaZ7PBSF3"
      }
    },
    {
      "cell_type": "markdown",
      "source": [
        "## *9. Distribución Beta*"
      ],
      "metadata": {
        "id": "Jw3kUnMwBTEf"
      }
    },
    {
      "cell_type": "markdown",
      "source": [
        "\n",
        "\n",
        "---\n",
        "*Nomenclatura:*\n",
        "\n",
        "*   $X \\sim B(α,β)$\n",
        "*   $X \\sim Beta(α,β)$\n",
        "*   $X \\sim Be(α,β)$\n",
        "\n",
        "\n",
        "\n",
        "donde:\n",
        "\n",
        "*   $α$ y β $>0$:\n",
        "\n",
        "\n",
        "\n",
        "\n",
        "---\n",
        "*Función de Densidad:*\n",
        "\n",
        "Si $X\\sim B(α,β)$ entonces, la función de densidad es:\n",
        "\n",
        "$$\n",
        "f(x)=\\frac{x^{α-1}(1-x)^{β-1}}{B(α,β)}, \\text{ para } 0<x<1\n",
        "$$\n",
        "\n",
        "donde:\n",
        "$$\n",
        "β(α,β)=\\int_{0}^{1}x^{α-1}(1-x)^{β-1}dx\n",
        "$$\n",
        "y la propiedad que sastiface es:\n",
        "$$\n",
        "B(α,β)=\\frac{Γ(α)Γ(β)}{Γ(α+β)}\n",
        "$$\n",
        "es la función Beta relacionada con la función Gamma.\n",
        "![PDF Beta](https://upload.wikimedia.org/wikipedia/commons/thumb/9/9a/Beta_distribution_pdf.png/800px-Beta_distribution_pdf.png)\n",
        "\n",
        "\n",
        "---\n",
        "\n",
        "\n",
        "*Funcion de Distribución Acumulativa:*\n",
        "\n",
        "Si $X\\sim B(α,β)$ entonces, la función de distribuciín acumulativa es:\n",
        "\n",
        "$$\n",
        "F(x)=\\frac{B(x;α,β)}{B(α,β)}=I_{x}(α,β)\n",
        "$$\n",
        "donde:\n",
        "\n",
        "\n",
        "*   $B(x;α,β)$ es la función beta incompleta.\n",
        "*   $I_{x}(α,β)$ es la función beta incompleta regularizada.\n",
        "\n",
        "![CDF Beta](https://upload.wikimedia.org/wikipedia/commons/thumb/7/76/Beta_distribution_cdf.png/800px-Beta_distribution_cdf.png)\n",
        "\n",
        "---\n",
        "\n",
        "*Media:*\n",
        "$$\n",
        " μ = \\frac{α}{α+β}\n",
        "$$\n",
        "\n",
        "---\n",
        "\n",
        "*Varianza:*\n",
        "$$\n",
        "σ^2=\\frac{αβ}{(α+β+1)(α+β)^2}\n",
        "$$\n",
        "\n",
        "---\n",
        "\n",
        "*Desviación Estándar:*\n",
        "$$\n",
        "𝜎=\\sqrt{\\frac{αβ}{(α+β+1)(α+β)^2}}\n",
        "$$\n",
        "\n",
        "---\n",
        "\n",
        "*Pseudocódigo:*\n",
        "\n",
        "\n",
        "```\n",
        "# Método de Aceptación y Rechazo\n",
        "# Función Beta(n)\n",
        "     \\\\ Entrada:\n",
        "          - n: Número de muestras\n",
        "          - α: parámetro de forma α>0\n",
        "          - β: parámetro de forma α>0\n",
        "     \\\\ Salida:\n",
        "          -  número real x con ditribución Beta en (α,β)\n",
        "\n",
        "     Inicio de lista: Lista vacía\n",
        "     Definir f(x) = x^(α - 1) * (1 - x)^(β - 1) / B(α, β)\n",
        "     donde B(α, β) es la función beta (normalización)\n",
        "\n",
        "     Para i desde 1 hasta n hacer\n",
        "       \n",
        "       a. R1 y R2 : Números aleatorios entre 0 y 1\n",
        "       b. Calcular x ← U1 (candidato)\n",
        "       c. Si U2 ≤ f(x) / M, entonces:\n",
        "           Agreagra x a Lista\n",
        "      \n",
        "     Fin Para\n",
        "           \n",
        "\n",
        "     Retornar Lista\n",
        "```\n",
        "---\n",
        "*Código:*\n",
        "\n",
        "\n",
        "\n",
        "\n",
        "\n",
        "\n",
        "\n",
        "\n",
        "\n"
      ],
      "metadata": {
        "id": "oATH3PblBhY_"
      }
    },
    {
      "cell_type": "code",
      "source": [
        "# Definir los paquetes a utilizar\n",
        "import numpy as np\n",
        "import matplotlib.pyplot as plt\n",
        "import random as rd\n",
        "from scipy.special import beta as beta_func"
      ],
      "metadata": {
        "id": "fr4wc9vIGwCQ"
      },
      "execution_count": null,
      "outputs": []
    },
    {
      "cell_type": "code",
      "source": [
        "#  Definir los Parámetros de la distribución Beta\n",
        "alpha = 2 # α > 0\n",
        "beta = 5   # β > 0"
      ],
      "metadata": {
        "id": "bS5XVOYWUb_U"
      },
      "execution_count": null,
      "outputs": []
    },
    {
      "cell_type": "code",
      "source": [
        "# Definir la función de densidad Beta\n",
        "def f_beta(x):\n",
        "    if 0 < x < 1:\n",
        "        return (x**(alpha - 1)) * ((1 - x)**(beta - 1)) / beta_func(alpha, beta)\n",
        "    else:\n",
        "        return 0"
      ],
      "metadata": {
        "id": "K0AIKjE5UcC0"
      },
      "execution_count": null,
      "outputs": []
    },
    {
      "cell_type": "code",
      "source": [
        "# Estimar la constante M = máximo de la función f(x)\n",
        "x_val = np.linspace(0.001, 0.999, 1000)\n",
        "f_val = [f_beta(x) for x in x_val]\n",
        "M = max(f_val)"
      ],
      "metadata": {
        "id": "3WMVEP9MUcGn"
      },
      "execution_count": null,
      "outputs": []
    },
    {
      "cell_type": "code",
      "source": [
        "# Método de aceptación y rechazo\n",
        "def Beta(n):\n",
        "    lista = []\n",
        "    for _ in range(n):\n",
        "        R1 = rd.random()\n",
        "        R2 = rd.random()\n",
        "\n",
        "        x = R1  # candidato en (0, 1)\n",
        "\n",
        "        if R2 <= f_beta(x) / M:\n",
        "            lista.append(x)\n",
        "\n",
        "    return lista"
      ],
      "metadata": {
        "id": "3NYYutbNUcPv"
      },
      "execution_count": null,
      "outputs": []
    },
    {
      "cell_type": "code",
      "source": [
        "# Llamar la funcion Beta(n), y proporcionar valor al parametro n, para generar n muestra en esta distribución.\n",
        "n = 1000\n",
        "b = Beta(n)"
      ],
      "metadata": {
        "id": "qruhtkbpUcTl"
      },
      "execution_count": null,
      "outputs": []
    },
    {
      "cell_type": "code",
      "source": [
        "# Graficar histograma\n",
        "plt.hist(b, bins=30, color='goldenrod')\n",
        "plt.title('Distribución Beta')\n",
        "plt.xlabel('Valores')\n",
        "plt.ylabel('Frecuencia')\n",
        "plt.grid(True)\n",
        "plt.show()"
      ],
      "metadata": {
        "colab": {
          "base_uri": "https://localhost:8080/",
          "height": 472
        },
        "id": "-TIF1sg9UcXC",
        "outputId": "3dfc19d9-88ab-413a-d9ac-35239131fe88"
      },
      "execution_count": null,
      "outputs": [
        {
          "output_type": "display_data",
          "data": {
            "text/plain": [
              "<Figure size 640x480 with 1 Axes>"
            ],
            "image/png": "[encoded data removed]"
          },
          "metadata": {}
        }
      ]
    },
    {
      "cell_type": "code",
      "source": [
        "# Calcular la media de la Distribución Beta:\n",
        "mediabeta = np.mean(b)\n",
        "print(mediabeta)"
      ],
      "metadata": {
        "colab": {
          "base_uri": "https://localhost:8080/"
        },
        "id": "MRaQL1tRVcve",
        "outputId": "80d73e5d-e2d4-4e76-a099-1dcf4c8c1d9a"
      },
      "execution_count": null,
      "outputs": [
        {
          "output_type": "stream",
          "name": "stdout",
          "text": [
            "0.28242928848549803\n"
          ]
        }
      ]
    },
    {
      "cell_type": "code",
      "source": [
        "# Calcular la varianza de la Distribución Beta:\n",
        "varbeta = np.var(b)\n",
        "print(varbeta)"
      ],
      "metadata": {
        "colab": {
          "base_uri": "https://localhost:8080/"
        },
        "id": "SOQXjq8-VdRm",
        "outputId": "0663c5b8-e966-42e2-8791-88a07c2c198b"
      },
      "execution_count": null,
      "outputs": [
        {
          "output_type": "stream",
          "name": "stdout",
          "text": [
            "0.02221377231571291\n"
          ]
        }
      ]
    },
    {
      "cell_type": "code",
      "source": [
        "# Calcular la desviación estandar de la Distribución Beta:\n",
        "sigbeta = np.sqrt(varbeta)\n",
        "print(sigbeta)"
      ],
      "metadata": {
        "colab": {
          "base_uri": "https://localhost:8080/"
        },
        "id": "az62S_hPVdaw",
        "outputId": "a67cea99-208c-4b49-c912-8e7583f1942d"
      },
      "execution_count": null,
      "outputs": [
        {
          "output_type": "stream",
          "name": "stdout",
          "text": [
            "0.149042853957219\n"
          ]
        }
      ]
    },
    {
      "cell_type": "markdown",
      "source": [
        "---"
      ],
      "metadata": {
        "id": "SaZ0BCJ1V8Fy"
      }
    },
    {
      "cell_type": "markdown",
      "source": [
        "## *10. Distribuciones de Pearson*\n",
        "\n",
        "\n",
        "\n",
        "\n",
        "1.   **Distribuciones en intervalos finitos:**\n",
        "\n",
        "*   Tipo 0 - Distribución Normal. (*Vease en [texto del vínculo](https://colab.research.google.com/drive/17B6A7L_qS4WT_BmJySOUVEPyvN3_FA6n#scrollTo=s_ZXLdAD0NKt)*)\n",
        "\n",
        "*   Tipo I - Distribución Beta generalizada *(Vease en [texto del vínculo](https://colab.research.google.com/drive/17B6A7L_qS4WT_BmJySOUVEPyvN3_FA6n#scrollTo=Jw3kUnMwBTEf))*\n",
        "*   Tipo II - Distribución Beta simétrica.\n",
        "\n",
        "\n",
        "2.   **Distribuciones definidas en semieje positivo $(x>0).$**\n",
        "\n",
        "\n",
        "*   Tipo III - Distribución Gamma simétrica. *(Vease en [texto del vínculo](https://colab.research.google.com/drive/17B6A7L_qS4WT_BmJySOUVEPyvN3_FA6n#scrollTo=yUomMh1rpIJv))*\n",
        "*   Tipo V - Distribución tipo IV.\n",
        "*   Tipo VI - Distribución Beta Inversa.\n",
        "\n",
        "3.   **Distribuciones en todad la recta real $(-∞, ∞).$**\n",
        "\n",
        "\n",
        "*   Tipo IV -  Pearson tipo IV.\n",
        "*   Tipo VII - Distribución t de Student.\n",
        "\n",
        "\n",
        "\n",
        "\n",
        "\n",
        "\n",
        "\n"
      ],
      "metadata": {
        "id": "Wl2z6wesAay_"
      }
    },
    {
      "cell_type": "markdown",
      "source": [
        "---\n",
        "La **familia Pearson** incluye ocho tipos de distribuciones (Tipo 0 a VII) derivadas de la ecuacion diferencial:\n",
        "$$\n",
        "\\frac{p'(x)}{p(x)}+\\frac{a+x-λ}{b_2(x-λ)^2++b_1(x-λ)+b_0}=0\n",
        "$$\n",
        "\n",
        "Donde:\n",
        "\n",
        "\n",
        "*   $b_0=\\frac{4β_2-3β_1}{10β_2-12β_1-18}μ_2$,\n",
        "*   $a=b_1=\\sqrt{μ_2}\\sqrt{β_1}\\frac{β_2+3}{10β_2-12β_1-18},$\n",
        "*   $b_2=\\frac{2β_2-3β_1-6}{10β_2-12β_1-18}.$\n",
        "\n",
        "\n",
        "\n",
        "Dependiendo de los parámetros, se generan diferentes tipos. A continuación se detalla cada tipo con sus propiedades.\n",
        "\n",
        "---"
      ],
      "metadata": {
        "id": "krsGEHgsA-K4"
      }
    },
    {
      "cell_type": "markdown",
      "source": [
        "###  Distribución de tipo Pearson IV"
      ],
      "metadata": {
        "id": "h1Jt1d-KYqNX"
      }
    },
    {
      "cell_type": "markdown",
      "source": [
        "---\n",
        "*Nomenclatura:*\n",
        "$$\n",
        "X∼PearsonTypeIV(λ, α, m, v)\n",
        "$$\n",
        "\n",
        "---\n",
        "*Función de densidad:*\n",
        "\n",
        "La función de densidad sin normalizar es:\n",
        "$$\n",
        "p(y)∝ \\left[1+\\frac{y^2}{α^2}\\right]^{-m}e^{-v\\arctan({\\frac{y}{α}})}\n",
        "$$\n",
        "\n",
        "donde, tiene soporte en toda la linea real.\n",
        "\n",
        "Y la funsión de densidad normalizada:\n",
        "$$\n",
        "p(x)=\\frac{\\left|\\frac{Γ\\left(m+\\frac{v}{2}i\\right)}{Γ(m)}\\right|^2}{αB(m-\\frac{1}{2},\\frac{1}{2})}\\left[1+\\left(\\frac{x-λ}{α}\\right)^2\\right]^{-m}e^{-v\\arctan\\left(\\frac{x-λ}{α}\\right)}\n",
        "$$\n",
        "\n",
        "Donde:\n",
        "\n",
        "*   $α>0$: parámetro de escala.\n",
        "*   $m>\\frac{1}{2}$: parámetro de forma.\n",
        "*   $v$: parámetro de asimetría.\n",
        "*   λ:  parámetro de posición.\n",
        "\n",
        "![Sistema de distribuciones de Pearson](https://upload.wikimedia.org/wikipedia/commons/thumb/9/90/Pearson_system.png/800px-Pearson_system.png)\n",
        "\n",
        "\n",
        "---\n",
        "*Función de distribución Acumulativa:*\n",
        "\n",
        "No tiene una forma cerrada en términos de funciones elementales o especiales simples. Se define por la integral de la función de densidad:\n",
        "$$\n",
        "F(x)=\\int_{-∞}^{x}f(t)dt\n",
        "$$\n",
        "\n",
        "---\n",
        "\n",
        "*Media:*\n",
        "\n",
        "Si $m>1$:\n",
        "\n",
        "$$\n",
        "μ=λ+α⋅\\frac{v}{2(m-1)}\n",
        "$$\n",
        "\n",
        "\n",
        "---\n",
        "\n",
        "*Varianza:*\n",
        "Si $m>2$:\n",
        "$$\n",
        "σ=α^2\\left[\\frac{1}{2m-3}\\left(1+\\frac{v^2}{4(m-1)^2}\\right)\\right]\n",
        "$$\n",
        "\n",
        "---\n",
        "*Desviación Estándar:*\n",
        "\n",
        "$$\n",
        "σ^2=\\sqrt{α^2\\left[\\frac{1}{2m-3}\\left(1+\\frac{v^2}{4(m-1)^2}\\right)\\right]}\n",
        "$$\n",
        "\n",
        "---\n",
        "\n",
        "*Pseudocódigo:*\n",
        "\n",
        "\n",
        "```\n",
        "# Método de Aceptación y Rechazo\n",
        "# Función Pearson_IV(n)\n",
        "\n",
        "   \\\\ Entrada:\n",
        "       - n: Número de muestras\n",
        "       - f(x): Función de densidad\n",
        "       - λ: Parámetro de posición\n",
        "       - α: Parámetro de escala (α > 0)\n",
        "       - m: Parámetro de forma (m > 0.5)\n",
        "       - v: Parámetro de asimetría (número real)\n",
        "    \\\\ Salida:\n",
        "       - Lista de n valores con distribución tipo IV\n",
        "\n",
        "    Definir función f(x)\n",
        "\n",
        "    Iniciar Lista vacia.\n",
        "\n",
        "    Para i desde 1 hasta n hacer:\n",
        "       a. R1 y R2 - Números aleatorios entre 0 y 1.\n",
        "       b. x = a + (b - a) * R1\n",
        "\n",
        "       c. Si R2 <= f(x)/M\n",
        "          i. Agragar x a Lista\n",
        "          Fin Si\n",
        "    \n",
        "    Fin Para\n",
        "    \n",
        "    Retornar Lista\n",
        "```\n",
        "---\n",
        "\n",
        "*Código:*\n",
        "\n",
        "\n",
        "\n"
      ],
      "metadata": {
        "id": "2M2LLaQBZoEr"
      }
    },
    {
      "cell_type": "code",
      "source": [
        "# Definir los paquetes a utilizar:\n",
        "import numpy as np\n",
        "import matplotlib.pyplot as plt\n",
        "import random as rd\n",
        "from scipy.special import gamma"
      ],
      "metadata": {
        "id": "hRx56DDui0K1"
      },
      "execution_count": null,
      "outputs": []
    },
    {
      "cell_type": "code",
      "source": [
        "# Definir paármetros de la distribución:\n",
        "\n",
        "lamb = 0   # Posición\n",
        "alpha = 1  # Escala\n",
        "m = 0.5    # Forma (> 0.5)\n",
        "v = 2      # Asimetría"
      ],
      "metadata": {
        "id": "gdRQBs9KjCVq"
      },
      "execution_count": null,
      "outputs": []
    },
    {
      "cell_type": "code",
      "source": [
        "# Definir función de densidad de la Distribución Pearson de Tipo IV\n",
        "def f(x):\n",
        "  z = (x - lamb) / alpha     # Normalizar x respecto a lambda y alpha\n",
        "  # Constante de normalización usando la funció gamma con números complejos\n",
        "  C = (2 ** (1 - 2 * m)) * (gamma(m + 0.5 * v * 1j) * gamma(m - 0.5 * v * 1j)).real\n",
        "  C /= (alpha * np.sqrt(np.pi) * gamma(2 * m))\n",
        "\n",
        "  # Fórmula de la densidad Pearson tipo IV\n",
        "  return C * (1 + 2**2) ** (-m) * np.exp(v * np.arctan(z))"
      ],
      "metadata": {
        "id": "BeOUReD1jejr"
      },
      "execution_count": null,
      "outputs": []
    },
    {
      "cell_type": "code",
      "source": [
        "# Definir el intervalo [a, b], donde se hara la muestra:\n",
        "a = lamb - 10 * alpha\n",
        "b = lamb + 10 * alpha"
      ],
      "metadata": {
        "id": "7qIxO8pwo8S4"
      },
      "execution_count": null,
      "outputs": []
    },
    {
      "cell_type": "code",
      "source": [
        "# Definir el máximo de la función f(x) en el intervalo [a, c], para así obtener a M\n",
        "x_valor = np.linspace(a, b, 1000)\n",
        "f_valor = [f(x) for x in x_valor]\n",
        "M = max(f_valor)"
      ],
      "metadata": {
        "id": "AS5YEU7fpmGv"
      },
      "execution_count": null,
      "outputs": []
    },
    {
      "cell_type": "code",
      "source": [
        "# Definir la Distribucipon Pearson de tipo IV con el método de Aceptación y Rechazo:\n",
        "\n",
        "def Pearson_IV(n):\n",
        "  lista = []\n",
        "  for i in range(n):\n",
        "    R1 = rd.random()   # Número aleatorio entre 1 y 0\n",
        "    R2 = rd.random()   # Número aleatorio entre 1 y 0\n",
        "\n",
        "    x = a + (b - a) * R1\n",
        "\n",
        "    if R2 <= f(x)/M:\n",
        "      lista.append(x)\n",
        "\n",
        "  return lista\n",
        "\n",
        "\n"
      ],
      "metadata": {
        "id": "v5R3YkZ0oDFb"
      },
      "execution_count": null,
      "outputs": []
    },
    {
      "cell_type": "code",
      "source": [
        "# Llamar a la funcion Pearson_IV y dar valor a n (numéro de muestras), ejemplo:\n",
        "n = 1000\n",
        "PIV = Pearson_IV(n)"
      ],
      "metadata": {
        "id": "y7VVwUZisarm"
      },
      "execution_count": null,
      "outputs": []
    },
    {
      "cell_type": "code",
      "source": [
        "# Gráficar a la Distribución Pearson Tipo IV por medio de un histograma:\n",
        "plt.hist(PIV, bins = 20, color = 'skyblue')\n",
        "plt.title('Distribución Pearson Tipo IV')\n",
        "plt.xlabel('Valores')\n",
        "plt.ylabel('Frecuencia')\n",
        "plt.grid(True)\n",
        "plt.show()"
      ],
      "metadata": {
        "colab": {
          "base_uri": "https://localhost:8080/",
          "height": 472
        },
        "id": "45e0vjU_sbNP",
        "outputId": "15f5bdbb-6ae1-46c7-8216-fceb2149ccf1"
      },
      "execution_count": null,
      "outputs": [
        {
          "output_type": "display_data",
          "data": {
            "text/plain": [
              "<Figure size 640x480 with 1 Axes>"
            ],
            "image/png": "[encoded data removed]"
          },
          "metadata": {}
        }
      ]
    },
    {
      "cell_type": "code",
      "source": [
        "# Calcular la media de la Distribución Pearson de Tipo IV:\n",
        "media = np.mean(PIV)\n",
        "print(media)"
      ],
      "metadata": {
        "colab": {
          "base_uri": "https://localhost:8080/"
        },
        "id": "EOMo-F9jsbVI",
        "outputId": "2537eb3a-e4be-4530-9da5-9b8cac6d32b5"
      },
      "execution_count": null,
      "outputs": [
        {
          "output_type": "stream",
          "name": "stdout",
          "text": [
            "0.48444312246491034\n"
          ]
        }
      ]
    },
    {
      "cell_type": "code",
      "source": [
        "# Calcular la varianza de la Distribución Pearson de Tipo IV:\n",
        "varianza = np.var(PIV)\n",
        "print(varianza)"
      ],
      "metadata": {
        "colab": {
          "base_uri": "https://localhost:8080/"
        },
        "id": "MBjU5OHQsbbc",
        "outputId": "0ab28b70-ecfe-4f2e-f0fb-62db120d5de4"
      },
      "execution_count": null,
      "outputs": [
        {
          "output_type": "stream",
          "name": "stdout",
          "text": [
            "0.37069496606120356\n"
          ]
        }
      ]
    },
    {
      "cell_type": "code",
      "source": [
        "# Calcular la desviación estándar de la Distribución Pearson de Tipo IV:\n",
        "sig = np.sqrt(varianza)\n",
        "print(sig)"
      ],
      "metadata": {
        "colab": {
          "base_uri": "https://localhost:8080/"
        },
        "id": "SRLb1oXitcAg",
        "outputId": "78bb7b8b-d78f-49e5-a809-14f69c8c4e29"
      },
      "execution_count": null,
      "outputs": [
        {
          "output_type": "stream",
          "name": "stdout",
          "text": [
            "0.6088472436179732\n"
          ]
        }
      ]
    },
    {
      "cell_type": "markdown",
      "source": [
        "---\n"
      ],
      "metadata": {
        "id": "1sZG1mRevU1C"
      }
    },
    {
      "cell_type": "markdown",
      "source": [
        "### Distribución Pearson de Tipo VII o Distribución t-Student"
      ],
      "metadata": {
        "id": "Hyuh7_1gvcyK"
      }
    },
    {
      "cell_type": "markdown",
      "source": [
        "---\n",
        "*Nomenclatura:*\n",
        "$$\n",
        "t∼ t_v\n",
        "$$\n",
        "donde:\n",
        "\n",
        "*   t es una variable aleatoria con distribución t\n",
        "*   $v > 0$ son los grados de libertad\n",
        "---\n",
        "*Función de densidad:*\n",
        "\n",
        "La función de densidad sin normalizar es:\n",
        "$$\n",
        "p(x)= \\frac{1}{αB(m-\\frac{1}{2},\\frac{1}{2})}\\left[1+\\left(\\frac{x-λ}{α}\\right)^2\\right]^{-m}\n",
        "$$\n",
        "\n",
        "donde B denota la función Beta.\n",
        "\n",
        "Y la funsión de densidad normalizada:\n",
        "$$\n",
        "p(x|μ,σ^2,v)=\\frac{1}{\\sqrt{vσ^2}B(\\frac{v}{2},\\frac{1}{2})}\\left(1+\\frac{1}{v}⋅\\frac{(x-μ)^2}{σ^2}\\right)^{-\\frac{v+1}{2}}\n",
        "$$\n",
        "\n",
        "Donde:\n",
        "\n",
        "*   $σ^2$: parámetro de escala.\n",
        "*   $v$: número de grados de libertad.\n",
        "*   μ:  parámetro de posición.\n",
        "*   B(a,b): función Beta Completa, relacionada con la función Gamma:\n",
        "$$\n",
        "B(a,b)=\\frac{Γ(a)Γ(b)}{Γ(a+b)}\n",
        "$$\n",
        "\n",
        "![PDF de la distribución Pearson Tipo VII](https://upload.wikimedia.org/wikipedia/commons/thumb/c/c6/Pearson_type_VII_distribution_PDF.svg/1024px-Pearson_type_VII_distribution_PDF.svg.png)\n",
        "\n",
        "\n",
        "\n",
        "---\n",
        "*Función de distribución Acumulativa:*\n",
        "\n",
        "No tiene una forma cerrada en términos de funciones elementales o especiales simples. Se define por la integral de la función de densidad:\n",
        "$$\n",
        "F(x)=\\int_{-∞}^{x}f(t)dt\n",
        "$$\n",
        "\n",
        "---\n",
        "\n",
        "*Media:*\n",
        "\n",
        "Si $v>1$:\n",
        "\n",
        "$$\n",
        "μ=μ\n",
        "$$\n",
        "\n",
        "---\n",
        "\n",
        "*Varianza:*\n",
        "Si $m>2$:\n",
        "$$\n",
        "σ=\\frac{vσ^2}{v-2}\n",
        "$$\n",
        "\n",
        "---\n",
        "*Desviación Estándar:*\n",
        "\n",
        "$$\n",
        "σ^2=\\sqrt{\\frac{vσ^2}{v-2}}\n",
        "$$\n",
        "\n",
        "---\n",
        "\n",
        "*Pseudocódigo:*\n",
        "\n",
        "\n",
        "```\n",
        "\n",
        "# Método de Box - Muller\n",
        "# Función Pearson_t(n)\n",
        "\n",
        "   \\\\ Entrada:\n",
        "       - n: Número de muestras\n",
        "       - v: Grados de libertad (v > 0)\n",
        "    \\\\ Salida:\n",
        "       - Lista de n valores con distribución tipo VII, t(μ, σ^2, v)\n",
        "\n",
        "    Iniciar Lista vacia.\n",
        "\n",
        "    Para i desde 1 hasta n hacer:\n",
        "       a. U1 y U2 - Números aleatorios entre 0 y 1.\n",
        "       b. R = raíz(-2 * In(R1))\n",
        "       c. Theta = 2 * π * R2\n",
        "       d. X = R * cos(Theta)\n",
        "       e. Y = R * sin(Theta)\n",
        "       \n",
        "       Para j desde 1 hasta v hacer\n",
        "          a. Repetir\n",
        "               U1 - Números aleatorios entre 0 y 1.\n",
        "            Hata que U1 diferente a 0\n",
        "            U2 - Números aleatorios entre 0 y 1.\n",
        "\n",
        "            b. R = raíz(-2 * In(R1))\n",
        "            c. Theta = 2 * π * R2  \n",
        "\n",
        "            d. z_j = R * cos(Theta)\n",
        "\n",
        "            e. V = v + (z_j)^2\n",
        "       Fin Para\n",
        "\n",
        "       f. T = X / sqrt(V / v)\n",
        "       g. Agragar T a Lista\n",
        "    \n",
        "    Fin Para\n",
        "\n",
        "    Retornar Lista\n",
        "```\n",
        "---\n",
        "\n",
        "*Código:*\n",
        "\n",
        "\n",
        "\n"
      ],
      "metadata": {
        "id": "-FnrPLWIvc-b"
      }
    },
    {
      "cell_type": "code",
      "source": [
        "# Definir los paquetes a utilizar:\n",
        "import numpy as np\n",
        "import matplotlib.pyplot as plt\n",
        "import random as rd\n",
        "from scipy.special import gamma"
      ],
      "metadata": {
        "id": "iq83AofE4mK5"
      },
      "execution_count": null,
      "outputs": []
    },
    {
      "cell_type": "code",
      "source": [
        "# Definir paármetros de la distribución:\n",
        "\n",
        "mu = 2   # Posición\n",
        "sigma = 6  # Escala\n",
        "v = 5      # Grados de libertad"
      ],
      "metadata": {
        "id": "LepYMVXp4mOr"
      },
      "execution_count": null,
      "outputs": []
    },
    {
      "cell_type": "code",
      "source": [
        "# Definir la Distribucipon Pearson de tipo IV con el método de Box - Muller:\n",
        "\n",
        "def Pearson_t(n):\n",
        "  lista = []\n",
        "  for i in range(n):\n",
        "    U1 = rd.random()   # Número aleatorio entre 1 y 0\n",
        "    U2 = rd.random()   # Número aleatorio entre 1 y 0\n",
        "\n",
        "    # Relaciones inversa\n",
        "    R = np.sqrt(-2 * np.log(U1))\n",
        "    Theta = 2 * np.pi * U2\n",
        "\n",
        "    # Variables aleatorias independientes de la Distribución Normal\n",
        "\n",
        "    X = R * np.cos(Theta)\n",
        "    Y = R * np.sin(Theta)\n",
        "\n",
        "    lista.append(X)\n",
        "    lista.append(Y)\n",
        "\n",
        "    # Generar V - Chi - cuadrado con v grados de libertad\n",
        "    V = 0\n",
        "    for _ in range(v):\n",
        "      while True:\n",
        "        U1 = rd.random()\n",
        "        if U1 != 0:\n",
        "          break\n",
        "      U2 = rd.random()\n",
        "      R = np.sqrt(-2 * np.log(U1))\n",
        "      Theta = 2 * np.pi * U2\n",
        "      X = R * np.cos(Theta)\n",
        "      Y = R * np.sin(Theta)\n",
        "\n",
        "    # Para cada Z (Z1 y Z2) generamos su correspondiente t-Student\n",
        "      for Z in [X, Y]:\n",
        "            if i >= n:\n",
        "                break\n",
        "\n",
        "            # Generar V ~ chi-cuadrado con nu grados de libertad\n",
        "            V = 0\n",
        "            for __ in range(v):\n",
        "                while True:\n",
        "                    U1 = rd.random()\n",
        "                    if U1 != 0:\n",
        "                        break\n",
        "                U2 = rd.random()\n",
        "                R = np.sqrt(-2 * np.log(U1))\n",
        "                Theta = 2 * np.pi * U2\n",
        "                z_j = R * np.cos(Theta)\n",
        "                V += z_j ** 2\n",
        "\n",
        "            # Calcular t-Student\n",
        "            T = X / np.sqrt(V / v)\n",
        "            lista.append(T)\n",
        "            i += 1\n",
        "\n",
        "  return lista"
      ],
      "metadata": {
        "id": "gOzB5_hh4mRD"
      },
      "execution_count": null,
      "outputs": []
    },
    {
      "cell_type": "code",
      "source": [
        "# Llamar a la funcion Pearson_t(n) y dar valor a n (numéro de muestras), ejemplo:\n",
        "n = 1000\n",
        "Pt = Pearson_t(n)"
      ],
      "metadata": {
        "id": "-h2-TQCq4mTc"
      },
      "execution_count": null,
      "outputs": []
    },
    {
      "cell_type": "code",
      "source": [
        "# Gráficar a la Distribución Pearson t-Student por medio de un histograma:\n",
        "plt.hist(Pt, bins = 20, color = 'skyblue')\n",
        "plt.title('Distribución Pearson t-Student')\n",
        "plt.xlabel('Valores')\n",
        "plt.ylabel('Frecuencia')\n",
        "plt.grid(True)\n",
        "plt.show()"
      ],
      "metadata": {
        "colab": {
          "base_uri": "https://localhost:8080/",
          "height": 472
        },
        "id": "c_Cy22Nd4mVv",
        "outputId": "2535c4ee-129f-44ff-cdc0-924cca6e0bb0"
      },
      "execution_count": null,
      "outputs": [
        {
          "output_type": "display_data",
          "data": {
            "text/plain": [
              "<Figure size 640x480 with 1 Axes>"
            ],
            "image/png": "[encoded data removed]"
          },
          "metadata": {}
        }
      ]
    },
    {
      "cell_type": "code",
      "source": [
        "# Calcular la media de la Distribución Pearson t-Student:\n",
        "media = np.mean(Pt)\n",
        "print(media)"
      ],
      "metadata": {
        "colab": {
          "base_uri": "https://localhost:8080/"
        },
        "id": "rvA4qUMc4mYR",
        "outputId": "491ba2fa-c00c-4918-c8f5-f87ee40f5047"
      },
      "execution_count": null,
      "outputs": [
        {
          "output_type": "stream",
          "name": "stdout",
          "text": [
            "-0.00012195760308988674\n"
          ]
        }
      ]
    },
    {
      "cell_type": "code",
      "source": [
        "# Calcular la varianza de la Distribución Pearson t-Student:\n",
        "varianza = np.var(Pt)\n",
        "print(varianza)"
      ],
      "metadata": {
        "colab": {
          "base_uri": "https://localhost:8080/"
        },
        "id": "MRbX7s1q4mak",
        "outputId": "d137fc27-c711-46d9-d42d-fef7fe5f77c0"
      },
      "execution_count": null,
      "outputs": [
        {
          "output_type": "stream",
          "name": "stdout",
          "text": [
            "1.5567660422067864\n"
          ]
        }
      ]
    },
    {
      "cell_type": "code",
      "source": [
        "# Calcular la desviación estándar de la Distribución Pearson t-Student:\n",
        "sigmu = np.sqrt(varianza)\n",
        "print(sigmu)"
      ],
      "metadata": {
        "colab": {
          "base_uri": "https://localhost:8080/"
        },
        "id": "oQJ43Rtf7GNV",
        "outputId": "6a19fe8a-6be6-42d3-ae1d-d835a3edb6a6"
      },
      "execution_count": null,
      "outputs": [
        {
          "output_type": "stream",
          "name": "stdout",
          "text": [
            "1.2477043088034867\n"
          ]
        }
      ]
    },
    {
      "cell_type": "markdown",
      "source": [
        "---"
      ],
      "metadata": {
        "id": "8I1spvGX-vjN"
      }
    },
    {
      "cell_type": "markdown",
      "source": [
        "## *11.Distribución Log - Logística*\n",
        "\n",
        "\n",
        "*   Distribución de Fisk\n",
        "\n"
      ],
      "metadata": {
        "id": "mjlPKUsD-5FP"
      }
    },
    {
      "cell_type": "markdown",
      "source": [
        "---\n",
        "*Nomenclatura:*\n",
        "$$\n",
        "X∼ Log-Logística(α,β)\n",
        "$$\n",
        "donde:\n",
        "\n",
        "*   $α > 0$ parámetro de escala\n",
        "*   $β > 0$ parametro de forma\n",
        "---\n",
        "*Función de densidad:*\n",
        "\n",
        "Si $X\\sim Log-Logística(α,β)$ entonces, la función de densidad es:\n",
        "\n",
        "$$\n",
        "p(x)= \\frac{\\left(\\frac{β}{α}\\right)\\left(\\frac{x}{α}\\right)^{β-1}}{\\left(1+\\left(\\frac{x}{\\alpha}^{β}\\right)\\right)^2}\n",
        "$$\n",
        "\n",
        "\n",
        "![PDF Log-Logística](https://upload.wikimedia.org/wikipedia/commons/thumb/e/e1/Loglogisticpdf.svg/1024px-Loglogisticpdf.svg.png)\n",
        "\n",
        "---\n",
        "\n",
        "\n",
        "\n",
        "---\n",
        "*Función de distribución Acumulativa:*\n",
        "\n",
        "Si $X\\sim Log-Logística(α,β)$ entonces, la función de densidad es:\n",
        "\n",
        "$$\n",
        "F(x)=\\frac{1}{1+\\left(\\frac{x}{α}\\right)^{-β}},\\text{ para } x>0.\n",
        "$$\n",
        "\n",
        "![CDF Log-Logística](https://upload.wikimedia.org/wikipedia/commons/thumb/7/75/Loglogisticcdf.svg/1024px-Loglogisticcdf.svg.png)\n",
        "\n",
        "---\n",
        "\n",
        "*Media:*\n",
        "\n",
        "Si $β>1$:\n",
        "\n",
        "$$\n",
        "μ=\\frac{αβ}{\\sin β}\n",
        "$$\n",
        "\n",
        "---\n",
        "\n",
        "*Varianza:*\n",
        "Si $β>2$:\n",
        "$$\n",
        "σ=α^2\\left(\\frac{2b}{\\sin (2b)}-\\frac{b^2}{\\sin^2b}\\right)\n",
        "$$\n",
        "\n",
        "---\n",
        "*Desviación Estándar:*\n",
        "\n",
        "$$\n",
        "σ^2=\\sqrt{α^2\\left(\\frac{2b}{\\sin (2b)}-\\frac{b^2}{\\sin^2b}\\right)}\n",
        "$$\n",
        "\n",
        "---\n",
        "\n",
        "*Pseudocódigo:*\n",
        "\n",
        "\n",
        "```\n",
        "# Método de Transformad Inversa\n",
        "# Función Log_Logistica(n)\n",
        "\n",
        "   \\\\ Entrada:\n",
        "       - n: Número de muestras\n",
        "       - α: Parámetro de escala (α > 0)\n",
        "       - β: Parámetro de forma (β > 0 )\n",
        "    \\\\ Salida:\n",
        "       - Lista de n valores con distribución log - logística, log - Logística(α, β)\n",
        "\n",
        "    Iniciar Lista vacia.\n",
        "\n",
        "    Para i desde 1 hasta n hacer:\n",
        "       a. U1 - Números aleatorios entre 0 y 1.\n",
        "       b. x = α * (R / (1 - R) ^ (1 / β)\n",
        "       c. Agragar x a Lista\n",
        "    \n",
        "    Fin Para\n",
        "\n",
        "    Retornar Lista\n",
        "```\n",
        "---\n",
        "\n",
        "*Código:*\n"
      ],
      "metadata": {
        "id": "YoeSyxUVBIR7"
      }
    },
    {
      "cell_type": "code",
      "source": [
        "# Definir los paquetes a utilizar\n",
        "import numpy as np\n",
        "import matplotlib.pyplot as plt\n",
        "import random as rd"
      ],
      "metadata": {
        "id": "lktlzCKGCxtK"
      },
      "execution_count": null,
      "outputs": []
    },
    {
      "cell_type": "code",
      "source": [
        "# Definir los párametros de la distribución Log - Logística, Log-Logistica(alpha, beta)\n",
        "alpha = 1   # Parámetro de escala (> 0)\n",
        "beta = 5     # Parámetro de forma (> 0)"
      ],
      "metadata": {
        "id": "wd_EviOrCxzY"
      },
      "execution_count": null,
      "outputs": []
    },
    {
      "cell_type": "code",
      "source": [
        "# Definir la función de Distribución Log - Logística con el método de transformada Inversa:\n",
        "\n",
        "def Log_Logistica(n):\n",
        "  lista = []\n",
        "  for _ in range(n):\n",
        "    R = rd.random()    # Números aleatorios entre 0 y 1\n",
        "    x = alpha * ((R / (1-R)) ** (1 / beta))\n",
        "\n",
        "    lista.append(x)\n",
        "\n",
        "  return lista"
      ],
      "metadata": {
        "id": "bfEVPVE2Cx5r"
      },
      "execution_count": null,
      "outputs": []
    },
    {
      "cell_type": "code",
      "source": [
        "# Llamar a la funcion Log_Logistica(n) y dar valor a n (numéro de muestras), ejemplo:\n",
        "n = 1000\n",
        "ll = Log_Logistica(n)"
      ],
      "metadata": {
        "id": "mk6SY-1qCyBy"
      },
      "execution_count": null,
      "outputs": []
    },
    {
      "cell_type": "code",
      "source": [
        "# Gráficar a la Distribución Log - Logística por medio de un histograma:\n",
        "plt.hist(ll, bins = 30, color = 'skyblue')\n",
        "plt.title('Distribución Log - Logística')\n",
        "plt.xlabel('Valores')\n",
        "plt.ylabel('Frecuencia')\n",
        "plt.grid(True)\n",
        "plt.show()"
      ],
      "metadata": {
        "colab": {
          "base_uri": "https://localhost:8080/",
          "height": 472
        },
        "id": "PHinTdN8CyFY",
        "outputId": "d66065cc-4593-47b2-898e-b3996cbe9b44"
      },
      "execution_count": null,
      "outputs": [
        {
          "output_type": "display_data",
          "data": {
            "text/plain": [
              "<Figure size 640x480 with 1 Axes>"
            ],
            "image/png": "[encoded data removed]"
          },
          "metadata": {}
        }
      ]
    },
    {
      "cell_type": "code",
      "source": [
        "# Calcular la media de la Distribución Log - Logistica:\n",
        "media = np.mean(ll)\n",
        "print(media)"
      ],
      "metadata": {
        "colab": {
          "base_uri": "https://localhost:8080/"
        },
        "id": "RaU39DZZCyOb",
        "outputId": "3a1d4f24-993f-414a-95e3-6a5cfa75d68b"
      },
      "execution_count": null,
      "outputs": [
        {
          "output_type": "stream",
          "name": "stdout",
          "text": [
            "1.0659229604386602\n"
          ]
        }
      ]
    },
    {
      "cell_type": "code",
      "source": [
        "# Calcular la varianza de la Distribución Log - Logistica:\n",
        "varianza = np.var(ll)\n",
        "print(varianza)"
      ],
      "metadata": {
        "colab": {
          "base_uri": "https://localhost:8080/"
        },
        "id": "dvTpEEGDCyRL",
        "outputId": "c17e9342-551b-496a-9e69-27646744a300"
      },
      "execution_count": null,
      "outputs": [
        {
          "output_type": "stream",
          "name": "stdout",
          "text": [
            "0.17165586445806294\n"
          ]
        }
      ]
    },
    {
      "cell_type": "code",
      "source": [
        "# Calcular la desviación estándar de la Distribución Log - Logistica:\n",
        "sig = np.sqrt(varianza)\n",
        "print(sig)"
      ],
      "metadata": {
        "colab": {
          "base_uri": "https://localhost:8080/"
        },
        "id": "cnS3uWgcCyUL",
        "outputId": "364cc97c-15e7-49e7-8bdb-6b4271ddb59e"
      },
      "execution_count": null,
      "outputs": [
        {
          "output_type": "stream",
          "name": "stdout",
          "text": [
            "0.4143137270934466\n"
          ]
        }
      ]
    },
    {
      "cell_type": "markdown",
      "source": [
        "---"
      ],
      "metadata": {
        "id": "cbeq1hnBGAiZ"
      }
    },
    {
      "cell_type": "markdown",
      "source": [
        "## *12. Sistema de familias de distribuciones de Jonhson*\n",
        "\n",
        "\n",
        "*   $S_B:$ Se refiere a $X$ acotada.\n",
        "*   $S_L:$ Se refiere a $X$ acotada por debajo o lognormal.\n",
        "*   $S_U:$ Se refier a $X$ no acotada.\n",
        "\n"
      ],
      "metadata": {
        "id": "MI1WU7O0GBwE"
      }
    },
    {
      "cell_type": "markdown",
      "source": [
        "### $S_B$ Johnson"
      ],
      "metadata": {
        "id": "mzAdkA1MR8e7"
      }
    },
    {
      "cell_type": "markdown",
      "source": [
        "---\n",
        "\n",
        "*Transformación:*\n",
        "\n",
        "$$\n",
        "Z = γ + ηIn \\left(\\frac{X-ϵ}{λ+ϵ-X}\\right)\n",
        "$$\n",
        "\n",
        "donde:\n",
        "\n",
        "\n",
        "*   Condiciones de los parámetros: $η, λ>0, -∞<γ<∞,-∞<ϵ<∞$\n",
        "*   Condiciones de la variable $X: ϵ<X<ϵ+λ$\n",
        "\n",
        "---\n",
        "\n",
        "*Nomenclatura:*\n",
        "$$\n",
        "Z ∼ N(0,1)\n",
        "$$\n",
        "\n",
        "---\n",
        "*Función de densidad:*\n",
        "\n",
        "Si $Z\\sim N(0,1)$ entonces, la función de densidad es:\n",
        "\n",
        "$$\n",
        "f(x)= \\frac{η}{(x-a)(b-x)}⋅𝚽\\left(γ+η⋅In\\left(\\frac{x-a}{b-x}\\right)\\right)\n",
        "$$\n",
        "\n",
        "Donde:\n",
        "\n",
        "*   $a<x<b$\n",
        "*   γ, η son parámetros de densidad estándar:\n",
        "\n",
        "$$\n",
        "𝜱(z)=\\frac{1}{\\sqrt{2π}}e^{-z^2/2}\n",
        "$$\n",
        "\n",
        "\n",
        "![Johnson SB PDF](https://blogs.sas.com/content/iml/files/2020/01/JohnsonSB1.png)\n",
        "\n",
        "---\n",
        "\n",
        "\n",
        "\n",
        "---\n",
        "*Función de distribución Acumulativa:*\n",
        "\n",
        "Si $Z\\sim N(0,1)$ entonces, la función de densidad es:\n",
        "\n",
        "$$\n",
        "F(x)=𝚽\\left(γ+η⋅In\\left(\\frac{x-a}{b-x}\\right)\\right)\n",
        "$$\n",
        "\n",
        "\n",
        "\n",
        "---\n",
        "\n",
        "*Media:*\n",
        "\n",
        "\n",
        "$$\n",
        "μ=a+(b-a)⋅I\n",
        "$$\n",
        "\n",
        "donde:\n",
        "\n",
        "$$\n",
        "I = \\int_{-∞}^{∞}\\frac{1}{1+e^{-(z-γ/η)}}⋅𝚽(z)dz\n",
        "$$\n",
        "\n",
        "---\n",
        "\n",
        "*Varianza:*\n",
        "\n",
        "$$\n",
        "σ=(b-a)^2⋅(J-I^2)\n",
        "$$\n",
        "\n",
        "donde:\n",
        "\n",
        "$$\n",
        "J = \\int_{-∞}^{∞}\\left(\\frac{1}{1+e^{-(z-γ)/η}}\\right)^2⋅𝚽(z)dz\n",
        "$$\n",
        "\n",
        "---\n",
        "*Desviación Estándar:*\n",
        "\n",
        "$$\n",
        "σ^2=\\sqrt{(b-a)^2⋅(J-I^2)}\n",
        "$$\n",
        "\n",
        "---\n",
        "\n",
        "*Pseudocódigo:*\n",
        "\n",
        "\n",
        "```\n",
        "# Método de Aceptación y Rechazo\n",
        "# Función Sb_Jonshon(n)\n",
        "\n",
        "   \\\\ Entrada:\n",
        "       - n: Número de muestras\n",
        "       - a y b: límite iferior y superior de soporte\n",
        "       - γ: Parámetro de forma\n",
        "       - η\n",
        "    \\\\ Salida:\n",
        "       - Lista de n valores con distribución Sb Johnson.\n",
        "\n",
        "    Iniciar Lista vacia.\n",
        "\n",
        "    Calcular M = m´zximo de f(x) en x ∈ (a,b)\n",
        "\n",
        "    Para i desde 1 hasta n hacer:\n",
        "       a. U1 y U2 - Números aleatorios entre 0 y 1.\n",
        "       b. x = a + (b - a) * U1\n",
        "\n",
        "       c. Calculara f(x)\n",
        "       d. Si U2 <= f(x) / M entonces:\n",
        "\n",
        "             Agragar X y Y a Lista\n",
        "\n",
        "          Fin Si\n",
        "    \n",
        "    Fin Para\n",
        "\n",
        "    Retornar Lista\n",
        "```\n",
        "---\n",
        "\n",
        "*Código:*\n",
        "\n"
      ],
      "metadata": {
        "id": "yCQWeq46Ser8"
      }
    },
    {
      "cell_type": "code",
      "source": [
        "# Definir los párametros de la distribución Sb - Johnson\n",
        "a = 3   # Límite inferior\n",
        "b = 5   # Límite Superior\n",
        "gam = 3.5  # Párametro de forma\n",
        "eta = 4"
      ],
      "metadata": {
        "id": "d_c-RL33aZjT"
      },
      "execution_count": null,
      "outputs": []
    },
    {
      "cell_type": "code",
      "source": [
        "# Definir la función de densidad normal estándar\n",
        "def phi(z):\n",
        "  return (1 / np.sqrt(2 * np.pi)) * np.exp(-0.5 * z ** 2)"
      ],
      "metadata": {
        "id": "a5RnLVBPbKqI"
      },
      "execution_count": null,
      "outputs": []
    },
    {
      "cell_type": "code",
      "source": [
        "# Definir la función de densidad S_B\n",
        "def f(x):\n",
        "  if a < x < b:\n",
        "    radio = (x - a) / (b-x)\n",
        "    z = gam + eta * np.log(radio)\n",
        "    return (eta / ((x - a) * (b-x))) * phi(z)\n",
        "  else:\n",
        "    return 0"
      ],
      "metadata": {
        "id": "57LCtmN-cWRy"
      },
      "execution_count": null,
      "outputs": []
    },
    {
      "cell_type": "code",
      "source": [
        "# Definir el punto máximo de la funcion f(x) (M)\n",
        "x_valor = np.linspace(a + 1e-6, b - 1e-6, 1000)\n",
        "f_valor = [f(x) for x in x_valor]\n",
        "M = max(f_valor)"
      ],
      "metadata": {
        "id": "rJrH7BdPbyL-"
      },
      "execution_count": null,
      "outputs": []
    },
    {
      "cell_type": "code",
      "source": [
        "# Definir la función de Distribución Sb - Johnson  con el método de aceptacion y Rechazo:\n",
        "\n",
        "def Sb_Johnson(n):\n",
        "  lista = []\n",
        "  for _ in range(n):\n",
        "    R = rd.random()    # Números aleatorios entre 0 y 1\n",
        "    x = alpha * ((R / (1-R)) ** (1 / beta))\n",
        "\n",
        "    lista.append(x)\n",
        "\n",
        "  return lista"
      ],
      "metadata": {
        "id": "GCzLxoL_a5eX"
      },
      "execution_count": null,
      "outputs": []
    },
    {
      "cell_type": "code",
      "source": [
        "# Definir el método de aceptación y rechazo para Johnson S_B\n",
        "def Sb_Johnson(n):\n",
        "  lista = []\n",
        "  for _ in range(n):\n",
        "    R1 = rd.random()   # Números aleatorios entre 0 y 1\n",
        "    R2 = rd.random()   # Números aleatorios entre 0 y 1\n",
        "\n",
        "    x = a + (b -a) * R1\n",
        "\n",
        "    if R2 <= f(x) / M:\n",
        "      lista.append(x)\n",
        "\n",
        "  return lista"
      ],
      "metadata": {
        "id": "BUbxbExwa5hV"
      },
      "execution_count": null,
      "outputs": []
    },
    {
      "cell_type": "code",
      "source": [
        "# Llamar a la funcion Sb_Johnson(n) y dar valor a n (numéro de muestras), ejemplo:\n",
        "n = 1000\n",
        "sb = Sb_Johnson(n)"
      ],
      "metadata": {
        "id": "HQtepitbdhOL"
      },
      "execution_count": null,
      "outputs": []
    },
    {
      "cell_type": "code",
      "source": [
        "# Gráficar a la Distribución SB - Johnson por medio de un histograma:\n",
        "plt.hist(sb, bins = 30, color = 'skyblue')\n",
        "plt.title('Distribución SB - Johnson')\n",
        "plt.xlabel('Valores')\n",
        "plt.ylabel('Frecuencia')\n",
        "plt.grid(True)\n",
        "plt.show()"
      ],
      "metadata": {
        "colab": {
          "base_uri": "https://localhost:8080/",
          "height": 472
        },
        "id": "sYBWWbeWa5nR",
        "outputId": "56d3ff8c-0d47-4ab0-ea7e-7a796ca0f63d"
      },
      "execution_count": null,
      "outputs": [
        {
          "output_type": "display_data",
          "data": {
            "text/plain": [
              "<Figure size 640x480 with 1 Axes>"
            ],
            "image/png": "[encoded data removed]"
          },
          "metadata": {}
        }
      ]
    },
    {
      "cell_type": "code",
      "source": [
        "# Calcular la media de la Distribución SB- Johnson:\n",
        "media = np.mean(sb)\n",
        "print(media)"
      ],
      "metadata": {
        "colab": {
          "base_uri": "https://localhost:8080/"
        },
        "id": "rQzn23B3d9Nn",
        "outputId": "43e39007-e553-42c0-cbde-798629c95efe"
      },
      "execution_count": null,
      "outputs": [
        {
          "output_type": "stream",
          "name": "stdout",
          "text": [
            "3.5970546265700354\n"
          ]
        }
      ]
    },
    {
      "cell_type": "code",
      "source": [
        "# Calcular la varianza de la Distribución SB- Johnson:\n",
        "varianza = np.var(sb)\n",
        "print(varianza)"
      ],
      "metadata": {
        "colab": {
          "base_uri": "https://localhost:8080/"
        },
        "id": "tU3u7eAzd9Vc",
        "outputId": "35fc31c6-f6fd-4d21-d61d-1ad777e04bff"
      },
      "execution_count": null,
      "outputs": [
        {
          "output_type": "stream",
          "name": "stdout",
          "text": [
            "0.01166482200823642\n"
          ]
        }
      ]
    },
    {
      "cell_type": "code",
      "source": [
        "# Calcular la desviación estándar de la Distribución SB- Johnson:\n",
        "sig = np.sqrt(varianza)\n",
        "print(sig)"
      ],
      "metadata": {
        "colab": {
          "base_uri": "https://localhost:8080/"
        },
        "id": "C_DwFPUgd9iB",
        "outputId": "5b9f02ef-5eb8-470f-c402-6e63e1424790"
      },
      "execution_count": null,
      "outputs": [
        {
          "output_type": "stream",
          "name": "stdout",
          "text": [
            "0.10800380552664068\n"
          ]
        }
      ]
    },
    {
      "cell_type": "markdown",
      "source": [
        "---"
      ],
      "metadata": {
        "id": "1CtdlNFSfszI"
      }
    },
    {
      "cell_type": "markdown",
      "source": [
        "### $S_L$ Johnson"
      ],
      "metadata": {
        "id": "sJ85w9IDftl1"
      }
    },
    {
      "cell_type": "markdown",
      "source": [
        "---\n",
        "\n",
        "*Transformación:*\n",
        "\n",
        "$$\n",
        "Z = γ + ηIn (X-ϵ)\n",
        "$$\n",
        "\n",
        "donde:\n",
        "\n",
        "\n",
        "*   Condiciones de los parámetros: $η > 0, λ>0, -∞<γ<∞,-∞<ϵ<∞$\n",
        "*   Condiciones de la variable $X: X>ϵ$\n",
        "\n",
        "---\n",
        "\n",
        "*Nomenclatura:*\n",
        "$$\n",
        "Z ∼ N(0,1)\n",
        "$$\n",
        "\n",
        "---\n",
        "*Función de densidad:*\n",
        "\n",
        "Si $Z\\sim N(0,1)$ entonces, la función de densidad es:\n",
        "\n",
        "$$\n",
        "f(x)= \\frac{η}{(x-Ξ)}⋅𝚽\\left(γ+η⋅In\\left(\\frac{x-ξ}{λ}\\right)\\right), \\text{ para } x>ξ\n",
        "$$\n",
        "\n",
        "Donde:\n",
        "\n",
        "\n",
        "$$\n",
        "𝜱(z)=\\frac{1}{\\sqrt{2π}}e^{-z^2/2}\n",
        "$$\n",
        "\n",
        "\n",
        "\n",
        "---\n",
        "\n",
        "\n",
        "\n",
        "---\n",
        "*Función de distribución Acumulativa:*\n",
        "\n",
        "Si $Z\\sim N(0,1)$ entonces, la función de densidad es:\n",
        "\n",
        "$$\n",
        "F(x)=𝚽\\left(γ+η⋅In\\left(\\frac{x-ξ}{λ}\\right)\\right) \\text{ para } x>ξ\n",
        "$$\n",
        "\n",
        "donde $𝚽(z)$ es la función de distribución acumulada de la normal estándar\n",
        "\n",
        "\n",
        "\n",
        "---\n",
        "\n",
        "*Media:*\n",
        "\n",
        "\n",
        "$$\n",
        "μ=ξ+λ⋅e^{\\frac{1}{2η^2}}\\cdot e\\frac{γ}{η}\n",
        "$$\n",
        "\n",
        "\n",
        "\n",
        "---\n",
        "\n",
        "*Varianza:*\n",
        "\n",
        "$$\n",
        "σ^2=\\lambda^2⋅(e^{\\frac{1}{η}}-1)e^{\\frac{2γ}{η}}\n",
        "$$\n",
        "\n",
        "\n",
        "\n",
        "---\n",
        "*Desviación Estándar:*\n",
        "\n",
        "$$\n",
        "σ=\\sqrt{\\lambda^2⋅(e^{\\frac{1}{η}}-1)e^{\\frac{2γ}{η}}}\n",
        "$$\n",
        "\n",
        "---\n",
        "\n",
        "*Pseudocódigo:*\n",
        "\n",
        "\n",
        "```\n",
        "# Método de Aceptación y Rechazo\n",
        "# Función Sl_Jonshon(n)\n",
        "\n",
        "   \\\\ Entrada:\n",
        "       - n: Número de muestras\n",
        "       - n: Número de muestras deseadas\n",
        "       - γ: parámetro de localización\n",
        "       - η: parámetro de forma (> 0)\n",
        "       - ξ: límite inferior del dominio\n",
        "       - λ: parámetro de escala (> 0)\n",
        "    \\\\ Salida:\n",
        "       - Lista de n valores con distribución Sl Johnson.\n",
        "\n",
        "    Iniciar Lista vacia.\n",
        "    \n",
        "    Establecer límite: lim = ξ + 10 * λ\n",
        "    Calcular M = máximo de f(x) en intervalo (ξ + ε, lim)\n",
        "\n",
        "    Para i desde 1 hasta n hacer:\n",
        "       a. U1 y U2 - Números aleatorios entre 0 y 1.\n",
        "       b. x = Ξ + (lim - ξ) * U1\n",
        "       c. Calcular z = γ + η * ln((x - ξ)/λ)\n",
        "       d. Calcular φ(z) = (1 / sqrt(2π)) * exp(-z² / 2)\n",
        "       e. Calcular f(x) = (η / (x - ξ)) * φ(z)\n",
        "       d. Si U2 <= f(x) / M entonces:\n",
        "\n",
        "             Agragar X y Y a Lista\n",
        "\n",
        "          Fin Si\n",
        "    \n",
        "    Fin Para\n",
        "\n",
        "    Retornar Lista\n",
        "```\n",
        "---\n",
        "\n",
        "*Código:*\n",
        "\n"
      ],
      "metadata": {
        "id": "hRmUViT1fzI_"
      }
    },
    {
      "cell_type": "code",
      "source": [
        "# Parámetros de la distribución Johnson S_L\n",
        "gamma = 1.5    # Parámetro de localización\n",
        "eta = 2.0      # Parámetro de forma (>0)\n",
        "xi = 1.0       # Límite inferior (desplazamiento)\n",
        "lamb = 1.5     # Escala (>0)"
      ],
      "metadata": {
        "id": "bAlT1VVckCBl"
      },
      "execution_count": null,
      "outputs": []
    },
    {
      "cell_type": "code",
      "source": [
        "# Definir la función de densidad normal estándar\n",
        "def phi(z):\n",
        "    return (1 / np.sqrt(2 * np.pi)) * np.exp(-0.5 * z ** 2)\n"
      ],
      "metadata": {
        "id": "lVWz-furkCFG"
      },
      "execution_count": null,
      "outputs": []
    },
    {
      "cell_type": "code",
      "source": [
        "# Definir la función de densidad S_L - Johnson\n",
        "def f_SL(x):\n",
        "    if x > xi:\n",
        "        z = gamma + eta * np.log((x - xi) / lamb)\n",
        "        return (eta / (x - xi)) * phi(z)\n",
        "    else:\n",
        "        return 0"
      ],
      "metadata": {
        "id": "Cif4i8PbkCIM"
      },
      "execution_count": null,
      "outputs": []
    },
    {
      "cell_type": "code",
      "source": [
        "# Estimar el valor máximo de la función f(x) (M)\n",
        "x_valores = np.linspace(xi + 1e-6, xi + 10 * lamb, 1000)\n",
        "f_valores = [f_SL(x) for x in x_valores]\n",
        "M_SL = max(f_valores)"
      ],
      "metadata": {
        "id": "-yYKcojYkCLo"
      },
      "execution_count": null,
      "outputs": []
    },
    {
      "cell_type": "code",
      "source": [
        "# Definir la función de Distribución S_L - Johnson con el método de aceptación y rechazo\n",
        "def SL_Johnson(n):\n",
        "    lista = []\n",
        "    for _ in range(n):\n",
        "        R1 = rd.random()\n",
        "        R2 = rd.random()\n",
        "\n",
        "        # Generar candidato entre xi y un límite superior práctico\n",
        "        x = xi + (10 * lamb) * R1\n",
        "\n",
        "        # Aplicar aceptación y rechazo\n",
        "        if R2 <= f_SL(x) / M_SL:\n",
        "            lista.append(x)\n",
        "\n",
        "    return lista"
      ],
      "metadata": {
        "id": "ZaXOyGbFkCOx"
      },
      "execution_count": null,
      "outputs": []
    },
    {
      "cell_type": "code",
      "source": [
        "# Llamar a la función SL_Johnson(n) con n muestras\n",
        "n = 1000\n",
        "sl = SL_Johnson(n)"
      ],
      "metadata": {
        "id": "WmfFNGFCk5x1"
      },
      "execution_count": null,
      "outputs": []
    },
    {
      "cell_type": "code",
      "source": [
        "# Graficar la Distribución S_L - Johnson mediante histograma\n",
        "plt.hist(sl, bins=30, color='lightcoral')\n",
        "plt.title('Distribución S_L - Johnson')\n",
        "plt.xlabel('Valores')\n",
        "plt.ylabel('Frecuencia')\n",
        "plt.grid(True)\n",
        "plt.show()"
      ],
      "metadata": {
        "colab": {
          "base_uri": "https://localhost:8080/",
          "height": 472
        },
        "id": "Nsm1ggK8k52l",
        "outputId": "6df2105b-d465-4776-fe46-46beb2f82ec1"
      },
      "execution_count": null,
      "outputs": [
        {
          "output_type": "display_data",
          "data": {
            "text/plain": [
              "<Figure size 640x480 with 1 Axes>"
            ],
            "image/png": "[encoded data removed]"
          },
          "metadata": {}
        }
      ]
    },
    {
      "cell_type": "code",
      "source": [
        "# Calcular la media de la distribución S_L - Johnson\n",
        "media_sl = np.mean(sl)\n",
        "print(media_sl)"
      ],
      "metadata": {
        "colab": {
          "base_uri": "https://localhost:8080/"
        },
        "id": "-PJOIPtQk56I",
        "outputId": "cb75eaba-9836-4033-ac63-ad26c8228c9c"
      },
      "execution_count": null,
      "outputs": [
        {
          "output_type": "stream",
          "name": "stdout",
          "text": [
            "1.7083524378916302\n"
          ]
        }
      ]
    },
    {
      "cell_type": "code",
      "source": [
        "# Calcular la media de la distribución S_L - Johnson\n",
        "var_sl = np.var(sl)\n",
        "print(var_sl)"
      ],
      "metadata": {
        "colab": {
          "base_uri": "https://localhost:8080/"
        },
        "id": "wREBYCZnlHBt",
        "outputId": "f517d00d-c49d-430a-c495-497ee329a60b"
      },
      "execution_count": null,
      "outputs": [
        {
          "output_type": "stream",
          "name": "stdout",
          "text": [
            "0.10777830078848626\n"
          ]
        }
      ]
    },
    {
      "cell_type": "markdown",
      "source": [
        "---"
      ],
      "metadata": {
        "id": "KAT2yW4Xlnuk"
      }
    },
    {
      "cell_type": "markdown",
      "source": [
        "### $S_U$ Johnson"
      ],
      "metadata": {
        "id": "W5tNLSV9lotk"
      }
    },
    {
      "cell_type": "markdown",
      "source": [
        "---\n",
        "\n",
        "*Transformación:*\n",
        "\n",
        "$$\n",
        "Z = γ + ηsenh^{-1}\\left(\\frac{ X-ϵ}{λ}\\right)\n",
        "$$\n",
        "\n",
        "donde:\n",
        "\n",
        "\n",
        "*   Condiciones de los parámetros: $η, λ>0, -∞<γ<∞,-∞<ϵ<∞$\n",
        "*   Condiciones de la variable $X: -\\infty <X<∞$\n",
        "\n",
        "---\n",
        "\n",
        "*Nomenclatura:*\n",
        "$$\n",
        "Z ∼ N(0,1)\n",
        "$$\n",
        "\n",
        "---\n",
        "*Función de densidad:*\n",
        "\n",
        "Si $Z\\sim N(0,1)$ entonces, la función de densidad es:\n",
        "\n",
        "$$\n",
        "f(x)= \\frac{η}{(x-Ξ)}⋅𝚽\\left(γ+η⋅In\\left(\\frac{x-ξ}{λ}\\right)\\right), \\text{ para } x>ξ\n",
        "$$\n",
        "\n",
        "Donde:\n",
        "\n",
        "\n",
        "$$\n",
        "𝜱(z)=\\frac{1}{\\sqrt{2π}}e^{-z^2/2}\n",
        "$$\n",
        "\n",
        "![PDF Johnson SU](https://upload.wikimedia.org/wikipedia/commons/thumb/1/10/JohnsonSU.png/500px-JohnsonSU.png)\n",
        "\n",
        "\n",
        "---\n",
        "\n",
        "\n",
        "\n",
        "---\n",
        "*Función de distribución Acumulativa:*\n",
        "\n",
        "Si $Z\\sim N(0,1)$ entonces, la función de densidad es:\n",
        "\n",
        "$$\n",
        "F(x)=𝚽\\left(γ+η⋅In\\left(\\frac{x-ξ}{λ}\\right)\\right) \\text{ para } x>ξ\n",
        "$$\n",
        "\n",
        "donde $𝚽(z)$ es la función de distribución acumulada de la normal estándar\n",
        "\n",
        "\n",
        "![CDF Johnson SU](https://upload.wikimedia.org/wikipedia/commons/6/6d/JohnsonSU_CDF.png)\n",
        "✅ Instrucciones:\n",
        "\n",
        "---\n",
        "\n",
        "*Media:*\n",
        "\n",
        "\n",
        "$$\n",
        "μ=ξ+λ⋅e^{\\frac{1}{2η^2}}\\cdot e\\frac{γ}{η}\n",
        "$$\n",
        "\n",
        "\n",
        "\n",
        "---\n",
        "\n",
        "*Varianza:*\n",
        "\n",
        "$$\n",
        "σ^2=\\lambda^2⋅(e^{\\frac{1}{η}}-1)e^{\\frac{2γ}{η}}\n",
        "$$\n",
        "\n",
        "\n",
        "\n",
        "---\n",
        "*Desviación Estándar:*\n",
        "\n",
        "$$\n",
        "σ=\\sqrt{\\lambda^2⋅(e^{\\frac{1}{η}}-1)e^{\\frac{2γ}{η}}}\n",
        "$$\n",
        "\n",
        "---\n",
        "\n",
        "*Pseudocódigo:*\n",
        "\n",
        "\n",
        "```\n",
        "# Método de Aceptación y Rechazo\n",
        "# Función Su_Jonshon(n)\n",
        "\n",
        "   \\\\ Entrada:\n",
        "       - n: Número de muestras\n",
        "       - γ: parámetro de localización\n",
        "       - η: parámetro de forma (> 0)\n",
        "       - ξ: desplazamiento\n",
        "       - λ: parámetro de escala (> 0)\n",
        "    \\\\ Salida:\n",
        "       - Lista de n valores con distribución Su Johnson.\n",
        "\n",
        "    Iniciar Lista vacia.\n",
        "    \n",
        "    Establecer límite: lim = ξ + 10 * λ\n",
        "    Calcular M = máximo de f(x) en intervalo (ξ + ε, lim)\n",
        "\n",
        "    Para i desde 1 hasta n hacer:\n",
        "       a. U1 y U2 - Números aleatorios entre 0 y 1.\n",
        "       b. x = ξ -5 λ + 10 λ * U1\n",
        "       c. Evaluar densidad:  \n",
        "             z = γ + η * arcosin((x - ξ)/λ)\n",
        "             f(x) = η / sqrt((x - ξ)^2 + λ^2) * φ(z)\n",
        "       \n",
        "       d. Si U2 <= f(x) / M entonces:\n",
        "\n",
        "             Agragar X y Y a Lista\n",
        "\n",
        "          Fin Si\n",
        "    \n",
        "    Fin Para\n",
        "\n",
        "    Retornar Lista\n",
        "```\n",
        "---\n",
        "\n",
        "*Código:*\n",
        "\n"
      ],
      "metadata": {
        "id": "zksuPa1tlzmT"
      }
    },
    {
      "cell_type": "code",
      "source": [
        "# Parámetros de la distribución Johnson S_U\n",
        "gamma = 0.5   # Parámetro de localización\n",
        "eta = 1.0     # Parámetro de forma (>0)\n",
        "xi = 0.0      # Desplazamiento\n",
        "lamb = 2.0    # Escala (>0)"
      ],
      "metadata": {
        "id": "rRErNHM0qyV_"
      },
      "execution_count": null,
      "outputs": []
    },
    {
      "cell_type": "code",
      "source": [
        "# Función de densidad normal estándar\n",
        "def phi(z):\n",
        "    return (1 / np.sqrt(2 * np.pi)) * np.exp(-0.5 * z ** 2)"
      ],
      "metadata": {
        "id": "AA8liRBiqybC"
      },
      "execution_count": null,
      "outputs": []
    },
    {
      "cell_type": "code",
      "source": [
        "def f_SU(x):\n",
        "    z = gamma + eta * np.arcsinh((x - xi) / lamb)\n",
        "    return (eta / np.sqrt((x - xi) ** 2 + lamb ** 2)) * phi(z)"
      ],
      "metadata": {
        "id": "DszfN6HAqye0"
      },
      "execution_count": null,
      "outputs": []
    },
    {
      "cell_type": "code",
      "source": [
        "# Estimar el valor máximo M para aceptación y rechazo\n",
        "x_valores = np.linspace(xi - 5 * lamb, xi + 5 * lamb, 1000)\n",
        "f_valores = [f_SU(x) for x in x_valores]\n",
        "M_SU = max(f_valores)"
      ],
      "metadata": {
        "id": "L7nGSYueqyik"
      },
      "execution_count": null,
      "outputs": []
    },
    {
      "cell_type": "code",
      "source": [
        "# Método de Aceptación y Rechazo\n",
        "def SU_Johnson(n):\n",
        "    lista = []\n",
        "    for _ in range(n):\n",
        "        R1 = rd.random()\n",
        "        R2 = rd.random()\n",
        "\n",
        "        # Candidato en el intervalo amplio (aproximación práctica)\n",
        "        x = xi - 5 * lamb + (10 * lamb) * R1\n",
        "\n",
        "        if R2 <= f_SU(x) / M_SU:\n",
        "            lista.append(x)\n",
        "\n",
        "    return lista"
      ],
      "metadata": {
        "id": "cK5vBghEqymE"
      },
      "execution_count": null,
      "outputs": []
    },
    {
      "cell_type": "code",
      "source": [
        "# Número de muestras\n",
        "n = 1000\n",
        "su = SU_Johnson(n)"
      ],
      "metadata": {
        "id": "RGDgt1Vxqyqi"
      },
      "execution_count": null,
      "outputs": []
    },
    {
      "cell_type": "code",
      "source": [
        "# Graficar histograma\n",
        "plt.hist(su, bins=30, color='skyblue')\n",
        "plt.title('Distribución Johnson S_U')\n",
        "plt.xlabel('Valores')\n",
        "plt.ylabel('Frecuencia')\n",
        "plt.grid(True)\n",
        "plt.show()"
      ],
      "metadata": {
        "colab": {
          "base_uri": "https://localhost:8080/",
          "height": 472
        },
        "id": "XPCwLAdiqyun",
        "outputId": "3b61ca94-4964-4fcc-af95-faeb5916b9e9"
      },
      "execution_count": null,
      "outputs": [
        {
          "output_type": "display_data",
          "data": {
            "text/plain": [
              "<Figure size 640x480 with 1 Axes>"
            ],
            "image/png": "[encoded data removed]"
          },
          "metadata": {}
        }
      ]
    },
    {
      "cell_type": "code",
      "source": [
        "# Calcular estadísticas\n",
        "media = np.mean(su)\n",
        "varianza = np.var(su)\n",
        "desviacion = np.std(su)\n",
        "\n",
        "print(f\"Media: {media:.4f}\")\n",
        "print(f\"Varianza: {varianza:.4f}\")\n",
        "print(f\"Desviación estándar: {desviacion:.4f}\")"
      ],
      "metadata": {
        "colab": {
          "base_uri": "https://localhost:8080/"
        },
        "id": "9MPJLTe_rVCy",
        "outputId": "a884eecb-002f-4ea9-c35f-d339ac3f0e86"
      },
      "execution_count": null,
      "outputs": [
        {
          "output_type": "stream",
          "name": "stdout",
          "text": [
            "Media: -0.8451\n",
            "Varianza: 6.7174\n",
            "Desviación estándar: 2.5918\n"
          ]
        }
      ]
    },
    {
      "cell_type": "markdown",
      "source": [
        "---"
      ],
      "metadata": {
        "id": "yQhBKOdDWOdB"
      }
    },
    {
      "cell_type": "markdown",
      "source": [
        "# Distribuciones Discretas"
      ],
      "metadata": {
        "id": "T5-KbmDGWPHH"
      }
    },
    {
      "cell_type": "markdown",
      "source": [
        "## *1.Distribución Uniforme Discreta*"
      ],
      "metadata": {
        "id": "9CG0dDVzWVQL"
      }
    },
    {
      "cell_type": "markdown",
      "source": [
        "\n",
        "\n",
        "---\n",
        "*Nomenclatura:* $X \\sim U(a,b)$\n",
        "\n",
        "donde:\n",
        "\n",
        "*   $a < b$, y los valores posibles de $X$ son los enterops entre $a$ y $b$.\n",
        "\n",
        "\n",
        "\n",
        "\n",
        "---\n",
        "*Función de Densidad:*\n",
        "\n",
        "Si $X\\sim U(a,b)$ entonces, la función de densidad es:\n",
        "\n",
        "$$\n",
        "P(X=x)=\\frac{1}{n}=\\frac{1}{b-a+1},\\text{ para } x\\in {\\{a,a+1,...,b\\}}\n",
        "$$\n",
        "\n",
        "![PMF Uniforme Discreta](https://www.probabilidadyestadistica.net/wp-content/uploads/2022/12/distribucion-uniforme-discreta.png?ezimgfmt=ng:webp/ngcb1)\n",
        "\n",
        "---\n",
        "\n",
        "\n",
        "*Funcion de Distribución Acumulativa:*\n",
        "\n",
        "Si $X\\sim U(a,b)$ entonces, la función de distribuciín acumulativa es:\n",
        "\n",
        "$$\n",
        "F(x)=\\begin{cases}\n",
        "0, & \\text{si } x<a\\\\\n",
        "\\frac{|x|-a+1}{b-a+1} & \\text{si } a\\leq x\\leq b\\\\\n",
        "1 & \\text{si } x>b\n",
        "\\end{cases}  \n",
        "$$\n",
        "\n",
        "\n",
        "![CDF Uniforme Discreta](https://www.probabilidadyestadistica.net/wp-content/uploads/2022/12/probabilidad-acumulada-distribucion-uniforme-discreta.png?ezimgfmt=ng:webp/ngcb1)\n",
        "\n",
        "---\n",
        "\n",
        "*Media:*\n",
        "$$\n",
        " μ = \\frac{a+b}{2}\n",
        "$$\n",
        "\n",
        "---\n",
        "\n",
        "*Varianza:*\n",
        "$$\n",
        "σ^2=\\frac{(b-a+1)^2-1}{12}\n",
        "$$\n",
        "\n",
        "---\n",
        "\n",
        "*Desviación Estándar:*\n",
        "$$\n",
        "𝜎=\\sqrt{\\frac{(b-a+1)^2-1}{12}}\n",
        "$$\n",
        "\n",
        "---\n",
        "\n",
        "*Pseudocódigo:*\n",
        "\n",
        "\n",
        "```\n",
        "# Método de Transformada Inversa\n",
        "# Función Uniforme_Discreta(n)\n",
        "     \\\\ Entrada:\n",
        "          - n: Número de muestras\n",
        "          - a: límite inferior (entero)\n",
        "          - b: límite superior (entero >a)\n",
        "     \\\\ Salida:\n",
        "          - Número entero x con distribución Uniforme Discreta en [a, b]\n",
        "\n",
        "     Inicio de lista: Lista vacía\n",
        "\n",
        "     Para i desde 1 hasta n hacer\n",
        "       a. R: número aleatorio entre 0 y 1\n",
        "       b. x = a + int((b - a + 1) * R)\n",
        "       c. Agregar x a Lista\n",
        "     Fin Para\n",
        "\n",
        "     Retornar Lista\n",
        "```\n",
        "---\n",
        "*Código:*\n",
        "\n",
        "\n",
        "\n",
        "\n",
        "\n",
        "\n",
        "\n",
        "\n",
        "\n"
      ],
      "metadata": {
        "id": "29yRmgZPW-0h"
      }
    },
    {
      "cell_type": "code",
      "source": [
        "# Definir los paquetes a utilizar:\n",
        "import numpy as np\n",
        "import matplotlib.pyplot as plt\n",
        "import random as rd"
      ],
      "metadata": {
        "id": "NITEumMcbZhD"
      },
      "execution_count": 1,
      "outputs": []
    },
    {
      "cell_type": "code",
      "source": [
        "# Definir parámetros para los límites (a, b) de la Distribución Uniforme Discreta\n",
        "a = 1\n",
        "b = 10"
      ],
      "metadata": {
        "id": "Zi72Eeo1bZpB"
      },
      "execution_count": 2,
      "outputs": []
    },
    {
      "cell_type": "code",
      "source": [
        "# Definir función de la Distribución Uniforme Discreta:\n",
        "def Uniforme_Discreta(n):\n",
        "  lista = []\n",
        "  for i in range(n):\n",
        "    R = rd.random()                      # Número aleatorio entre 0 y 1\n",
        "    x = a + int((b - a + 1) * R)         # Transformada Inversa (valor entero entre a y b)\n",
        "    lista.append(x)\n",
        "  return lista"
      ],
      "metadata": {
        "id": "3caRQimCbZu6"
      },
      "execution_count": 3,
      "outputs": []
    },
    {
      "cell_type": "code",
      "source": [
        "# Llamar a la función Uniforme_Discreta(n) y dar valor a n (número de muestras)\n",
        "n = 1000\n",
        "ud = Uniforme_Discreta(n)\n"
      ],
      "metadata": {
        "id": "59JdlPqZbZ0y"
      },
      "execution_count": 4,
      "outputs": []
    },
    {
      "cell_type": "code",
      "source": [
        "# Graficar la Distribución Uniforme Discreta por medio de un histograma:\n",
        "plt.hist(ud, bins=range(a, b+2), align='left', color='skyblue')\n",
        "plt.title('Distribución Uniforme Discreta')\n",
        "plt.xlabel('Valores')\n",
        "plt.ylabel('Frecuencia')\n",
        "plt.grid(True)\n",
        "plt.show()"
      ],
      "metadata": {
        "colab": {
          "base_uri": "https://localhost:8080/",
          "height": 472
        },
        "id": "lJkNhncgbZ36",
        "outputId": "b0242fb3-0cb2-4037-825a-48f3aa2d9f80"
      },
      "execution_count": 5,
      "outputs": [
        {
          "output_type": "display_data",
          "data": {
            "text/plain": [
              "<Figure size 640x480 with 1 Axes>"
            ],
            "image/png": "[encoded data removed]"
          },
          "metadata": {}
        }
      ]
    },
    {
      "cell_type": "code",
      "source": [
        "# Calcular la media de la Distribución Uniforme Discreta:\n",
        "media_ud = np.mean(ud)\n",
        "print(media_ud)"
      ],
      "metadata": {
        "colab": {
          "base_uri": "https://localhost:8080/"
        },
        "id": "gKXOOJmIbZ6u",
        "outputId": "051a37be-01fd-4cb7-9725-8dbe61025a8f"
      },
      "execution_count": 6,
      "outputs": [
        {
          "output_type": "stream",
          "name": "stdout",
          "text": [
            "5.489\n"
          ]
        }
      ]
    },
    {
      "cell_type": "code",
      "source": [
        "# Calcular la varianza de la Distribución Uniforme Discreta:\n",
        "varianza_ud  = np.var(ud)\n",
        "print(varianza_ud)"
      ],
      "metadata": {
        "colab": {
          "base_uri": "https://localhost:8080/"
        },
        "id": "SzKbhk1KbZ9W",
        "outputId": "d2c20dbf-0caf-4633-a561-53f032e4b20a"
      },
      "execution_count": 7,
      "outputs": [
        {
          "output_type": "stream",
          "name": "stdout",
          "text": [
            "8.191879\n"
          ]
        }
      ]
    },
    {
      "cell_type": "code",
      "source": [
        "# Calcular la desviación estándar:\n",
        "sigma_ud = np.sqrt(varianza_ud)\n",
        "print(sigma_ud)"
      ],
      "metadata": {
        "colab": {
          "base_uri": "https://localhost:8080/"
        },
        "id": "lV-kQiMsbZ_8",
        "outputId": "ac1dfc81-63e9-4c94-867d-1c5422839ae3"
      },
      "execution_count": 8,
      "outputs": [
        {
          "output_type": "stream",
          "name": "stdout",
          "text": [
            "2.8621458732915763\n"
          ]
        }
      ]
    },
    {
      "cell_type": "markdown",
      "source": [
        "---"
      ],
      "metadata": {
        "id": "gt1Ae3fmcLVX"
      }
    },
    {
      "cell_type": "markdown",
      "source": [
        "## *2. Distribución de Bernoulli*"
      ],
      "metadata": {
        "id": "Pnem9uWyWjQC"
      }
    },
    {
      "cell_type": "markdown",
      "source": [
        "\n",
        "\n",
        "---\n",
        "*Nomenclatura:* $X \\sim Bernoulli(p)$\n",
        "\n",
        "donde:\n",
        "\n",
        "*   $X∈\\{0,1\\}$\n",
        "*   $p\\in[0,1]$ es la probabilidad de éxito (es decir, $P(X=1)=p$)\n",
        "\n",
        "\n",
        "\n",
        "\n",
        "---\n",
        "*Función de Densidad:*\n",
        "\n",
        "Si $X\\sim Bernoulli(p)$  entonces, la función de densidad es:\n",
        "\n",
        "$$\n",
        "P[X=x]=p^x(1-p)^{1-x},\\text{ para } x=0,1\n",
        "$$\n",
        "\n",
        "lo que equivale a:\n",
        "\n",
        "$$\n",
        "P[X=x]=\\begin{cases}\n",
        "1-p &\\text{si } x=0\\\\\n",
        "p &\\text{si } x=1\n",
        "\\end{cases}\n",
        "$$\n",
        "\n",
        "o tambien, se puede escribir de la forma:\n",
        "\n",
        "$$\n",
        "P[X=x]=px+(1-p)(1-x), \\text{ para } x=0,1\n",
        "$$\n",
        "\n",
        "\n",
        "\n",
        "---\n",
        "\n",
        "\n",
        "*Funcion de Distribución Acumulativa:*\n",
        "\n",
        "Si $X\\sim Bernoulli(p)$ entonces, la función de distribuciín acumulativa es:\n",
        "\n",
        "$$\n",
        "F(x)=\\begin{cases}\n",
        "0, & \\text{si } x<0\\\\\n",
        "1-p & \\text{si } 0\\leq x< 1\\\\\n",
        "1 & \\text{si } x>1\n",
        "\\end{cases}  \n",
        "$$\n",
        "\n",
        "---\n",
        "\n",
        "![Distribución Bernoulli](https://www.researchgate.net/profile/Rasmus_Bruckner/publication/327012389/figure/download/fig5/AS:659439778545664@1534234103952/Figure-A1-A-The-Bernoulli-distribution-The-left-panel-depicts-the-probability-mass.png)\n",
        "\n",
        "---\n",
        "\n",
        "*Media:*\n",
        "$$\n",
        " μ = p\n",
        "$$\n",
        "\n",
        "---\n",
        "\n",
        "*Varianza:*\n",
        "$$\n",
        "σ^2=p-p^2=p(1-p)\n",
        "$$\n",
        "\n",
        "---\n",
        "\n",
        "*Desviación Estándar:*\n",
        "$$\n",
        "𝜎=\\sqrt{p(1-p)}\n",
        "$$\n",
        "\n",
        "---\n",
        "\n",
        "*Pseudocódigo:*\n",
        "\n",
        "\n",
        "```\n",
        "# Método de Transformada Inversa\n",
        "# Función Bernoulli(p, n)\n",
        "     \\\\ Entrada:\n",
        "          - p: Probabilidad de éxito (real entre 0 y 1)\n",
        "          - n: Número de muestras\n",
        "     \\\\ Salida:\n",
        "          - Lista con n valores (0 o 1) con distribución Bernoulli(p)\n",
        "\n",
        "     Inicio de lista: Lista vacía\n",
        "\n",
        "     Para i desde 1 hasta n hacer\n",
        "       a. R: número aleatorio entre 0 y 1\n",
        "       b. Si R < p entonces:\n",
        "              x = 1\n",
        "          Sino:\n",
        "              x = 0\n",
        "       c. Agregar x a Lista\n",
        "     Fin Para\n",
        "\n",
        "     Retornar Lista\n",
        "\n",
        "```\n",
        "---\n",
        "*Código:*\n",
        "\n",
        "\n",
        "\n",
        "\n",
        "\n",
        "\n",
        "\n",
        "\n",
        "\n"
      ],
      "metadata": {
        "id": "mXgx09a9ad8r"
      }
    },
    {
      "cell_type": "code",
      "source": [
        "# Definir los paquetes a utilizar:\n",
        "import numpy as np\n",
        "import matplotlib.pyplot as plt\n",
        "import random as rd"
      ],
      "metadata": {
        "id": "cSrlW0oJacTD"
      },
      "execution_count": null,
      "outputs": []
    },
    {
      "cell_type": "code",
      "source": [
        "# Definir parámetro de probabilidad de éxito p (entre 0 y 1)\n",
        "p = 0.3"
      ],
      "metadata": {
        "id": "FUPNWzl2dyso"
      },
      "execution_count": 9,
      "outputs": []
    },
    {
      "cell_type": "code",
      "source": [
        "# Definir función de la Distribución de Bernoulli:\n",
        "def Bernoulli(p, n):\n",
        "  lista = []\n",
        "  for i in range(n):\n",
        "    R = rd.random()            # Número aleatorio entre 0 y 1\n",
        "    if R < p:\n",
        "      x = 1                    # Éxito\n",
        "    else:\n",
        "      x = 0                    # Fracaso\n",
        "    lista.append(x)\n",
        "  return lista"
      ],
      "metadata": {
        "id": "0mGZ082_dyvB"
      },
      "execution_count": 10,
      "outputs": []
    },
    {
      "cell_type": "code",
      "source": [
        "# Llamar a la función Bernoulli(p, n) y dar valor a n (número de muestras)\n",
        "n = 1000\n",
        "ber = Bernoulli(p, n)"
      ],
      "metadata": {
        "id": "B1qjaAYQdyxo"
      },
      "execution_count": 11,
      "outputs": []
    },
    {
      "cell_type": "code",
      "source": [
        "# Graficar la Distribución de Bernoulli por medio de un histograma:\n",
        "plt.hist(ber, bins=[-0.5, 0.5, 1.5], rwidth=0.6, color='lightcoral')\n",
        "plt.title('Distribución de Bernoulli')\n",
        "plt.xlabel('Resultado')\n",
        "plt.ylabel('Frecuencia')\n",
        "plt.xticks([0, 1], ['Fracaso (0)', 'Éxito (1)'])\n",
        "plt.grid(True)\n",
        "plt.show()"
      ],
      "metadata": {
        "colab": {
          "base_uri": "https://localhost:8080/",
          "height": 472
        },
        "id": "bbZf5I1xdy0Y",
        "outputId": "ed8b0a9a-457f-4738-841c-f8f6843a3123"
      },
      "execution_count": 14,
      "outputs": [
        {
          "output_type": "display_data",
          "data": {
            "text/plain": [
              "<Figure size 640x480 with 1 Axes>"
            ],
            "image/png": "[encoded data removed]"
          },
          "metadata": {}
        }
      ]
    },
    {
      "cell_type": "code",
      "source": [
        "# Calcular la media de la Distribución de Bernoulli:\n",
        "media_ber = np.mean(ber)\n",
        "print(\"Media:\", media_ber)"
      ],
      "metadata": {
        "colab": {
          "base_uri": "https://localhost:8080/"
        },
        "id": "xCdxE6Hudy3z",
        "outputId": "ff68c4f1-8622-41ba-d252-5da12823864c"
      },
      "execution_count": 15,
      "outputs": [
        {
          "output_type": "stream",
          "name": "stdout",
          "text": [
            "Media: 0.277\n"
          ]
        }
      ]
    },
    {
      "cell_type": "code",
      "source": [
        "# Calcular la varianza de la Distribución de Bernoulli:\n",
        "varianza_ber  = np.var(ber)\n",
        "print(\"Varianza:\", varianza_ber)"
      ],
      "metadata": {
        "colab": {
          "base_uri": "https://localhost:8080/"
        },
        "id": "GPvyUdWQePwn",
        "outputId": "ac7cef6f-f465-45b7-e470-7cae340c05dd"
      },
      "execution_count": 16,
      "outputs": [
        {
          "output_type": "stream",
          "name": "stdout",
          "text": [
            "Varianza: 0.20027099999999995\n"
          ]
        }
      ]
    },
    {
      "cell_type": "code",
      "source": [
        "# Calcular la desviación estándar:\n",
        "sigma_ber = np.sqrt(varianza_ber)\n",
        "print(\"Desviación estándar:\", sigma_ber)"
      ],
      "metadata": {
        "colab": {
          "base_uri": "https://localhost:8080/"
        },
        "id": "9J7xxATReP4m",
        "outputId": "0dbd52fb-224b-4948-b72f-c45a1ccf26bd"
      },
      "execution_count": 17,
      "outputs": [
        {
          "output_type": "stream",
          "name": "stdout",
          "text": [
            "Desviación estándar: 0.44751648014346906\n"
          ]
        }
      ]
    },
    {
      "cell_type": "markdown",
      "source": [],
      "metadata": {
        "id": "b39szL_1eQE_"
      }
    },
    {
      "cell_type": "markdown",
      "source": [
        "## *3. Distribución Geométrica*"
      ],
      "metadata": {
        "id": "fEYmVmjZWof_"
      }
    },
    {
      "cell_type": "markdown",
      "source": [
        "\n",
        "\n",
        "---\n",
        "*Nomenclatura:*\n",
        "\n",
        "*   $X \\sim Geometrica(p)$\n",
        "*   $X sim Geo(p)$\n",
        "\n",
        "Con parámetro:\n",
        "\n",
        "$$\n",
        "0<p<1\n",
        "$$\n",
        "\n",
        "---\n",
        "*Función de Densidad:*\n",
        "\n",
        "Si $X sim Geo(p)$  entonces, la función de densidad es:\n",
        "\n",
        "$$\n",
        "P[X=x]=p(1-p)^{1-x},\\text{ para } x>0\n",
        "$$\n",
        "\n",
        "---\n",
        "\n",
        "\n",
        "*Funcion de Distribución Acumulativa:*\n",
        "\n",
        "Si $X sim Geo(p)$ entonces, la función de distribuciín acumulativa es:\n",
        "\n",
        "$$\n",
        "P[X\\leq x]=\\sum_{k=1}{x}p(1-p)^{k-1} = p\\left(\\frac{1-(1-p)^{x-1+1}}{1-(1-p)}\\right) = 1-(1-p)^x\n",
        "$$\n",
        "\n",
        "para $x = 1, 2, 3, 4, ...$\n",
        "\n",
        "---\n",
        "\n",
        "![Distribución Geométrica](https://th.bing.com/th/id/R.599a5aba027b6e98c46499d7dc10a70e?rik=mHxrLp0N7Na33w&riu=http%3a%2f%2fimage.slideserve.com%2f741728%2fgraficos-distribuci-n-geom-trica-p-0-1-l.jpg&ehk=S92nbsQh8hBM6CgOKgmetd9ToOP7NEtpb2D2lv%2fmio0%3d&risl=&pid=ImgRaw&r=0)\n",
        "\n",
        "---\n",
        "\n",
        "*Media:*\n",
        "$$\n",
        " μ = \\frac{1-p}{p}\n",
        "$$\n",
        "\n",
        "---\n",
        "\n",
        "*Varianza:*\n",
        "$$\n",
        "σ^2=\\frac{1-p}{p^2}\n",
        "$$\n",
        "\n",
        "---\n",
        "\n",
        "*Desviación Estándar:*\n",
        "$$\n",
        "𝜎=\\sqrt{\\frac{1-p}{p^2}}\n",
        "$$\n",
        "\n",
        "---\n",
        "\n",
        "*Pseudocódigo:*\n",
        "\n",
        "\n",
        "```\n",
        "# Método de Transformada Inversa\n",
        "# Función Geometrica(p, n)\n",
        "     \\\\ Entrada:\n",
        "          - p: Probabilidad de éxito (0 < p < 1)\n",
        "          - n: Número de muestras\n",
        "     \\\\ Salida:\n",
        "          - Lista con n valores distribuidos geométricamente\n",
        "\n",
        "     Inicio de lista: Lista vacía\n",
        "\n",
        "     Para i desde 1 hasta n hacer\n",
        "       a. R: número aleatorio entre 0 y 1\n",
        "       b. x = techo( ln(1 - R) / ln(1 - p) )\n",
        "       c. Agregar x a Lista\n",
        "     Fin Para\n",
        "\n",
        "     Retornar Lista\n",
        "\n",
        "```\n",
        "---\n",
        "*Código:*\n",
        "\n",
        "\n",
        "\n",
        "\n",
        "\n",
        "\n",
        "\n",
        "\n",
        "\n"
      ],
      "metadata": {
        "id": "1f5IZwhEdGj8"
      }
    },
    {
      "cell_type": "code",
      "source": [
        "# Definir los paquetes a utilizar:\n",
        "import numpy as np\n",
        "import matplotlib.pyplot as plt\n",
        "import random as rd"
      ],
      "metadata": {
        "id": "fvhsHYb9fTGs"
      },
      "execution_count": null,
      "outputs": []
    },
    {
      "cell_type": "code",
      "source": [
        "# Definir parámetro de probabilidad de éxito p (entre 0 y 1)\n",
        "p = 0.3"
      ],
      "metadata": {
        "id": "j7UoqtQifPid"
      },
      "execution_count": 18,
      "outputs": []
    },
    {
      "cell_type": "code",
      "source": [
        "# Definir función de la Distribución Geométrica (Transformada Inversa)\n",
        "def Geometrica(p, n):\n",
        "  lista = []\n",
        "  for _ in range(n):\n",
        "    R = rd.random()                  # Número aleatorio entre 0 y 1\n",
        "    x = int(np.ceil(np.log(1 - R) / np.log(1 - p)))  # Transformada Inversa\n",
        "    lista.append(x)\n",
        "  return lista"
      ],
      "metadata": {
        "id": "CvwlOwgffPnB"
      },
      "execution_count": 19,
      "outputs": []
    },
    {
      "cell_type": "code",
      "source": [
        "# Llamar a la función Geometrica(p, n) y dar valor a n (número de muestras)\n",
        "n = 1000\n",
        "geo = Geometrica(p, n)"
      ],
      "metadata": {
        "id": "dKlTrlHWfPqG"
      },
      "execution_count": 20,
      "outputs": []
    },
    {
      "cell_type": "code",
      "source": [
        "# Graficar la Distribución Geométrica por medio de un histograma:\n",
        "plt.hist(geo, bins=20, color='lightgreen')\n",
        "plt.title('Distribución Geométrica')\n",
        "plt.xlabel('Número de ensayos hasta el primer éxito')\n",
        "plt.ylabel('Frecuencia')\n",
        "plt.grid(True)\n",
        "plt.show()"
      ],
      "metadata": {
        "colab": {
          "base_uri": "https://localhost:8080/",
          "height": 472
        },
        "id": "VY3UEcGpfPs9",
        "outputId": "4187963f-7d67-42b5-fd82-34571d30f221"
      },
      "execution_count": 22,
      "outputs": [
        {
          "output_type": "display_data",
          "data": {
            "text/plain": [
              "<Figure size 640x480 with 1 Axes>"
            ],
            "image/png": "[encoded data removed]"
          },
          "metadata": {}
        }
      ]
    },
    {
      "cell_type": "code",
      "source": [
        "# Calcular la media de la Distribución Geométrica:\n",
        "media_geo = np.mean(geo)\n",
        "print(\"Media:\", media_geo)"
      ],
      "metadata": {
        "colab": {
          "base_uri": "https://localhost:8080/"
        },
        "id": "J5qpCLjcfPwu",
        "outputId": "ddffc2ca-042f-437d-e4c1-315be311c882"
      },
      "execution_count": 23,
      "outputs": [
        {
          "output_type": "stream",
          "name": "stdout",
          "text": [
            "Media: 3.25\n"
          ]
        }
      ]
    },
    {
      "cell_type": "code",
      "source": [
        "# Calcular la varianza:\n",
        "varianza_geo  = np.var(geo)\n",
        "print(\"Varianza:\", varianza_geo)"
      ],
      "metadata": {
        "colab": {
          "base_uri": "https://localhost:8080/"
        },
        "id": "-jvGqyM6fP8p",
        "outputId": "9b61d545-64f0-47b1-93e3-64d2e92c43a9"
      },
      "execution_count": 24,
      "outputs": [
        {
          "output_type": "stream",
          "name": "stdout",
          "text": [
            "Varianza: 8.0335\n"
          ]
        }
      ]
    },
    {
      "cell_type": "code",
      "source": [
        "# Calcular la desviación estándar:\n",
        "sigma_geo = np.sqrt(varianza_geo)\n",
        "print(\"Desviación estándar:\", sigma_geo)"
      ],
      "metadata": {
        "colab": {
          "base_uri": "https://localhost:8080/"
        },
        "id": "lrlUVKEwfQA3",
        "outputId": "34af3e4e-72f5-4972-ca17-d81c8d57c77f"
      },
      "execution_count": 25,
      "outputs": [
        {
          "output_type": "stream",
          "name": "stdout",
          "text": [
            "Desviación estándar: 2.8343429573712493\n"
          ]
        }
      ]
    },
    {
      "cell_type": "markdown",
      "source": [
        "---"
      ],
      "metadata": {
        "id": "Af0EKn5nftLX"
      }
    },
    {
      "cell_type": "markdown",
      "source": [
        "## *4. Distribución Binomial Negativa*"
      ],
      "metadata": {
        "id": "ALKA94gFWtEE"
      }
    },
    {
      "cell_type": "markdown",
      "source": [
        "\n",
        "\n",
        "---\n",
        "*Nomenclatura:*\n",
        "$$X \\sim BN(r, p)$$\n",
        "\n",
        "---\n",
        "*Función de Densidad:*\n",
        "\n",
        "Si $X \\sim BN(r, p)$  entonces, la función de densidad es:\n",
        "\n",
        "$$\n",
        "f(x)=\\left(\\begin{matrix}\n",
        "r+x-1\\\\\n",
        "x\n",
        "\\end{matrix}\\right) p^r(1-p)^x\n",
        "$$\n",
        "\n",
        "para $x=0,1,2...$ donde\n",
        "\n",
        "$$\n",
        "\\left(\\begin{matrix}\n",
        "r+x-1\\\\\n",
        "x\n",
        "\\end{matrix}\\right)=\\frac{(r+x-1)!}{x!(r-1)!}\n",
        "$$\n",
        "\n",
        "\n",
        "![Imagen](https://th.bing.com/th/id/OIP.IbqnxgnEJoVEphC0fu6rygHaD8?rs=1&pid=ImgDetMain)\n",
        "\n",
        "---\n",
        "\n",
        "\n",
        "*Funcion de Distribución Acumulativa:*\n",
        "\n",
        "Si $X\\sim Bernoulli(p)$ entonces, la función de distribuciín acumulativa es:\n",
        "\n",
        "$$\n",
        "F(x)=I_p(r,k+1)\n",
        "$$\n",
        "\n",
        "donde $I_p(x,y)$ es la función *beta incompleta regularizada*.\n",
        "\n",
        "\n",
        "\n",
        "---\n",
        "\n",
        "*Media:*\n",
        "$$\n",
        " μ = \\frac{r(1-p)}{p}\n",
        "$$\n",
        "\n",
        "---\n",
        "\n",
        "*Varianza:*\n",
        "$$\n",
        "σ^2=\\frac{r(1-p)}{p^2}\n",
        "$$\n",
        "\n",
        "---\n",
        "\n",
        "*Desviación Estándar:*\n",
        "$$\n",
        "𝜎=\\sqrt{\\frac{r(1-p)}{p^2}}\n",
        "$$\n",
        "\n",
        "---\n",
        "\n",
        "*Pseudocódigo:*\n",
        "\n",
        "\n",
        "```\n",
        "# Método de Transformada Inversa (Discreta)\n",
        "# Función Binomial_Negativa(r, p, n)\n",
        "     \\\\ Entrada:\n",
        "          - r: número de éxitos deseados\n",
        "          - p: probabilidad de éxito\n",
        "          - n: número de muestras\n",
        "     \\\\ Salida:\n",
        "          - Lista con n valores de una distribución binomial negativa\n",
        "\n",
        "     Inicio de lista: Lista vacía\n",
        "\n",
        "     Para i desde 1 hasta n hacer\n",
        "       a. R: número aleatorio entre 0 y 1\n",
        "       b. Inicializar x = r\n",
        "       c. Calcular P = PMF(x)\n",
        "       d. Acumulador = P\n",
        "       e. Mientras acumulador < R hacer\n",
        "            - x = x + 1\n",
        "            - P = PMF(x)\n",
        "            - acumulador = acumulador + P\n",
        "       f. Agregar x a Lista\n",
        "     Fin Para\n",
        "\n",
        "     Retornar Lista\n",
        "\n",
        "```\n",
        "---\n",
        "*Código:*\n",
        "\n",
        "\n",
        "\n",
        "\n",
        "\n",
        "\n",
        "\n",
        "\n",
        "\n"
      ],
      "metadata": {
        "id": "fpPNULAfdchB"
      }
    },
    {
      "cell_type": "code",
      "source": [
        "# Definir los paquetes a utilizar:\n",
        "import numpy as np\n",
        "import matplotlib.pyplot as plt\n",
        "import random as rd\n",
        "import math"
      ],
      "metadata": {
        "id": "QkN3P4vvgh3g"
      },
      "execution_count": 30,
      "outputs": []
    },
    {
      "cell_type": "code",
      "source": [
        "# Parámetros\n",
        "r = 3       # Número de éxitos deseados\n",
        "p = 0.4     # Probabilidad de éxito"
      ],
      "metadata": {
        "id": "A-liPvNKgvHl"
      },
      "execution_count": 31,
      "outputs": []
    },
    {
      "cell_type": "code",
      "source": [
        "# Función de masa de probabilidad (PMF) de la binomial negativa\n",
        "def pmf_binomial_negativa(x, r, p):\n",
        "  if x < r:\n",
        "    return 0\n",
        "  comb = math.comb(x - 1, r - 1)\n",
        "  return comb * (p ** r) * ((1 - p) ** (x - r))"
      ],
      "metadata": {
        "id": "DQehizOagh7X"
      },
      "execution_count": 32,
      "outputs": []
    },
    {
      "cell_type": "code",
      "source": [
        "# Transformada inversa (discreta) para binomial negativa\n",
        "def Binomial_Negativa(n):\n",
        "  lista = []\n",
        "  for _ in range(n):\n",
        "    R = rd.random()                # Número aleatorio entre 0 y 1\n",
        "    x = r\n",
        "    acumulador = pmf_binomial_negativa(x, r, p)\n",
        "    while acumulador < R:\n",
        "      x += 1\n",
        "      acumulador += pmf_binomial_negativa(x, r, p)\n",
        "    lista.append(x)\n",
        "  return lista"
      ],
      "metadata": {
        "id": "jjakCLPvgh_W"
      },
      "execution_count": 33,
      "outputs": []
    },
    {
      "cell_type": "code",
      "source": [
        "# Llamar a la función Binomial_Negativa(p, n) y dar valor a n (número de muestras)\n",
        "n = 1000    # Número de muestras\n",
        "nb = Binomial_Negativa(n)"
      ],
      "metadata": {
        "id": "kY1UxnNPgiDo"
      },
      "execution_count": 34,
      "outputs": []
    },
    {
      "cell_type": "code",
      "source": [
        "# Graficar la Distribución Binomial Negativa por medio de un histograma:\n",
        "plt.hist(nb, bins=range(min(nb), max(nb)+2), color='orchid')\n",
        "plt.title('Distribución Binomial Negativa')\n",
        "plt.xlabel('Total de ensayos hasta lograr r éxitos')\n",
        "plt.ylabel('Frecuencia')\n",
        "plt.grid(True)\n",
        "plt.show()"
      ],
      "metadata": {
        "colab": {
          "base_uri": "https://localhost:8080/",
          "height": 473
        },
        "id": "whnN9OQcgiHM",
        "outputId": "57cde0c8-0964-4098-965c-0a97f640a876"
      },
      "execution_count": 38,
      "outputs": [
        {
          "output_type": "display_data",
          "data": {
            "text/plain": [
              "<Figure size 640x480 with 1 Axes>"
            ],
            "image/png": "[encoded data removed]"
          },
          "metadata": {}
        }
      ]
    },
    {
      "cell_type": "code",
      "source": [
        "# Calcular la media de la distribución:\n",
        "media_nb = np.mean(nb)\n",
        "print(\"Media:\", media_nb)"
      ],
      "metadata": {
        "colab": {
          "base_uri": "https://localhost:8080/"
        },
        "id": "Tc9w7QQQgiJt",
        "outputId": "cc180582-e679-468c-e59e-97823dd64154"
      },
      "execution_count": 39,
      "outputs": [
        {
          "output_type": "stream",
          "name": "stdout",
          "text": [
            "Media: 7.459\n"
          ]
        }
      ]
    },
    {
      "cell_type": "code",
      "source": [
        "# Calcular la varianza:\n",
        "varianza_nb = np.var(nb)\n",
        "print(\"Varianza:\", varianza_nb)"
      ],
      "metadata": {
        "colab": {
          "base_uri": "https://localhost:8080/"
        },
        "id": "npY8hNGpgiM6",
        "outputId": "9fb0304e-ca6f-40d2-8e95-1d83c58a7a45"
      },
      "execution_count": 40,
      "outputs": [
        {
          "output_type": "stream",
          "name": "stdout",
          "text": [
            "Varianza: 10.532319\n"
          ]
        }
      ]
    },
    {
      "cell_type": "code",
      "source": [
        "# Calcular la desviación estándar:\n",
        "sigma_nb = np.sqrt(varianza_nb)\n",
        "print(\"Desviación estándar:\", sigma_nb)"
      ],
      "metadata": {
        "colab": {
          "base_uri": "https://localhost:8080/"
        },
        "id": "ARoLGJrxgiQP",
        "outputId": "05455536-82e3-4e03-fef5-105e68a0d72d"
      },
      "execution_count": 41,
      "outputs": [
        {
          "output_type": "stream",
          "name": "stdout",
          "text": [
            "Desviación estándar: 3.2453534476232324\n"
          ]
        }
      ]
    },
    {
      "cell_type": "markdown",
      "source": [
        "---"
      ],
      "metadata": {
        "id": "SBI5aGbBiEsf"
      }
    },
    {
      "cell_type": "markdown",
      "source": [
        "## *5. Distribución de Poisson*"
      ],
      "metadata": {
        "id": "80Brc1GFWxHY"
      }
    },
    {
      "cell_type": "markdown",
      "source": [
        "\n",
        "\n",
        "---\n",
        "*Nomenclatura:*\n",
        "\n",
        "  *   $X \\sim Poisson(λ)$\n",
        "  *   $X \\sim Poi(λ)$\n",
        "\n",
        "donde:\n",
        "\n",
        "*   λ$>0$\n",
        "*   $X$ una variable aleatoria.\n",
        "\n",
        "\n",
        "\n",
        "\n",
        "---\n",
        "*Función de Densidad:*\n",
        "\n",
        "Si $X \\sim Poi(λ)$  entonces, la función de densidad es:\n",
        "\n",
        "$$\n",
        "f(k;λ)=P(X=k)=\\frac{λ^ke^{-λ}}{k!},\n",
        "$$\n",
        "\n",
        "donde:\n",
        "\n",
        "*  $k$ es el número de ocaciones $(k=0,1,2, ...)$\n",
        "\n",
        "\n",
        "![PMF Poisson](https://upload.wikimedia.org/wikipedia/commons/thumb/1/16/Poisson_pmf.svg/1024px-Poisson_pmf.svg.png)\n",
        "\n",
        "---\n",
        "\n",
        "\n",
        "*Funcion de Distribución Acumulativa:*\n",
        "\n",
        "Si $X \\sim Poi(λ)$ entonces, la función de distribuciín acumulativa es:\n",
        "\n",
        "$$\n",
        "F(x)=\\frac{Γ(|k+1|,λ)}{|k|!}  \n",
        "$$\n",
        "\n",
        "para $k\\geq 0$.\n",
        "\n",
        "Donde:\n",
        "\n",
        "*  $Γ(x,y)$ es la *función gamma incompleta.*\n",
        "\n",
        "\n",
        "![CDF Poisson](https://upload.wikimedia.org/wikipedia/commons/thumb/a/a2/PoissonCDF.png/1024px-PoissonCDF.png)\n",
        "\n",
        "\n",
        "\n",
        "---\n",
        "\n",
        "*Media:*\n",
        "$$\n",
        " μ = λ\n",
        "$$\n",
        "\n",
        "---\n",
        "\n",
        "*Varianza:*\n",
        "$$\n",
        "σ^2=λ\n",
        "$$\n",
        "\n",
        "---\n",
        "\n",
        "*Desviación Estándar:*\n",
        "$$\n",
        "𝜎=\\sqrt{λ}\n",
        "$$\n",
        "\n",
        "---\n",
        "\n",
        "*Pseudocódigo:*\n",
        "\n",
        "\n",
        "```\n",
        "# Método de Knuth\n",
        "# Función Poisson_Knuth(lambd, n)\n",
        "     \\\\ Entrada:\n",
        "          - lambd: Parámetro λ (> 0)\n",
        "          - n: Número de muestras\n",
        "     \\\\ Salida:\n",
        "          - Lista con n valores distribuidos Poisson(λ)\n",
        "\n",
        "     Inicio de lista: Lista vacía\n",
        "     Para i desde 1 hasta n hacer\n",
        "         a. L = exp(-lambd)\n",
        "         b. k = 0\n",
        "         c. p = 1\n",
        "         d. Mientras p > L hacer\n",
        "             - Generar R: número aleatorio uniforme en (0,1)\n",
        "             - p = p * R\n",
        "             - k = k + 1\n",
        "         e. Agregar (k - 1) a Lista\n",
        "     Fin Para\n",
        "     Retornar Lista\n",
        "```\n",
        "---\n",
        "*Código:*\n",
        "\n",
        "\n",
        "\n",
        "\n",
        "\n",
        "\n",
        "\n",
        "\n",
        "\n"
      ],
      "metadata": {
        "id": "4A3EQ3aXdqLU"
      }
    },
    {
      "cell_type": "code",
      "source": [
        "# Paquetes necesarios\n",
        "import numpy as np\n",
        "import matplotlib.pyplot as plt\n",
        "import random as rd"
      ],
      "metadata": {
        "id": "Hm_cjYVEiGiG"
      },
      "execution_count": 57,
      "outputs": []
    },
    {
      "cell_type": "code",
      "source": [
        "# Parámetros\n",
        "lambd = 4     # Valor de lambda"
      ],
      "metadata": {
        "id": "D4Sg95nciSes"
      },
      "execution_count": 58,
      "outputs": []
    },
    {
      "cell_type": "code",
      "source": [
        "# Función Poisson usando el método de Knuth\n",
        "def poisson(n):\n",
        "    lista = []\n",
        "    for _ in range(n):\n",
        "        L = np.exp(-lambd)\n",
        "        k = 0\n",
        "        p = 1\n",
        "        while p > L:\n",
        "            R = rd.random()    # Número aleatorio uniforme en (0,1)\n",
        "            p *= R\n",
        "            k += 1\n",
        "        lista.append(k - 1)    # Poisson usa k - 1\n",
        "    return lista"
      ],
      "metadata": {
        "id": "g5rYQ8VLiGk9"
      },
      "execution_count": 59,
      "outputs": []
    },
    {
      "cell_type": "code",
      "source": [
        "# Llamar a la función poisson(n) y dar valor a n (número de muestras)\n",
        "n = 1000    # Número de muestras\n",
        "p = poisson(n)"
      ],
      "metadata": {
        "id": "Axf9_5UbiGnn"
      },
      "execution_count": 60,
      "outputs": []
    },
    {
      "cell_type": "code",
      "source": [
        "# Graficar la Distribución de Poisson:\n",
        "plt.hist(p, bins=range(min(p), max(p)+2), color='gold')\n",
        "plt.title('Distribución de Poisson')\n",
        "plt.xlabel('Número de eventos')\n",
        "plt.ylabel('Frecuencia')\n",
        "plt.grid(True)\n",
        "plt.show()"
      ],
      "metadata": {
        "colab": {
          "base_uri": "https://localhost:8080/",
          "height": 472
        },
        "id": "Uan9Lfsyi9AD",
        "outputId": "fbfdb523-8f2d-4883-8953-65cedf845cdf"
      },
      "execution_count": 62,
      "outputs": [
        {
          "output_type": "display_data",
          "data": {
            "text/plain": [
              "<Figure size 640x480 with 1 Axes>"
            ],
            "image/png": "[encoded data removed]"
          },
          "metadata": {}
        }
      ]
    },
    {
      "cell_type": "code",
      "source": [
        "# Estadísticas básicas:\n",
        "print(\"Media:\", np.mean(p))\n",
        "print(\"Varianza:\", np.var(p))\n",
        "print(\"Desviación estándar:\", np.std(p))"
      ],
      "metadata": {
        "colab": {
          "base_uri": "https://localhost:8080/"
        },
        "id": "GC9w04-AiGsv",
        "outputId": "dc69bea4-1017-4b64-9dea-8f17e0b5e57b"
      },
      "execution_count": 63,
      "outputs": [
        {
          "output_type": "stream",
          "name": "stdout",
          "text": [
            "Media: 4.124\n",
            "Varianza: 4.128623999999999\n",
            "Desviación estándar: 2.031901572419294\n"
          ]
        }
      ]
    },
    {
      "cell_type": "markdown",
      "source": [
        "---"
      ],
      "metadata": {
        "id": "cbFOiYcoji1g"
      }
    }
  ]
}