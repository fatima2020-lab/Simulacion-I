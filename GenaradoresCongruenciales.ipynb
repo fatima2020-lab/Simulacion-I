{
  "nbformat": 4,
  "nbformat_minor": 0,
  "metadata": {
    "colab": {
      "provenance": [],
      "authorship_tag": "ABX9TyN0rAV6JXmsv7rDjbqzbiwg",
      "include_colab_link": true
    },
    "kernelspec": {
      "name": "python3",
      "display_name": "Python 3"
    },
    "language_info": {
      "name": "python"
    }
  },
  "cells": [
    {
      "cell_type": "markdown",
      "metadata": {
        "id": "view-in-github",
        "colab_type": "text"
      },
      "source": [
        "<a href=\"https://colab.research.google.com/github/fatima2020-lab/Simulacion-I/blob/main/GenaradoresCongruenciales.ipynb\" target=\"_parent\"><img src=\"https://colab.research.google.com/assets/colab-badge.svg\" alt=\"Open In Colab\"/></a>"
      ]
    },
    {
      "cell_type": "code",
      "execution_count": null,
      "metadata": {
        "id": "HcxzzPPXMRKo"
      },
      "outputs": [],
      "source": []
    },
    {
      "cell_type": "markdown",
      "source": [
        "Nùmeros Aleatorios"
      ],
      "metadata": {
        "id": "5z0b3fP3b0vz"
      }
    },
    {
      "cell_type": "code",
      "source": [
        "# Generador Congruencial Mixto\n",
        "import pandas as pd\n",
        "from tabulate import tabulate # libreria tabulate para mejorar la tabla\n",
        "\n",
        "def generador(a, c, m, x0):\n",
        "    \"\"\"\n",
        "    Genera un nuevo número pseudoaleatorio utilizando el método del Generador Congruencial Mixto.\n",
        "\n",
        "    Parámetros:\n",
        "    - a: Multiplicador\n",
        "    - c: Incremento\n",
        "    - m: Módulo\n",
        "    - x0: Valor inicial (semilla)\n",
        "\n",
        "    Retorna:\n",
        "    - x: Nuevo valor generado\n",
        "    - Vn: Valor normalizado (entre 0 y 1)\n",
        "    \"\"\"\n",
        "    x = ((a * x0 )+ c) % m\n",
        "    Vn = x / m\n",
        "    return x, Vn\n",
        "\n",
        "# Valores Iniciales\n",
        "a = 1\n",
        "c = 121\n",
        "m = 30\n",
        "x0 = 17\n",
        "\n",
        "# Iniciamos el ciclo para encontrar el periodo del generador\n",
        "x = x0\n",
        "tabla = []\n",
        "valores_vistos = {}  # Diciconario eficiente para encontrar el valor repetido sin recorrer cada iteraciòn\n",
        "\n",
        "\n",
        "for i in range(m + 1):  # Aumentar el rango para poder localizar el ciclo de vida\n",
        "    x, Vn = generador(a, c, m, x)\n",
        "\n",
        "    if x in valores_vistos:  #Valor para detectar el ciclo\n",
        "        ciclo_inicio = valores_vistos[x] #Ingerar cada valor generado\n",
        "        ciclo_longitud = i - ciclo_inicio # Calculo de la longitud del ciclo.\n",
        "        print(f\"Se detectó un ciclo en la iteración {ciclo_inicio + 1} con longitud {ciclo_longitud}\")\n",
        "        break\n",
        "\n",
        "    valores_vistos[x] = i # Lugar en que esta x por primera vez\n",
        "    tabla.append([i + 1, x, Vn])\n",
        "\n",
        "# Incluimos el DataFrame para organizar y ordenar los datos\n",
        "df = pd.DataFrame(tabla, columns=['Iteración', 'x', 'Vn'])\n",
        "\n",
        "# Imprimir tabla\n",
        "print(tabulate(df, headers='keys', tablefmt='grid'))"
      ],
      "metadata": {
        "colab": {
          "base_uri": "https://localhost:8080/"
        },
        "id": "TP4PMMY7caJj",
        "outputId": "5195b6b5-0d48-43d0-fbab-1625370e6e6b"
      },
      "execution_count": 1,
      "outputs": [
        {
          "output_type": "stream",
          "name": "stdout",
          "text": [
            "Se detectó un ciclo en la iteración 1 con longitud 30\n",
            "+----+-------------+-----+-----------+\n",
            "|    |   Iteración |   x |        Vn |\n",
            "+====+=============+=====+===========+\n",
            "|  0 |           1 |  18 | 0.6       |\n",
            "+----+-------------+-----+-----------+\n",
            "|  1 |           2 |  19 | 0.633333  |\n",
            "+----+-------------+-----+-----------+\n",
            "|  2 |           3 |  20 | 0.666667  |\n",
            "+----+-------------+-----+-----------+\n",
            "|  3 |           4 |  21 | 0.7       |\n",
            "+----+-------------+-----+-----------+\n",
            "|  4 |           5 |  22 | 0.733333  |\n",
            "+----+-------------+-----+-----------+\n",
            "|  5 |           6 |  23 | 0.766667  |\n",
            "+----+-------------+-----+-----------+\n",
            "|  6 |           7 |  24 | 0.8       |\n",
            "+----+-------------+-----+-----------+\n",
            "|  7 |           8 |  25 | 0.833333  |\n",
            "+----+-------------+-----+-----------+\n",
            "|  8 |           9 |  26 | 0.866667  |\n",
            "+----+-------------+-----+-----------+\n",
            "|  9 |          10 |  27 | 0.9       |\n",
            "+----+-------------+-----+-----------+\n",
            "| 10 |          11 |  28 | 0.933333  |\n",
            "+----+-------------+-----+-----------+\n",
            "| 11 |          12 |  29 | 0.966667  |\n",
            "+----+-------------+-----+-----------+\n",
            "| 12 |          13 |   0 | 0         |\n",
            "+----+-------------+-----+-----------+\n",
            "| 13 |          14 |   1 | 0.0333333 |\n",
            "+----+-------------+-----+-----------+\n",
            "| 14 |          15 |   2 | 0.0666667 |\n",
            "+----+-------------+-----+-----------+\n",
            "| 15 |          16 |   3 | 0.1       |\n",
            "+----+-------------+-----+-----------+\n",
            "| 16 |          17 |   4 | 0.133333  |\n",
            "+----+-------------+-----+-----------+\n",
            "| 17 |          18 |   5 | 0.166667  |\n",
            "+----+-------------+-----+-----------+\n",
            "| 18 |          19 |   6 | 0.2       |\n",
            "+----+-------------+-----+-----------+\n",
            "| 19 |          20 |   7 | 0.233333  |\n",
            "+----+-------------+-----+-----------+\n",
            "| 20 |          21 |   8 | 0.266667  |\n",
            "+----+-------------+-----+-----------+\n",
            "| 21 |          22 |   9 | 0.3       |\n",
            "+----+-------------+-----+-----------+\n",
            "| 22 |          23 |  10 | 0.333333  |\n",
            "+----+-------------+-----+-----------+\n",
            "| 23 |          24 |  11 | 0.366667  |\n",
            "+----+-------------+-----+-----------+\n",
            "| 24 |          25 |  12 | 0.4       |\n",
            "+----+-------------+-----+-----------+\n",
            "| 25 |          26 |  13 | 0.433333  |\n",
            "+----+-------------+-----+-----------+\n",
            "| 26 |          27 |  14 | 0.466667  |\n",
            "+----+-------------+-----+-----------+\n",
            "| 27 |          28 |  15 | 0.5       |\n",
            "+----+-------------+-----+-----------+\n",
            "| 28 |          29 |  16 | 0.533333  |\n",
            "+----+-------------+-----+-----------+\n",
            "| 29 |          30 |  17 | 0.566667  |\n",
            "+----+-------------+-----+-----------+\n"
          ]
        }
      ]
    }
  ]
}