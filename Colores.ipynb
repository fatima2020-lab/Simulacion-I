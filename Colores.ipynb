{
  "nbformat": 4,
  "nbformat_minor": 0,
  "metadata": {
    "colab": {
      "provenance": [],
      "collapsed_sections": [
        "hUuO85Se3c1_"
      ],
      "authorship_tag": "ABX9TyOULjRBwUjjz2JaC6hwr6GQ",
      "include_colab_link": true
    },
    "kernelspec": {
      "name": "python3",
      "display_name": "Python 3"
    },
    "language_info": {
      "name": "python"
    }
  },
  "cells": [
    {
      "cell_type": "markdown",
      "metadata": {
        "id": "view-in-github",
        "colab_type": "text"
      },
      "source": [
        "<a href=\"https://colab.research.google.com/github/fatima2020-lab/Simulacion-I/blob/main/Colores.ipynb\" target=\"_parent\"><img src=\"https://colab.research.google.com/assets/colab-badge.svg\" alt=\"Open In Colab\"/></a>"
      ]
    },
    {
      "cell_type": "markdown",
      "source": [
        "**TABLERO DE COLORES**\n"
      ],
      "metadata": {
        "id": "OSBVraZ2zH9h"
      }
    },
    {
      "cell_type": "markdown",
      "source": [
        "# Solución Analitica"
      ],
      "metadata": {
        "id": "hUuO85Se3c1_"
      }
    },
    {
      "cell_type": "markdown",
      "source": [
        "En este ejercico el teorema de Probabilidad Condicional esta ligeramente implicto al construir el modelo. Es decir, se usa este teorema en el aspecto de *Si estoy en i posicion/sector , ¿cual es la probabilidad de estar en j?*.\n",
        "\n",
        "Y conocemos que las probabilidades son:\n",
        "*  $ CC = \\frac{1}{4}$ \\\\\n",
        "*  $CX = \\frac{1}{2}$ \\\\\n",
        "*  $XC = \\frac{1}{2}$ \\\\\n",
        "*  $XX = \\frac{1}{4}$ \\\\\n",
        "\n",
        "Entonces para $n=2$ podriamos tener el siguiente sistema tomando en cuenta que estamos en Naranja:\n",
        "\n",
        "$X_2 = \\frac{1}{4} x_1 + 0 y_1 + \\frac{1}{4} z_1 + \\frac{2}{4} t_1$ \\\\\n",
        "\n",
        "\n",
        "$Y_2 = \\frac{2}{4} x_1 + \\frac{1}{4} y_1 + 0 z_1 + \\frac{1}{4} t_1 $ \\\\\n",
        "\n",
        "\n",
        "$Z_2 = \\frac{1}{4} x_1 + \\frac{2}{4} y_1 + \\frac{1}{4} z_1 + 0 t_1 $ \\\\\n",
        "\n",
        "\n",
        "$t_2 = 0 x_1 + \\frac{1}{4} y_1 + \\frac{2}{4} z_1 + \\frac{1}{4} t_1 $ \\\\\n",
        "\n",
        "En general, podemos obtener una matriz de la siguiente forma: \\\\\n",
        "\n",
        "\\begin{pmatrix}\n",
        "\\frac{1}{4} & 0 & \\frac{1}{4} & \\frac{2}{4} \\\\\n",
        "\\frac{2}{4} & \\frac{1}{4} & 0 & \\frac{1}{4} \\\\\n",
        "\\frac{1}{4} & \\frac{2}{4} & \\frac{1}{4} & 0 \\\\\n",
        "0 & \\frac{1}{4} & \\frac{2}{4}  & \\frac{1}{4}\n",
        "\\end{pmatrix}\n",
        "\n",
        "Donde la suma de cada uno de los elementos es 1 y nos representa que es una distribucion valida cumpliendo con la propiedad de las distribuciones de probabilidad.\n",
        "\n",
        "\n"
      ],
      "metadata": {
        "id": "RmYKm36z3f__"
      }
    },
    {
      "cell_type": "markdown",
      "source": [
        "# Solución por Simulación"
      ],
      "metadata": {
        "id": "s6j-ZYrN16Nm"
      }
    },
    {
      "cell_type": "code",
      "source": [
        "import numpy as np\n",
        "import random as rd\n",
        "import matplotlib.pyplot as plt"
      ],
      "metadata": {
        "id": "cbj6cgkizIKS"
      },
      "execution_count": 7,
      "outputs": []
    },
    {
      "cell_type": "code",
      "source": [
        "\n",
        "def movimientos(n_pasos):\n",
        "\n",
        "    # Asociamos cada número a un color dentro de un diccionario\n",
        "    colores = {0: 'verde', 1: 'rojo', 2: 'azul', 3: 'amarillo'}\n",
        "\n",
        "    # Creamos el diccionario para contar visitas por color\n",
        "    conteo = {color: 0 for color in colores.values()}\n",
        "\n",
        "    posc_actual = 0  # Empezamos en la posición 0, es decir \"verde\"\n",
        "\n",
        "    for _ in range(n_pasos):\n",
        "        # Movimiento: suma de dos monedas -  Binomial(2, 0.5)\n",
        "        avance = np.random.binomial(n=2, p=0.5)\n",
        "        posc_actual = (posc_actual + avance) % 4  # rotación en círculo\n",
        "\n",
        "        # Actualizamos el color visitado\n",
        "        color_actual = colores[posc_actual]\n",
        "        conteo[color_actual] += 1\n",
        "\n",
        "    # Frecuencias relativas\n",
        "    total_visitas = sum(conteo.values())\n",
        "    frecuencia = {color: visitas / total_visitas for color, visitas in conteo.items()}\n",
        "\n",
        "    return frecuencia\n"
      ],
      "metadata": {
        "id": "tSKqAAp6zIWG"
      },
      "execution_count": 27,
      "outputs": []
    },
    {
      "cell_type": "code",
      "source": [
        "n_pasos = 10000 # num de veces que vamos a simularla\n",
        "resultado= movimientos(n_pasos)\n",
        "print(\"Frecuencia relativa de visitas por color:\")\n",
        "for color, freq in resultado.items():\n",
        "    print(f\"{color}: {freq:.4f}\")"
      ],
      "metadata": {
        "colab": {
          "base_uri": "https://localhost:8080/"
        },
        "id": "MxzJ-mqWzIZZ",
        "outputId": "1610f698-7d53-4461-dddf-8f939d9c4d7d"
      },
      "execution_count": 31,
      "outputs": [
        {
          "output_type": "stream",
          "name": "stdout",
          "text": [
            "Frecuencia relativa de visitas por color:\n",
            "verde: 0.2442\n",
            "rojo: 0.2500\n",
            "azul: 0.2515\n",
            "amarillo: 0.2543\n"
          ]
        }
      ]
    },
    {
      "cell_type": "code",
      "source": [
        "# Diccionario de colores válidos para matplotlib\n",
        "coloresc = {'verde': 'green','rojo': 'red','azul': 'blue','amarillo': 'gold'}\n",
        "\n",
        "# Preparamos datos para graficar\n",
        "colores = list(resultado.keys())\n",
        "frecuencias = list(resultado.values())\n",
        "colores_validos = [coloresc[c] for c in colores]"
      ],
      "metadata": {
        "id": "mEQYUNEZ08Cv"
      },
      "execution_count": 32,
      "outputs": []
    },
    {
      "cell_type": "markdown",
      "source": [
        "**¿Son todos los sectores igual de probablies cuando pase mucho tiempo?**\n",
        "\n",
        "Para una $n_{vez}$ = 15 de pocas repeticiones, podemos ver que la probabilidad de caer en cada sector se nota su cambio en la frecuencia ya que son muy distintas debido a la aleatoriedad.\n",
        "\n",
        "Sin embargo, para $n_{vez}=100 000$  las probabilidades van de acuerdo con la ley de los grandes numeros, donde al hacer muchos experimentos las frecuencias se estabilizan y reflejan la verdadera probabilidad.\n"
      ],
      "metadata": {
        "id": "nHtQeAcl2m4l"
      }
    },
    {
      "cell_type": "code",
      "source": [
        "# Graficamos\n",
        "\n",
        "plt.bar(colores, frecuencias, color=colores_validos)\n",
        "plt.title(\"Frecuencia relativa por color en la ruleta\")\n",
        "plt.xlabel(\"Color\")\n",
        "plt.ylabel(\"Frecuencia relativa\")\n",
        "plt.ylim(0, 0.4)\n",
        "plt.grid(axis='y', linestyle='--', alpha=0.7)\n",
        "plt.show()"
      ],
      "metadata": {
        "colab": {
          "base_uri": "https://localhost:8080/",
          "height": 472
        },
        "id": "3-Vj6etF0dVB",
        "outputId": "12da3134-eebe-470e-d5cf-9e4ce037a86f"
      },
      "execution_count": 33,
      "outputs": [
        {
          "output_type": "display_data",
          "data": {
            "text/plain": [
              "<Figure size 640x480 with 1 Axes>"
            ],
            "image/png": "[encoded data removed]"
          },
          "metadata": {}
        }
      ]
    }
  ]
}