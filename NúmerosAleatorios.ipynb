{
  "nbformat": 4,
  "nbformat_minor": 0,
  "metadata": {
    "colab": {
      "provenance": [],
      "authorship_tag": "ABX9TyNApwcb5/+yIxMU9UAIedS2",
      "include_colab_link": true
    },
    "kernelspec": {
      "name": "python3",
      "display_name": "Python 3"
    },
    "language_info": {
      "name": "python"
    }
  },
  "cells": [
    {
      "cell_type": "markdown",
      "metadata": {
        "id": "view-in-github",
        "colab_type": "text"
      },
      "source": [
        "<a href=\"https://colab.research.google.com/github/fatima2020-lab/Simulacion-I/blob/main/N%C3%BAmerosAleatorios.ipynb\" target=\"_parent\"><img src=\"https://colab.research.google.com/assets/colab-badge.svg\" alt=\"Open In Colab\"/></a>"
      ]
    },
    {
      "cell_type": "code",
      "execution_count": 3,
      "metadata": {
        "colab": {
          "base_uri": "https://localhost:8080/"
        },
        "id": "7XrpDC1FWRkV",
        "outputId": "266dc055-55ac-405e-e562-37e3a0a19bb0"
      },
      "outputs": [
        {
          "output_type": "stream",
          "name": "stdout",
          "text": [
            "18\n"
          ]
        }
      ],
      "source": [
        "mod=84%22\n",
        "print(mod)"
      ]
    },
    {
      "cell_type": "markdown",
      "source": [
        "Números Aleatorios\n",
        "  1. Generador Congruencial"
      ],
      "metadata": {
        "id": "ByBc993zcbPk"
      }
    },
    {
      "cell_type": "code",
      "source": [
        "a= 4\n",
        "c=7\n",
        "m = 22\n",
        "x = 3\n",
        "for i in range(10):\n",
        " x=((a*x)+c)%m\n",
        " print(x)"
      ],
      "metadata": {
        "colab": {
          "base_uri": "https://localhost:8080/"
        },
        "id": "yUwHOhL_ck2S",
        "outputId": "dc65aef2-f547-4f3b-90f7-9106329d1d82"
      },
      "execution_count": 27,
      "outputs": [
        {
          "output_type": "stream",
          "name": "stdout",
          "text": [
            "19\n",
            "17\n",
            "9\n",
            "21\n",
            "3\n",
            "19\n",
            "17\n",
            "9\n",
            "21\n",
            "3\n"
          ]
        }
      ]
    },
    {
      "cell_type": "code",
      "source": [
        "import pandas as pd\n",
        "\n",
        "#Función de la fórmula del Generador Congruencial\n",
        "def generador(a, c, m, x0):\n",
        " x = ((a*x0)+c)%m\n",
        " Vn= x/m     #Valor normalizado (Xn/m)\n",
        " return x,Vn\n",
        "a= 22\n",
        "c= 22\n",
        "m = 22\n",
        "x = 3\n",
        "\n",
        "#Ciclo para n iteraciones\n",
        "n_iteraciones = 10\n",
        "\n",
        "\n",
        "x=x0\n",
        "\n",
        "for i in range(n_iteraciones):\n",
        " x, Vn =generador(a, c, m ,x)\n",
        " print(f\"Iteración {i+1}: x={x}\")\n",
        "#print(f\"Valor Normalizado{i+1}: Vn= {Vn}\")"
      ],
      "metadata": {
        "colab": {
          "base_uri": "https://localhost:8080/"
        },
        "id": "KGKTFh1xff-L",
        "outputId": "65ce2de8-bbf6-4a23-d2f3-b9d6bf7bcf3e"
      },
      "execution_count": 39,
      "outputs": [
        {
          "output_type": "stream",
          "name": "stdout",
          "text": [
            "Iteración 1: x=15\n",
            "Iteración 2: x=5\n",
            "Iteración 3: x=17\n",
            "Iteración 4: x=7\n",
            "Iteración 5: x=19\n",
            "Iteración 6: x=9\n",
            "Iteración 7: x=21\n",
            "Iteración 8: x=11\n",
            "Iteración 9: x=1\n",
            "Iteración 10: x=13\n"
          ]
        }
      ]
    }
  ]
}