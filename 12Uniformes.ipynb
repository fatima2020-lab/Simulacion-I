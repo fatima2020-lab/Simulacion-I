{
  "nbformat": 4,
  "nbformat_minor": 0,
  "metadata": {
    "colab": {
      "provenance": [],
      "authorship_tag": "ABX9TyMf/8ALw++NipakH7q1ee1W",
      "include_colab_link": true
    },
    "kernelspec": {
      "name": "python3",
      "display_name": "Python 3"
    },
    "language_info": {
      "name": "python"
    }
  },
  "cells": [
    {
      "cell_type": "markdown",
      "metadata": {
        "id": "view-in-github",
        "colab_type": "text"
      },
      "source": [
        "<a href=\"https://colab.research.google.com/github/fatima2020-lab/Simulacion-I/blob/main/12Uniformes.ipynb\" target=\"_parent\"><img src=\"https://colab.research.google.com/assets/colab-badge.svg\" alt=\"Open In Colab\"/></a>"
      ]
    },
    {
      "cell_type": "markdown",
      "source": [
        "**Método de las 12 uniformes**\n",
        "\n",
        "\n",
        "*   Distribución Normal\n",
        "\n"
      ],
      "metadata": {
        "id": "eFaSxurn5-Pm"
      }
    },
    {
      "cell_type": "markdown",
      "source": [
        "Definir las librerias que se utilizaran"
      ],
      "metadata": {
        "id": "mShNMBNY6FzN"
      }
    },
    {
      "cell_type": "code",
      "source": [
        "import numpy as np\n",
        "import matplotlib.pyplot as plt\n",
        "import random as rd\n"
      ],
      "metadata": {
        "id": "GkhdJHdf6GHl"
      },
      "execution_count": 8,
      "outputs": []
    },
    {
      "cell_type": "markdown",
      "source": [
        "Definir el valor de los parámetros (**μ** y **σ**)"
      ],
      "metadata": {
        "id": "ktD_oYJ4FRvz"
      }
    },
    {
      "cell_type": "code",
      "source": [
        "mu = 2\n",
        "sig = 3\n"
      ],
      "metadata": {
        "id": "3-RwS1iT6cLV"
      },
      "execution_count": 9,
      "outputs": []
    },
    {
      "cell_type": "markdown",
      "source": [
        "Definir a:\n",
        "$x = \\mu + \\sigma (\\sum_{i=1}^{12}R_i-6)$\n",
        "utilizando una función de def"
      ],
      "metadata": {
        "id": "UN1J39GuFZkC"
      }
    },
    {
      "cell_type": "code",
      "source": [
        "def doce(n):\n",
        "  lista = []    # Definir la lista del tamaño de la muestra\n",
        "  for _ in range(n):  # Ciclo for para la la ecuación de x\n",
        "    suma = 0          # Variable para guardar la suma de los números aleatorios.\n",
        "    for _ in range(12):  # Cliclo for para la sumatoria\n",
        "      Ri = rd.random()   # Números aleatorios\n",
        "      suma = suma + Ri   # Funcion de la sumatoria\n",
        "\n",
        "    x = mu + sig * (suma -6)\n",
        "    lista.append(x)\n",
        "  return lista\n",
        "\n",
        "\n",
        "\n"
      ],
      "metadata": {
        "id": "4WXrjMZE6g4d"
      },
      "execution_count": 10,
      "outputs": []
    },
    {
      "cell_type": "markdown",
      "source": [
        "Resullatdos obtenidos"
      ],
      "metadata": {
        "id": "3Pm4kIjFFYi6"
      }
    },
    {
      "cell_type": "code",
      "source": [
        "resultado = doce(1000)\n"
      ],
      "metadata": {
        "id": "nkEVeIf989y0"
      },
      "execution_count": 11,
      "outputs": []
    },
    {
      "cell_type": "markdown",
      "source": [
        "Graficar en un histograma los resultados obtenidos"
      ],
      "metadata": {
        "id": "J-gwdruo_pFk"
      }
    },
    {
      "cell_type": "code",
      "source": [
        "plt.hist(resultado, bins = 20)\n",
        "plt.title('Método de las 12 uniformes')\n",
        "plt.show()"
      ],
      "metadata": {
        "colab": {
          "base_uri": "https://localhost:8080/",
          "height": 452
        },
        "id": "1iH9YOal_qoL",
        "outputId": "3b429ab8-a43e-451b-ae78-b15630ae48ed"
      },
      "execution_count": 12,
      "outputs": [
        {
          "output_type": "display_data",
          "data": {
            "text/plain": [
              "<Figure size 640x480 with 1 Axes>"
            ],
            "image/png": "[encoded data removed]"
          },
          "metadata": {}
        }
      ]
    },
    {
      "cell_type": "markdown",
      "source": [
        "Clacular la media la suma de todos los datos, es decir, **\"x\"**"
      ],
      "metadata": {
        "id": "A615BzHCGtPx"
      }
    },
    {
      "cell_type": "code",
      "source": [
        "media = np.mean(resultado)\n",
        "print (media)"
      ],
      "metadata": {
        "colab": {
          "base_uri": "https://localhost:8080/"
        },
        "id": "1FJwX1dYCsjT",
        "outputId": "d7dc7c12-da0f-4d68-a58c-e040a722146a"
      },
      "execution_count": 13,
      "outputs": [
        {
          "output_type": "stream",
          "name": "stdout",
          "text": [
            "1.9702229063572034\n"
          ]
        }
      ]
    },
    {
      "cell_type": "markdown",
      "source": [
        "Calcular la varianza de los datos"
      ],
      "metadata": {
        "id": "eWfSR9wWHLKh"
      }
    },
    {
      "cell_type": "code",
      "source": [
        "varianza = np.var(resultado)\n",
        "print (varianza)\n"
      ],
      "metadata": {
        "colab": {
          "base_uri": "https://localhost:8080/"
        },
        "id": "7SV_kvTYCy5S",
        "outputId": "01107582-3bdb-430a-cdd9-fdcd24ac06d6"
      },
      "execution_count": 14,
      "outputs": [
        {
          "output_type": "stream",
          "name": "stdout",
          "text": [
            "9.1121515840356\n"
          ]
        }
      ]
    }
  ]
}