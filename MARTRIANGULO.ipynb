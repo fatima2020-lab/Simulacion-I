{
  "nbformat": 4,
  "nbformat_minor": 0,
  "metadata": {
    "colab": {
      "provenance": [],
      "authorship_tag": "ABX9TyOvYmJjyyE0PGU1xDqrsOig",
      "include_colab_link": true
    },
    "kernelspec": {
      "name": "python3",
      "display_name": "Python 3"
    },
    "language_info": {
      "name": "python"
    }
  },
  "cells": [
    {
      "cell_type": "markdown",
      "metadata": {
        "id": "view-in-github",
        "colab_type": "text"
      },
      "source": [
        "<a href=\"https://colab.research.google.com/github/fatima2020-lab/Simulacion-I/blob/main/MARTRIANGULO.ipynb\" target=\"_parent\"><img src=\"https://colab.research.google.com/assets/colab-badge.svg\" alt=\"Open In Colab\"/></a>"
      ]
    },
    {
      "cell_type": "markdown",
      "source": [
        "**MÉTODO DE ACEPTACIÓN Y RECHAZO**\n",
        "\n",
        "\n",
        "\n",
        "\n",
        "*   Distribución Triangular\n",
        "\n",
        "\n",
        "\n",
        "\n"
      ],
      "metadata": {
        "id": "9ajEQwwlO8yr"
      }
    },
    {
      "cell_type": "markdown",
      "source": [
        "Inicio de Simulacion de la distribución Triangular con el método de Aceptación y Rechazo."
      ],
      "metadata": {
        "id": "72OkK3zDPSVz"
      }
    },
    {
      "cell_type": "markdown",
      "source": [
        "Definir los paquetes a utilizar"
      ],
      "metadata": {
        "id": "QwIvkKjRPqPM"
      }
    },
    {
      "cell_type": "code",
      "source": [
        "import matplotlib.pyplot as plt\n",
        "import numpy as np\n",
        "import math\n",
        "import random as rd"
      ],
      "metadata": {
        "id": "VqEAsr4GO9gw"
      },
      "execution_count": 42,
      "outputs": []
    },
    {
      "cell_type": "markdown",
      "source": [
        "Definir los parametros de la distribucion triangular $a$, $b$, $c$ y $M$ que es parametro para el método."
      ],
      "metadata": {
        "id": "2g84wTdMPtyy"
      }
    },
    {
      "cell_type": "code",
      "source": [
        "a = 1\n",
        "b = 3\n",
        "c = 5\n",
        "M = 0.5"
      ],
      "metadata": {
        "id": "abjEHVWHmfMl"
      },
      "execution_count": 43,
      "outputs": []
    },
    {
      "cell_type": "markdown",
      "source": [
        "Definir la funcion f(x):\\begin{equation}\n",
        "f(x) =\n",
        "\\begin{cases}\n",
        "\\frac{2(x-a)}{(b-a)(c-a)} & \\text{si } a<x\\leq b \\\\\n",
        "\\frac{2(c-x)}{(c-a)(c-b)} & \\text{si } b<x\\leq c\n",
        "\\end{cases}\n",
        "\\end{equation}"
      ],
      "metadata": {
        "id": "P7adTT-A0eyA"
      }
    },
    {
      "cell_type": "code",
      "source": [
        "def f(x):\n",
        "  if a<=x<=b:\n",
        "    return 2*(x-a)/((c-a)*(b-a))\n",
        "  elif b < x <=c:\n",
        "    return -2*(x-c)/((c-a)*(c-b))\n",
        "  else:\n",
        "    return 0"
      ],
      "metadata": {
        "id": "OzppovTrkzlZ"
      },
      "execution_count": 44,
      "outputs": []
    },
    {
      "cell_type": "markdown",
      "source": [
        "Definir la función para:\n",
        "*  $x=a+(b-a)R_1$\n",
        "\n",
        "\n"
      ],
      "metadata": {
        "id": "1qYTrgglRf-n"
      }
    },
    {
      "cell_type": "code",
      "source": [
        "def aceptacion(n):\n",
        "  Lista=[]\n",
        "  for _ in range(n):\n",
        "     R1= rd.random()\n",
        "     R2= rd.random()\n",
        "    #x = a+ (b-a)*R1\n",
        "     x = a+ (c-a)*R1 #se modifica la formula para la dist. triang. ya que se quiere cubrir todo el dominio\n",
        "     if R2 <= f(x)/M:\n",
        "      Lista.append(x)\n",
        "\n",
        "  return Lista"
      ],
      "metadata": {
        "id": "3SPiz2KgSNqy"
      },
      "execution_count": 45,
      "outputs": []
    },
    {
      "cell_type": "code",
      "source": [
        "C = aceptacion(5000)"
      ],
      "metadata": {
        "id": "aIkESED_SWVV"
      },
      "execution_count": 46,
      "outputs": []
    },
    {
      "cell_type": "markdown",
      "source": [
        "Graficar el Histograma de nuestra distribución con el método de Acepatación y Rechazo."
      ],
      "metadata": {
        "id": "1YREB_thSZ0J"
      }
    },
    {
      "cell_type": "code",
      "source": [
        "plt.hist(C, bins=50)\n",
        "plt.grid(True)\n",
        "plt.show()"
      ],
      "metadata": {
        "colab": {
          "base_uri": "https://localhost:8080/",
          "height": 430
        },
        "id": "TXg0oVMCSivH",
        "outputId": "ba34ecbf-3cfe-4471-a6ac-8d6717515a56"
      },
      "execution_count": 47,
      "outputs": [
        {
          "output_type": "display_data",
          "data": {
            "text/plain": [
              "<Figure size 640x480 with 1 Axes>"
            ],
            "image/png": "[encoded data removed]"
          },
          "metadata": {}
        }
      ]
    },
    {
      "cell_type": "markdown",
      "source": [
        "Calcular la media de nustra distribución."
      ],
      "metadata": {
        "id": "EPQwPrZBSy_U"
      }
    },
    {
      "cell_type": "code",
      "source": [
        "media = np.mean(C)\n",
        "print(media)"
      ],
      "metadata": {
        "id": "rdEptHfnT6RY"
      },
      "execution_count": 48,
      "outputs": []
    },
    {
      "cell_type": "markdown",
      "source": [
        "Calcular la varianza de nuestra distribución"
      ],
      "metadata": {
        "id": "3I0y_dq5S-Ny"
      }
    },
    {
      "cell_type": "code",
      "source": [
        "var = np.var(C)\n",
        "print(var)"
      ],
      "metadata": {
        "id": "KY8LAuEMZK7u"
      },
      "execution_count": null,
      "outputs": []
    },
    {
      "cell_type": "code",
      "source": [
        "len(C)"
      ],
      "metadata": {
        "colab": {
          "base_uri": "https://localhost:8080/"
        },
        "id": "cDNKswpZZMCD",
        "outputId": "546c1731-d137-4df5-efc4-b190479bb14a"
      },
      "execution_count": 50,
      "outputs": [
        {
          "output_type": "execute_result",
          "data": {
            "text/plain": [
              "2453"
            ]
          },
          "metadata": {},
          "execution_count": 50
        }
      ]
    }
  ]
}