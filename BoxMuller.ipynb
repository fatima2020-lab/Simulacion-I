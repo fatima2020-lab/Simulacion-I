{
  "nbformat": 4,
  "nbformat_minor": 0,
  "metadata": {
    "colab": {
      "provenance": [],
      "authorship_tag": "ABX9TyPiZwBntHiZjeNpbKn5BDqE",
      "include_colab_link": true
    },
    "kernelspec": {
      "name": "python3",
      "display_name": "Python 3"
    },
    "language_info": {
      "name": "python"
    }
  },
  "cells": [
    {
      "cell_type": "markdown",
      "metadata": {
        "id": "view-in-github",
        "colab_type": "text"
      },
      "source": [
        "<a href=\"https://colab.research.google.com/github/fatima2020-lab/Simulacion-I/blob/main/BoxMuller.ipynb\" target=\"_parent\"><img src=\"https://colab.research.google.com/assets/colab-badge.svg\" alt=\"Open In Colab\"/></a>"
      ]
    },
    {
      "cell_type": "markdown",
      "source": [
        "**Método Box - Muller**"
      ],
      "metadata": {
        "id": "FmltpdxWBpQG"
      }
    },
    {
      "cell_type": "markdown",
      "source": [
        "El Método Box-Muller genera **desviaciones normales** a paertir de números aleatorios independientes."
      ],
      "metadata": {
        "id": "o_nVyGmUyMYu"
      }
    },
    {
      "cell_type": "markdown",
      "source": [
        "Generar un par de desviacions aleatorias a la misma distribución normal a partir de un par de numeros aleatorios:\n"
      ],
      "metadata": {
        "id": "ugYRRlgczJfW"
      }
    },
    {
      "cell_type": "markdown",
      "source": [
        "Sea $U_1$ y $U_2$ variables aleatorias independientes en un intervalo de $(0, 1)$. Considerando las variaables aleatorias:\n",
        "\n",
        "\n",
        "*   $X=(-2\\log_ eU_1)^{\\frac{1}{2}}\\cos 2\\pi U_2$\n",
        "*   $Y=(-2\\log_ eU_1)^{\\frac{1}{2}}\\sin 2\\pi U_2$\n",
        "\n",
        "donde, $(X, Y)$ son un par de variables aleatorias independientes de la misma distribución con $μ = 0$  y $σ = 1$.\n",
        "\n"
      ],
      "metadata": {
        "id": "5dxY8JCEzYPM"
      }
    },
    {
      "cell_type": "markdown",
      "source": [
        "Las relaciones inversas:\n",
        "\n",
        "*   $U_1 = e \\frac{-(X^2 + Y^2)}{2}$\n",
        "*   $U_2 = -\\frac{1}{2\\pi} \\arctan \\frac{X}{Y}$\n",
        "\n"
      ],
      "metadata": {
        "id": "IzF8hzTf3Aha"
      }
    },
    {
      "cell_type": "markdown",
      "source": [
        "Donde la función de densidad conjunta de $X$ y $Y$  es:\n",
        "\n",
        "\n",
        "*   $f(X,Y)=\\frac{1}{2\\pi}e\\frac{-X+y}{2}=\\frac{1}{\\sqrt{2\\pi}}e\\frac{-X^2}{2}\\cdot \\frac{1}{\\sqrt{2\\pi}}e\\frac{-Y^2}{2}=f(X)f(Y)$\n",
        "\n",
        "Así, la independencia de $X$ y $Y$ son obtenidas."
      ],
      "metadata": {
        "id": "RWbiHDcw3w4C"
      }
    },
    {
      "cell_type": "markdown",
      "source": [
        "Si $U$ tiene una densidad rectangular en el intervalo $(0,1)$, entonces $-2\\log_eU$ tiene una Distribuión Chi-Cuadrada con dos grados de libertad."
      ],
      "metadata": {
        "id": "tj7Wbz6q7Gz2"
      }
    },
    {
      "cell_type": "markdown",
      "source": [
        "Las desviaciones de la distribución $F$  y la distribución $t$  se obtienen calculando la razón apropiada de desviaciones generadas."
      ],
      "metadata": {
        "id": "eFK6lGzg9MyD"
      }
    },
    {
      "cell_type": "markdown",
      "source": [
        "El método se genero apartir de tener desviaciones normales con colas de la distribucioón."
      ],
      "metadata": {
        "id": "J6Y1au649wTs"
      }
    },
    {
      "cell_type": "markdown",
      "source": [
        "Llamar a los paquetes que se necesitan:"
      ],
      "metadata": {
        "id": "z7kHLxM_yG--"
      }
    },
    {
      "cell_type": "code",
      "source": [
        "import numpy as np\n",
        "import matplotlib.pyplot as plt\n",
        "import random as rd\n"
      ],
      "metadata": {
        "id": "Gq878TMVBpYe"
      },
      "execution_count": 5,
      "outputs": []
    },
    {
      "cell_type": "markdown",
      "source": [
        "Definir la Función"
      ],
      "metadata": {
        "id": "DOdawDcfx_tm"
      }
    },
    {
      "cell_type": "code",
      "source": [
        "def box_muller(n):\n",
        "  lista = []          # Iniciar lista vacia\n",
        "  for _ in range(n):  #\n",
        "    # Generar numéros aleatorios: U1 y U2 - U(0,1)\n",
        "    U1 = rd.random()\n",
        "    U2 = rd.random()\n",
        "\n",
        "    # Relaciones inversas\n",
        "    R = np.sqrt(-2 * np.log(U1))\n",
        "    Theta = 2 * np.pi * U2\n",
        "\n",
        "    # Variables alaetorias independientes de la distribución Normal\n",
        "    X = R * np.cos(Theta)\n",
        "    Y = R * np.sin(Theta)\n",
        "\n",
        "    lista.append(X)\n",
        "    lista.append(Y)\n",
        "  return lista"
      ],
      "metadata": {
        "id": "kXciEmVcDN0-"
      },
      "execution_count": 6,
      "outputs": []
    },
    {
      "cell_type": "code",
      "source": [
        "resultado = box_muller(1000)\n"
      ],
      "metadata": {
        "id": "HeBEYVcqEYWm"
      },
      "execution_count": 7,
      "outputs": []
    },
    {
      "cell_type": "markdown",
      "source": [
        "Graficando nuestros resultados con el Método de Box-Muller con distribución Normal"
      ],
      "metadata": {
        "id": "lmZ_pMwdEuxe"
      }
    },
    {
      "cell_type": "code",
      "source": [
        "plt.hist(resultado, bins = 20)\n",
        "plt.show()"
      ],
      "metadata": {
        "colab": {
          "base_uri": "https://localhost:8080/",
          "height": 430
        },
        "id": "w1fkRsmOEvGF",
        "outputId": "ca96e9bb-3c88-459e-d9ff-34c3d3899b37"
      },
      "execution_count": 8,
      "outputs": [
        {
          "output_type": "display_data",
          "data": {
            "text/plain": [
              "<Figure size 640x480 with 1 Axes>"
            ],
            "image/png": "[encoded data removed]"
          },
          "metadata": {}
        }
      ]
    },
    {
      "cell_type": "code",
      "source": [
        "media = np.mean(resultado)\n",
        "print(media)\n"
      ],
      "metadata": {
        "colab": {
          "base_uri": "https://localhost:8080/"
        },
        "id": "3B9boxEa8CvF",
        "outputId": "f4c494a8-104d-4aa6-870b-1c7bfb6a6dd2"
      },
      "execution_count": 9,
      "outputs": [
        {
          "output_type": "stream",
          "name": "stdout",
          "text": [
            "0.013088002575920294\n"
          ]
        }
      ]
    },
    {
      "cell_type": "code",
      "source": [
        "varianza = np.var(resultado)\n",
        "print(varianza)"
      ],
      "metadata": {
        "colab": {
          "base_uri": "https://localhost:8080/"
        },
        "id": "aRVGIZy28KX0",
        "outputId": "710414fb-f296-40a6-9872-46e5d7c779ec"
      },
      "execution_count": 10,
      "outputs": [
        {
          "output_type": "stream",
          "name": "stdout",
          "text": [
            "1.029950941092818\n"
          ]
        }
      ]
    },
    {
      "cell_type": "code",
      "source": [
        "len (resultado)"
      ],
      "metadata": {
        "colab": {
          "base_uri": "https://localhost:8080/"
        },
        "id": "Q2CRJFOz8SCU",
        "outputId": "40881b1e-dac1-4355-ad3d-5ce36f987d48"
      },
      "execution_count": 11,
      "outputs": [
        {
          "output_type": "execute_result",
          "data": {
            "text/plain": [
              "2000"
            ]
          },
          "metadata": {},
          "execution_count": 11
        }
      ]
    }
  ]
}